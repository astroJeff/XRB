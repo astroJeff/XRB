{
 "cells": [
  {
   "cell_type": "markdown",
   "metadata": {},
   "source": [
    "# Testing PyBSE with bare-bones binary code"
   ]
  },
  {
   "cell_type": "code",
   "execution_count": 1,
   "metadata": {
    "collapsed": false
   },
   "outputs": [],
   "source": [
    "import numpy as np\n",
    "import matplotlib.pyplot as plt\n",
    "from scipy.stats import maxwell, norm, uniform, powerlaw, truncnorm\n",
    "from scipy.interpolate import interp1d\n",
    "import os\n",
    "import glob\n",
    "import pybse\n",
    "import time\n",
    "\n",
    "%matplotlib inline"
   ]
  },
  {
   "cell_type": "code",
   "execution_count": 2,
   "metadata": {
    "collapsed": true
   },
   "outputs": [],
   "source": [
    "G = 6.674e-8 # Gravitational constant in cgs\n",
    "GGG = 1.909e5 # Gravitational constant in Rsun * (km/s)^2 / Msun\n",
    "km_to_cm = 1.0e5 # km to cm\n",
    "Msun_to_g = 1.989e33 # Msun to g\n",
    "Rsun_to_cm = 6.995e10 # Rsun to cm\n",
    "AU_to_cm = 1.496e13 # AU to cm\n",
    "pc_to_cm = 3.086e18 # parsec to cm\n",
    "pc_to_km = 3.086e13 # parsec to km\n",
    "yr_to_sec = 31557600.0 # Sec in yr\n",
    "asec_to_rad = 4.84814e-6 # Arcsec to radians\n",
    "\n",
    "M_0 = 0.073 # in Msun\n",
    "xi = 0.704\n",
    "M_NS = 1.44\n",
    "#v_wind = 1000.0 # companion velocity in km/s\n",
    "R_NS = 12.0  # NS radius in km\n",
    "min_mass = 6.0\n",
    "max_mass = 39.0"
   ]
  },
  {
   "cell_type": "markdown",
   "metadata": {},
   "source": [
    "### Define population synthesis functions"
   ]
  },
  {
   "cell_type": "code",
   "execution_count": 3,
   "metadata": {
    "collapsed": true
   },
   "outputs": [],
   "source": [
    "# Define random deviate functions\n",
    "\n",
    "def get_v_k(sigma, N):\n",
    "    return maxwell.rvs(scale = sigma, size = N)\n",
    "\n",
    "def get_theta(N):\n",
    "    return np.arccos(1.0-2.0*uniform.rvs(size = N))\n",
    "\n",
    "def get_phi(N):\n",
    "    return 2.0*np.pi*uniform.rvs(size = N)\n",
    "\n",
    "def get_M1(x1, x2, alpha, N):\n",
    "\n",
    "    A = (alpha+1.0) / (np.power(x2, alpha+1.0) - np.power(x1, alpha+1.0))\n",
    "    x = uniform.rvs(size = N)\n",
    "    \n",
    "    return np.power(x*(alpha+1.0)/A + np.power(x1, alpha+1.0), 1.0/(alpha+1.0))\n",
    "    \n",
    "# Mass ratio - uniform [0.3,1.0]\n",
    "def get_q(N):\n",
    "    return 0.7 * uniform.rvs(size = N) + 0.3 \n",
    "    \n",
    "def get_A(a1, a2, N):\n",
    "    \n",
    "    x1 = np.log10(a1)\n",
    "    x2 = np.log10(a2)\n",
    "    \n",
    "    return np.power(10.0, (x2-x1)*uniform.rvs(size=N) + x1)\n",
    "\n",
    "def get_ecc(N):\n",
    "    return np.sqrt(uniform.rvs(size=N))\n",
    "\n",
    "def P_to_A(M1, M2, P):\n",
    "    mu = G * (M1 + M2) * Msun_to_g\n",
    "    n = 2.0*np.pi / P / yr_to_sec\n",
    "    A = np.power(mu/(n*n), 1.0/3.0) / AU_to_cm\n",
    "    return A\n",
    "    \n",
    "def A_to_P(M1, M2, A):\n",
    "    mu = G * (M1 + M2) * Msun_to_g\n",
    "    n = np.sqrt(mu/(A**3 * AU_to_cm**3))\n",
    "    P = 2.0*np.pi / n\n",
    "    return P / yr_to_sec\n",
    "\n"
   ]
  },
  {
   "cell_type": "code",
   "execution_count": 4,
   "metadata": {
    "collapsed": false
   },
   "outputs": [],
   "source": [
    "n_bin = 1000\n",
    "M1_i = get_M1(8.0, 40.0, -2.35, n_bin)\n",
    "M2_i = M1_i * get_q(n_bin)\n",
    "A_i = get_A(1.0e0, 1.0e3, n_bin)\n",
    "p_orb_i = A_to_P(M1_i, M2_i, A_i) * 365.25\n",
    "ecc_i = get_ecc(n_bin)\n",
    "v_kick = get_v_k(265.0, n_bin)\n",
    "theta_kick = get_theta(n_bin)\n",
    "phi_kick = get_phi(n_bin)\n",
    "tmax = 50.0\n",
    "z=0.008\n"
   ]
  },
  {
   "cell_type": "code",
   "execution_count": 5,
   "metadata": {
    "collapsed": false,
    "scrolled": true
   },
   "outputs": [
    {
     "name": "stdout",
     "output_type": "stream",
     "text": [
      "Ran 1000 binaries in 4.27301216125 seconds\n",
      "0\n"
     ]
    }
   ],
   "source": [
    "#print pybse.evolv_wrapper(n_bin, M1_i, M2_i, p_orb, ecc, v_kick, theta_kick, phi_kick, tmax, z) \n",
    "\n",
    "start_time = time.time()\n",
    "\n",
    "Macc_out = np.array([])\n",
    "M1_out = np.array([])\n",
    "M2_out = np.array([])\n",
    "ecc_out = np.array([])\n",
    "a_out = np.array([])\n",
    "\n",
    "\n",
    "for i in np.arange(n_bin):\n",
    "#    print \"In:\", M1_i[i], M2_i[i], p_orb_i[i], A_i[i], ecc_i[i], v_kick[i], theta_kick[i], phi_kick[i]\n",
    "    var_out = pybse.evolv_wrapper(1, M1_i[i], M2_i[i], p_orb_i[i], ecc_i[i], v_kick[i], theta_kick[i], \\\n",
    "                                  phi_kick[i], tmax, z, False)\n",
    "        \n",
    "    if var_out[0]>0.0 and var_out[1]>0.0 and var_out[2]>0.0 and var_out[4]!=15 and var_out[5]!=15 and \\\n",
    "        (var_out[6]>0.0 or var_out[7]>0.0) and \\\n",
    "        (var_out[4]==13 or var_out[4]==14 or var_out[5]==13 or var_out[5]==14):\n",
    "        \n",
    "        Macc_out = np.append(Macc_out, var_out[6])\n",
    "        M1_out = np.append(M1_out, var_out[0])\n",
    "        M2_out = np.append(M2_out, var_out[1])\n",
    "        a_out = np.append(a_out, var_out[2])\n",
    "        ecc_out = np.append(ecc_out, var_out[3])\n",
    "        \n",
    "    \n",
    "print \"Ran\", n_bin, \"binaries in\", time.time()-start_time, \"seconds\"\n",
    "# NOTE: Orbital separation output is in Rsun\n",
    "\n",
    "print len(Macc_out)\n"
   ]
  },
  {
   "cell_type": "code",
   "execution_count": 6,
   "metadata": {
    "collapsed": false
   },
   "outputs": [
    {
     "data": {
      "image/png": "[encoded data removed]",
      "text/plain": [
       "<matplotlib.figure.Figure at 0x116bd7f10>"
      ]
     },
     "metadata": {},
     "output_type": "display_data"
    },
    {
     "data": {
      "image/png": "[encoded data removed]",
      "text/plain": [
       "<matplotlib.figure.Figure at 0x11787c210>"
      ]
     },
     "metadata": {},
     "output_type": "display_data"
    }
   ],
   "source": [
    "plt.hist(np.log10(a_out), range=[-2, 9], bins=30, histtype='step', color='k')\n",
    "plt.show()\n",
    "plt.hist(np.log10(Macc_out[np.where(Macc_out>0.0)]), bins=30, histtype='step', color='k')\n",
    "plt.show()"
   ]
  },
  {
   "cell_type": "markdown",
   "metadata": {},
   "source": [
    "### Load SSE data"
   ]
  },
  {
   "cell_type": "code",
   "execution_count": 7,
   "metadata": {
    "collapsed": false
   },
   "outputs": [],
   "source": [
    "names = [\"time\",\"type\",\"mass\",\"mdot\",\"radius\"]\n",
    "\n",
    "f_list = glob.glob(\"../../data/sse_data/mdot_*.dat\")\n",
    "\n",
    "f_list = np.sort(f_list)\n",
    "\n",
    "# Create empty data storage structure\n",
    "sse_data = np.recarray(0, names=names, formats=['f8,float64,float64'])\n",
    "\n",
    "func_sse_mdot = np.array([])\n",
    "func_sse_mass = np.array([])\n",
    "func_sse_radius = np.array([])\n",
    "sse_tmp_mass = np.array([])\n",
    "sse_tmp_time = np.array([])\n",
    "sse_tmp_radius = np.array([])\n",
    "sse_tmp_MS_radius = np.array([])\n",
    "sse_tmp_ZAMS_radius = np.array([])\n",
    "\n",
    "for f in f_list:\n",
    "    datafile = os.path.abspath(f)\n",
    "#    sse_tmp_data = np.genfromtxt(datafile, usecols=(0,2,3,4), dtype=\"f8,float64,float64,float64\", skip_header=1, names=names)\n",
    "    sse_tmp_data = np.genfromtxt(datafile, dtype=\"f8,int,float64,float64,float64\", skip_header=1, names=names)\n",
    "    \n",
    "#    func_sse_mass = np.append(func_sse_mass, interp1d(sse_tmp_data[\"time\"], sse_tmp_data[\"mass\"], bounds_error=False, fill_value=0.0))    \n",
    "#    func_sse_mdot = np.append(func_sse_mdot, interp1d(sse_tmp_data[\"time\"], sse_tmp_data[\"mdot\"], bounds_error=False, fill_value=0.0))\n",
    "    func_sse_mass = np.append(func_sse_mass, interp1d(sse_tmp_data[\"time\"], sse_tmp_data[\"mass\"], bounds_error=False, fill_value=sse_tmp_data[\"mass\"][-1]))    \n",
    "    func_sse_mdot = np.append(func_sse_mdot, interp1d(sse_tmp_data[\"time\"], sse_tmp_data[\"mdot\"], bounds_error=False, fill_value=0.0))\n",
    "    func_sse_radius = np.append(func_sse_radius, interp1d(sse_tmp_data[\"time\"], sse_tmp_data[\"radius\"], bounds_error=False, fill_value=0.0))\n",
    "    \n",
    "    sse_tmp_time = np.append(sse_tmp_time, max(sse_tmp_data[\"time\"])-1.0)\n",
    "    sse_tmp_mass = np.append(sse_tmp_mass, sse_tmp_data[\"mass\"][0])\n",
    "    sse_tmp_ZAMS_radius = np.append(sse_tmp_ZAMS_radius, sse_tmp_data[\"radius\"][0])\n",
    "    sse_tmp_radius = np.append(sse_tmp_radius, max(sse_tmp_data[\"radius\"]))\n",
    "    sse_tmp_MS_radius = np.append(sse_tmp_MS_radius, max(sse_tmp_data[\"radius\"][np.where(sse_tmp_data[\"type\"]==1)]))\n",
    "\n",
    "# Lifetime function\n",
    "func_sse_tmax = interp1d(sse_tmp_mass, sse_tmp_time, bounds_error=False, fill_value=0.0)\n",
    "func_sse_min_mass = interp1d(sse_tmp_time, sse_tmp_mass, bounds_error=False, fill_value=1.0)\n",
    "func_sse_r_ZAMS = interp1d(sse_tmp_mass, sse_tmp_ZAMS_radius, bounds_error=False, fill_value=0.0)\n",
    "func_sse_rmax = interp1d(sse_tmp_mass, sse_tmp_radius, bounds_error=False, fill_value=0.0)\n",
    "func_sse_r_MS_max = interp1d(sse_tmp_mass, sse_tmp_MS_radius, bounds_error=False, fill_value=0.0)"
   ]
  },
  {
   "cell_type": "code",
   "execution_count": 8,
   "metadata": {
    "collapsed": true
   },
   "outputs": [],
   "source": [
    "def func_get_sse_star(mass, time):\n",
    "\n",
    "    mass_out = np.array([])\n",
    "    mdot_out = np.array([])\n",
    "    radius_out = np.array([])\n",
    "\n",
    "    if isinstance(mass, np.ndarray):\n",
    "        \n",
    "        if len(mass) == 1:\n",
    "            mass_out = np.append(mass_out, func_sse_mass[int(mass*100.0)-100](time))\n",
    "            mdot_out = np.append(mdot_out, func_sse_mdot[int(mass*100.0)-100](time))        \n",
    "            radius_out = np.append(radius_out, func_sse_radius[int(mass*100.0)-100](time))\n",
    "        else:\n",
    "            for i in np.arange(len(mass)):\n",
    "                if (int(mass[i]*100.0)-100<0 or int(mass[i]*100.0)-100>len(func_sse_mass)): continue\n",
    "                mass_out = np.append(mass_out, func_sse_mass[int(mass[i]*100.0)-100](time[i]))\n",
    "                mdot_out = np.append(mdot_out, func_sse_mdot[int(mass[i]*100.0)-100](time[i]))\n",
    "                radius_out = np.append(radius_out, func_sse_radius[int(mass[i]*100.0)-100](time[i]))\n",
    "    else:\n",
    "        mass_out = np.append(mass_out, func_sse_mass[int(mass*100.0)-100](time))\n",
    "        mdot_out = np.append(mdot_out, func_sse_mdot[int(mass*100.0)-100](time))\n",
    "        radius_out = np.append(radius_out, func_sse_radius[int(mass*100.0)-100](time))\n",
    "            \n",
    "    return mass_out, mdot_out, radius_out\n",
    "    "
   ]
  },
  {
   "cell_type": "code",
   "execution_count": 9,
   "metadata": {
    "collapsed": true
   },
   "outputs": [],
   "source": [
    "names = [\"mass\",\"he_mass\",\"t_ms\"]\n",
    "f = \"../../data/sse_data/He_star.dat\"\n",
    "\n",
    "sse_he_star = np.genfromtxt(os.path.abspath(f), usecols=(0,1,2), names=names)\n",
    "\n",
    "func_sse_he_mass = interp1d(sse_he_star[\"mass\"], sse_he_star[\"he_mass\"], bounds_error=False, fill_value=0.001)\n",
    "func_sse_ms_time = interp1d(sse_he_star[\"mass\"], sse_he_star[\"t_ms\"], bounds_error=False, fill_value=-1.0e10)"
   ]
  },
  {
   "cell_type": "code",
   "execution_count": 10,
   "metadata": {
    "collapsed": false
   },
   "outputs": [],
   "source": [
    "# To Do: Check for thermal timescale MT criterion\n",
    "\n",
    "def func_MT_forward(M_1_in, M_2_in, A_in, ecc_in):\n",
    "\n",
    "#    M_1_out = M_0 * M_1_in**(1./xi)\n",
    "    M_1_out = func_sse_he_mass(M_1_in)\n",
    "#    M_1_out = 3.7\n",
    "    M_2_out = M_1_in + M_2_in - M_1_out    \n",
    "    A_out = A_in * (1.0-ecc_in) * (M_1_in*M_2_in/M_1_out/M_2_out)**2\n",
    "        \n",
    "    # Make sure systems don't overfill their Roche lobes\n",
    "#    r_1_max = func_sse_rmax(M_1_out)\n",
    "    r_1_max = func_sse_r_MS_max(M_1_out)\n",
    "    r_1_roche = func_Roche_radius(M_1_in, M_2_in, A_in)\n",
    "#    r_2_max = func_sse_rmax(M_2_out)\n",
    "    r_2_max = func_sse_r_MS_max(M_2_out)\n",
    "    r_2_roche = func_Roche_radius(M_2_in, M_1_in, A_in)\n",
    "        \n",
    "    if isinstance(A_out, np.ndarray):\n",
    "        A_out[np.where(r_1_max > r_1_roche)] = -1.0\n",
    "        A_out[np.where(r_2_max > r_2_roche)] = -1.0\n",
    "    else:\n",
    "        if r_1_max > r_1_roche or r_2_max > r_2_roche: A_out = -1.0\n",
    "    \n",
    "    return M_1_out, M_2_out, A_out\n",
    "    \n",
    "def func_MT_backward(M_1_in, M_2_in, A_in):\n",
    "    \n",
    "    M_1_out = (M_1_in/M_0)**xi\n",
    "    M_2_out = M_2_in - M_1_out + M_1_in\n",
    "    A_out = A_in * (M_1_in*M_2_in/M_1_out/M_2_out)*(M_1_in*M_2_in/M_1_out/M_2_out)\n",
    "\n",
    "    return M_1_out, M_2_out, A_out\n",
    "\n",
    "\n",
    "def func_Roche_radius(M1, M2, A):\n",
    "    q = M1 / M2\n",
    "    return A * 0.49*q**(2.0/3.0) / (0.6*q**(2.0/3.0) + np.log(1.0 + q**(1.0/3.0)))"
   ]
  },
  {
   "cell_type": "code",
   "execution_count": 11,
   "metadata": {
    "collapsed": false
   },
   "outputs": [
    {
     "data": {
      "image/png": "[encoded data removed]",
      "text/plain": [
       "<matplotlib.figure.Figure at 0x1179bc050>"
      ]
     },
     "metadata": {},
     "output_type": "display_data"
    }
   ],
   "source": [
    "M1 = np.linspace(5.0, 39.0, 100)\n",
    "M1_core_approx = M_1_out = M_0 * M1**(1./xi)\n",
    "M1_core_sse = func_sse_he_mass(M1)\n",
    "\n",
    "plt.plot(M1, M1_core_approx)\n",
    "plt.plot(M1, M1_core_sse)\n",
    "    \n",
    "plt.show()"
   ]
  },
  {
   "cell_type": "code",
   "execution_count": 12,
   "metadata": {
    "collapsed": true
   },
   "outputs": [],
   "source": [
    "def func_SN_forward(M_1_in, M_2, A_in, v_k, theta, phi):\n",
    "    if isinstance(A_in, np.ndarray):\n",
    "        A_in[np.where(A_in<=0.0)] = 1.0e-50\n",
    "    else:\n",
    "        if A_in<=0.0: A_in = 1.0e-50\n",
    "\n",
    "    v_r = np.sqrt(GGG*(M_1_in + M_2)/A_in)\n",
    "    v_1 = np.sqrt(2.0*v_k*v_r*np.cos(theta) + v_k*v_k + v_r*v_r)\n",
    "    \n",
    "    A_out = 1.0 / (2.0/A_in - v_1*v_1/(GGG*(M_NS+M_2)))\n",
    "#    v_sys = (M_NS / (M_NS + M_2)) * v_1\n",
    "    \n",
    "    # Systemic velocity    \n",
    "    alpha = (M_1_in / (M_1_in + M_2))    \n",
    "    beta = (M_NS / (M_NS + M_2))\n",
    "    \n",
    "    v_sys = beta*beta*v_k*v_k\n",
    "    v_sys = v_sys + v_r*v_r*(beta-alpha)*(beta-alpha)\n",
    "    v_sys = v_sys + 2.0*beta*v_k*v_r*np.cos(theta)*(beta-alpha)\n",
    "    v_sys = np.sqrt(v_sys)\n",
    "    \n",
    "    # Eccentricity\n",
    "    e_tmp = v_k*v_k*np.cos(theta)*np.cos(theta) \n",
    "    e_tmp = e_tmp + v_k*v_k*np.sin(theta)*np.sin(theta)*np.sin(phi)*np.sin(phi) \n",
    "    e_tmp = e_tmp + 2.0*v_k*v_r*np.cos(theta)\n",
    "    e_tmp = e_tmp + v_r*v_r\n",
    "    e_tmp = 1.0 - (A_in*A_in)/(A_out*GGG*(M_NS+M_2)) * e_tmp\n",
    "        \n",
    "    if isinstance(e_tmp, np.ndarray):\n",
    "        \n",
    "        ecc = np.sqrt(e_tmp)\n",
    "        ecc[np.where(e_tmp < 0.0)] = -1.0\n",
    "        ecc[np.where(e_tmp > 1.0)] = -1.0\n",
    "        ecc[np.where(M_2 < min_mass)] = -1.0\n",
    "        ecc[np.where(A_in < 1.0e-10)] = -1.0\n",
    "#        ecc = np.array([np.sqrt(x) if x > 0.0 or M_2 > min_mass or A_in>1.0e-10 else -1.0 for x in e_tmp])\n",
    "    else:\n",
    "        if e_tmp < 0.0 or M_2 < min_mass or A_in < 1.0e-10: return A_out, v_sys, -1.0\n",
    "        ecc = np.sqrt(e_tmp)\n",
    "    \n",
    "    return A_out, v_sys, ecc\n",
    "\n"
   ]
  },
  {
   "cell_type": "code",
   "execution_count": 13,
   "metadata": {
    "collapsed": false
   },
   "outputs": [],
   "source": [
    "# To Do: What happens when companion's lifetime falls between primary's MS lifetime and stellar lifetime?\n",
    "# To Do: Remove RLOF systems\n",
    "\n",
    "def func_get_time(M1, M2, t_obs):\n",
    "\n",
    "    t_lifetime_1 = func_sse_ms_time(M1)\n",
    "    he_mass_1 = func_sse_he_mass(M1)\n",
    "    \n",
    "    t_lifetime_2 = func_sse_ms_time(M2)\n",
    "    he_mass_2 = func_sse_he_mass(M2)\n",
    "    \n",
    "    # Relative lifetime through star 2 at mass gain\n",
    "    he_mass = t_lifetime_1/t_lifetime_2 * he_mass_2\n",
    "    \n",
    "    # Get new secondary parameters\n",
    "    mass_new = M2 + M1 - he_mass_1\n",
    "    t_lifetime_new = func_sse_ms_time(mass_new)\n",
    "    he_mass_new = func_sse_he_mass(mass_new)\n",
    "\n",
    "    # New, effective lifetime\n",
    "    t_eff = he_mass / he_mass_new * t_lifetime_new\n",
    "    \n",
    "    # Now, we obtain the \"effective observed time\"\n",
    "    return t_eff + t_obs - t_lifetime_1\n",
    "         \n",
    "    \n",
    "    \n",
    "def get_v_wind(mass, radius):\n",
    "    \n",
    "    slope = (7.0 - 0.5) / (120.0 - 1.4)\n",
    "    intercept = 7.0 - 120.0 * slope\n",
    "    \n",
    "    beta = slope * mass + intercept\n",
    "    \n",
    "    # TEST\n",
    "    beta = 0.125\n",
    "    # TEST\n",
    "    \n",
    "    # For systems with radius = 0.0, set wind arbitrarily high\n",
    "    if isinstance(radius, np.ndarray):\n",
    "        one_over_radius = 1.0e50 * np.ones(len(radius))\n",
    "        one_over_radius[np.where(radius>0.0)] = 1.0 / radius[np.where(radius>0.0)]\n",
    "    else:\n",
    "        one_over_radius = 1.0e50\n",
    "        if radius>0.0: one_over_radius = 1.0/radius\n",
    "    \n",
    "    return np.sqrt(2.0 * beta * GGG * mass * one_over_radius)\n",
    "    \n",
    "    \n",
    "    \n",
    "def func_Lx_forward(M_1_a, M_2_a, M_2_in, A_in, ecc_in, t_obs):\n",
    "    \n",
    "    t_eff_obs = func_get_time(M_1_a, M_2_a, t_obs)\n",
    "    \n",
    "    if isinstance(t_eff_obs, np.ndarray):\n",
    "        M_2_out = np.array([])\n",
    "        M_dot_wind = np.array([])\n",
    "        R_out = np.array([])\n",
    "        for i in np.arange(len(t_eff_obs)):\n",
    "            if (t_eff_obs[i] < 0.0 or ecc_in[i] < 0.0 or ecc_in[i] >= 1.0): \n",
    "                ecc_in[i] = 0.0\n",
    "                if isinstance(M_2_in, np.ndarray):\n",
    "                    M_2_out = np.append(M_2_out, M_2_in[i])\n",
    "                else:\n",
    "                    M_2_out = np.append(M_2_out, M_2_in)\n",
    "                M_dot_wind = np.append(M_dot_wind, 0.0)\n",
    "                R_out = np.append(R_out, 0.0)\n",
    "            else:\n",
    "                if isinstance(M_2_in, np.ndarray):\n",
    "                    if M_2_in[i] > max_mass: \n",
    "                        a, b, c = 0.0, 0.0, 0.0\n",
    "                    else:\n",
    "                        a, b, c = func_get_sse_star(M_2_in[i], t_eff_obs[i])\n",
    "                else:\n",
    "                    if M_2_in > max_mass: \n",
    "                        a, b, c = 0.0, 0.0, 0.0\n",
    "                    else:\n",
    "                        a, b, c = func_get_sse_star(M_2_in, t_eff_obs[i])\n",
    "\n",
    "                M_2_out = np.append(M_2_out, a)\n",
    "                M_dot_wind = np.append(M_dot_wind, b)    \n",
    "                R_out = np.append(R_out, c)\n",
    "    else:\n",
    "        if (t_eff_obs < 0.0 or M_2_in > max_mass or ecc_in < 0.0 or ecc_in > 1.0): \n",
    "            M_2_out = M_2_in\n",
    "            M_dot_wind = 0.0\n",
    "            R_out = 0.0\n",
    "            ecc_in = 0.0\n",
    "        else:\n",
    "            M_2_out, M_dot_wind, R_out = func_get_sse_star(M_2_in, t_eff_obs)\n",
    "\n",
    "          \n",
    "    # Get wind velocity\n",
    "    v_wind = get_v_wind(M_2_out, R_out)\n",
    "    if isinstance(v_wind, np.ndarray):\n",
    "        v_wind[np.where(v_wind <= 0.0)] = 1.0e50 # To eliminate \"bad\" winds\n",
    "    else:\n",
    "        if v_wind <= 0.0: v_wind = 1.0e50\n",
    "    \n",
    "    # Get final orbital separation\n",
    "    if isinstance(A_in, np.ndarray):\n",
    "        A_in[np.where(A_in <= 0.0)] = 1.0e50 # To eliminate \"bad\" separations\n",
    "    else:\n",
    "        if A_in <= 0.0: A_in = 1.0e50\n",
    "    A_out = (M_NS + M_2_in) / (M_NS + M_2_out) * A_in\n",
    "    \n",
    "    # Capture fraction takes into account eccentricity\n",
    "    f_capture = (GGG*M_NS / (v_wind*v_wind*A_out))**2 / np.sqrt(1.0 - ecc_in**2)\n",
    "    M_dot_out = f_capture * M_dot_wind\n",
    "        \n",
    "    L_bol = GGG * M_NS * M_dot_out / R_NS * km_to_cm * Msun_to_g * Rsun_to_cm / yr_to_sec\n",
    "    L_x = L_bol\n",
    "    \n",
    "#    print v_wind, R_out, M_2_in, t_eff_obs\n",
    "        \n",
    "    \n",
    "    return M_2_out, L_x, M_dot_out, A_out\n",
    "    "
   ]
  },
  {
   "cell_type": "code",
   "execution_count": 14,
   "metadata": {
    "collapsed": false
   },
   "outputs": [
    {
     "name": "stdout",
     "output_type": "stream",
     "text": [
      "(array(3.27144623), 23.228553770000001, 4015.2122177691213)\n"
     ]
    }
   ],
   "source": [
    "print func_MT_forward(13.7, 12.8, 754.0, 0.0)"
   ]
  },
  {
   "cell_type": "code",
   "execution_count": 15,
   "metadata": {
    "collapsed": true
   },
   "outputs": [],
   "source": [
    "def full_forward(M1, M2, A, ecc, v_k, theta, phi, t_obs):\n",
    "\n",
    "    # Star does not make it to MT phase\n",
    "    if t_obs < func_sse_ms_time(M1): return M1, M2, 0.0, 0.0, 0.0, A\n",
    "        \n",
    "    # MT phase\n",
    "    M_1_b, M_2_b, A_b = func_MT_forward(M1, M2, A, ecc)\n",
    "        \n",
    "    # Star does not make it to SN\n",
    "    if t_obs < func_sse_tmax(M1): return M_1_b, M_2_b, 0.0, 0.0, 0.0, A_b\n",
    "    \n",
    "    # SN\n",
    "    A_tmp, v_sys_tmp, e_tmp = func_SN_forward(M_1_b, M_2_b, A_b, v_k, theta, phi)\n",
    "                       \n",
    "    # XRB\n",
    "    M_2_tmp, L_x_tmp, M2_dot_out, A_out = func_Lx_forward(M1, M2, M_2_b, A_tmp, e_tmp, t_obs)\n",
    "\n",
    "    return M_NS, M_2_tmp, L_x_tmp, v_sys_tmp, M2_dot_out, A_out"
   ]
  },
  {
   "cell_type": "code",
   "execution_count": 16,
   "metadata": {
    "collapsed": false
   },
   "outputs": [
    {
     "data": {
      "image/png": "[encoded data removed]",
      "text/plain": [
       "<matplotlib.figure.Figure at 0x1179c6350>"
      ]
     },
     "metadata": {},
     "output_type": "display_data"
    }
   ],
   "source": [
    "fig = plt.figure(figsize=(14, 3.5))\n",
    "ax1 = fig.add_subplot(1,4,1)\n",
    "ax2 = fig.add_subplot(1,4,2)\n",
    "ax3 = fig.add_subplot(1,4,3)\n",
    "ax4 = fig.add_subplot(1,4,4)\n",
    "\n",
    "\n",
    "M1_test = 14.0\n",
    "M2_test = 13.0\n",
    "A_test = 738.0\n",
    "P_orb_test = A_to_P(M1_test, M2_test, A_test*Rsun_to_cm/AU_to_cm) * 365.25\n",
    "ecc_test = 0.0\n",
    "v_k_test = 0.0\n",
    "theta_test = 3.0\n",
    "phi_test = 1.0\n",
    "tmax = 30.0\n",
    "z = 0.02\n",
    "\n",
    "# print P_orb_test\n",
    "\n",
    "aout_simple = np.array([])\n",
    "mdot_simple = np.array([])\n",
    "m1_simple = np.array([])\n",
    "m2_simple = np.array([])\n",
    "\n",
    "aout_bse = np.array([])\n",
    "mdot_bse = np.array([])\n",
    "m1_bse = np.array([])\n",
    "m2_bse = np.array([])\n",
    "\n",
    "test_times = np.linspace(13.0, 20.0, 29) \n",
    "\n",
    "for tmax in test_times:\n",
    "    temp_out = full_forward(M1_test, M2_test, A_test, ecc_test, v_k_test, theta_test, phi_test, tmax)\n",
    "        \n",
    "    if isinstance(temp_out[2], np.ndarray):\n",
    "        aout_simple = np.append(aout_simple, temp_out[5][0])\n",
    "    else:\n",
    "        aout_simple = np.append(aout_simple, temp_out[5])\n",
    "        \n",
    "    \n",
    "    if isinstance(temp_out[3], np.ndarray): \n",
    "        mdot_simple = np.append(mdot_simple, temp_out[4][0])\n",
    "        m1_simple = np.append(m1_simple, temp_out[0][0])\n",
    "        m2_simple = np.append(m2_simple, temp_out[1][0])\n",
    "    else:\n",
    "        mdot_simple = np.append(mdot_simple, temp_out[4])\n",
    "        m1_simple = np.append(m1_simple, temp_out[0])\n",
    "        m2_simple = np.append(m2_simple, temp_out[1])\n",
    "        \n",
    "    var_out = pybse.evolv_wrapper(1, M1_test, M2_test, P_orb_test, ecc_test, v_k_test, theta_test, \\\n",
    "                                  phi_test, tmax, z, True)\n",
    "    mdot_bse = np.append(mdot_bse, var_out[6])\n",
    "    aout_bse = np.append(aout_bse, var_out[2])\n",
    "    m1_bse = np.append(m1_bse, var_out[0])\n",
    "    m2_bse = np.append(m2_bse, var_out[1])\n",
    "#    if var_out[6] != 0.0: print tmax, var_out\n",
    "        \n",
    "    \n",
    "ax1.plot(test_times, mdot_simple, label='Simple')\n",
    "ax1.plot(test_times, mdot_bse, label='BSE')\n",
    "ax1.set_xlabel(r\"${\\rm Time\\ (Myr)}$\")\n",
    "ax1.set_ylabel(r\"$\\dot{M}$\")\n",
    "#print \"Simple version Mdot out:\", simple_out[3][0]\n",
    "\n",
    "ax1.set_yscale('log')\n",
    "ax1.set_ylim(1.0e-17, 1.0e-6)\n",
    "\n",
    "\n",
    "\n",
    "#for i in np.arange(len(test_times)):\n",
    "#    t = test_times[i]\n",
    "#    print t, aout_bse[i], aout_simple[i]\n",
    "\n",
    "ax2.plot(test_times, aout_simple)\n",
    "ax2.plot(test_times, aout_bse)    \n",
    "ax2.set_xlabel(r\"${\\rm Time\\ (Myr)}$\")\n",
    "ax2.set_ylabel(r\"a\")\n",
    "\n",
    "ax3.plot(test_times, m1_simple)\n",
    "ax3.plot(test_times, m1_bse)\n",
    "ax3.set_xlabel(r\"${\\rm Time\\ (Myr)}$\")\n",
    "ax3.set_ylabel(r\"$M_1$\")\n",
    "\n",
    "ax4.plot(test_times, m2_simple)\n",
    "ax4.plot(test_times, m2_bse)\n",
    "ax4.set_xlabel(r\"${\\rm Time\\ (Myr)}$\")\n",
    "ax4.set_ylabel(r\"$M_2$\")\n",
    "\n",
    "ax1.legend(loc=2)\n",
    "\n",
    "plt.tight_layout()\n",
    "\n",
    "\n",
    "plt.show()\n",
    "#plt.savefig(\"test_J_BSE_prescription.pdf\")\n",
    "#plt.savefig(\"test_J_conserved.pdf\")\n",
    "#print var_out[6]"
   ]
  },
  {
   "cell_type": "code",
   "execution_count": 17,
   "metadata": {
    "collapsed": false
   },
   "outputs": [
    {
     "name": "stdout",
     "output_type": "stream",
     "text": [
      "J_orb init: 18528603.7736\n",
      "J_orb final: 18010683.3903\n",
      "J_orb lost: -517920.383239\n",
      "Naive lost (star 1): 164638.006408\n",
      "Naive lost (star 2): 878579.462338\n"
     ]
    }
   ],
   "source": [
    "#2.8e6 * 0.2 * 14.0 / 27.0\n",
    "J_orb_tot_i = (2.8e6 * 13.7*12.8) / (13.7+12.8)\n",
    "J_orb_tot_f = (5.48e6 * 3.85*22.46) / (3.85+22.46)\n",
    "J_lost_naive1 = 2.8e6 * 0.22 * (13.7/26.5)**2 \n",
    "J_lost_naive2 = 5.48e6 * 0.22 * (22.46/26.31)**2\n",
    "\n",
    "print \"J_orb init:\", J_orb_tot_i\n",
    "print \"J_orb final:\", J_orb_tot_f\n",
    "print \"J_orb lost:\", J_orb_tot_f - J_orb_tot_i\n",
    "print \"Naive lost (star 1):\", J_lost_naive1\n",
    "print \"Naive lost (star 2):\", J_lost_naive2"
   ]
  },
  {
   "cell_type": "code",
   "execution_count": 18,
   "metadata": {
    "collapsed": false
   },
   "outputs": [
    {
     "data": {
      "image/png": "[encoded data removed]",
      "text/plain": [
       "<matplotlib.figure.Figure at 0x117a5aad0>"
      ]
     },
     "metadata": {},
     "output_type": "display_data"
    }
   ],
   "source": [
    "plt.plot(test_times, m1_simple)\n",
    "plt.plot(test_times, m1_bse)\n",
    "plt.xlabel(r\"${\\rm Time\\ (Myr)}$\")\n",
    "plt.ylabel(r\"$M_1$\")\n",
    "plt.xlim(15.0, 20.0)\n",
    "plt.ylim(1.3, 1.5)\n",
    "\n",
    "plt.show()"
   ]
  },
  {
   "cell_type": "code",
   "execution_count": 28,
   "metadata": {
    "collapsed": false
   },
   "outputs": [
    {
     "name": "stdout",
     "output_type": "stream",
     "text": [
      "16232.5105871 21413.7050781\n",
      "1.44 1.47504985332\n",
      "5.02676916 4.3877325058\n",
      "18011.6504554\n"
     ]
    }
   ],
   "source": [
    "print aout_simple[-1], aout_bse[-1]\n",
    "print m1_simple[-1], m1_bse[-1]\n",
    "print m2_simple[-1], m2_bse[-1]\n",
    "\n",
    "\n",
    "print (m1_simple[-1]+m2_simple[-1])*aout_simple[-1]/(m1_simple[-1] + 4.388)"
   ]
  },
  {
   "cell_type": "markdown",
   "metadata": {},
   "source": [
    "### CV test"
   ]
  },
  {
   "cell_type": "code",
   "execution_count": null,
   "metadata": {
    "collapsed": false
   },
   "outputs": [],
   "source": [
    "n_bin = 1\n",
    "M1_i = 6.0\n",
    "M2_i = 1.3\n",
    "p_orb = 630.0 # in days\n",
    "ecc = 0.0\n",
    "v_kick = 2.0\n",
    "theta_kick = 1.2\n",
    "phi_kick = 0.1\n",
    "tmax = 500\n",
    "z = 0.02\n",
    "\n",
    "m1_out, m2_out, a_out, ecc_out, k1_out, k2_out, mdot1_out, mdot2_out = pybse.evolv_wrapper(n_bin, M1_i, \\\n",
    "                                                M2_i, p_orb, ecc, v_kick, theta_kick, phi_kick, tmax, z, False) \n",
    "\n",
    "print m1_out, m2_out, a_out, ecc_out, k1_out, k2_out, mdot1_out, mdot2_out\n"
   ]
  },
  {
   "cell_type": "code",
   "execution_count": null,
   "metadata": {
    "collapsed": false
   },
   "outputs": [],
   "source": [
    "print P_to_A(0.8,0.85,8.5/24.0/365.25) * AU_to_cm * 2.0 * np.pi / (8.5*3600.0) / 1.0e5"
   ]
  },
  {
   "cell_type": "code",
   "execution_count": null,
   "metadata": {
    "collapsed": true
   },
   "outputs": [],
   "source": []
  },
  {
   "cell_type": "code",
   "execution_count": null,
   "metadata": {
    "collapsed": true
   },
   "outputs": [],
   "source": []
  },
  {
   "cell_type": "code",
   "execution_count": 45,
   "metadata": {
    "collapsed": false
   },
   "outputs": [
    {
     "name": "stdout",
     "output_type": "stream",
     "text": [
      "1.989e+34 10000000.0 6.30276066621e+17 1.496e+14\n",
      "1.77467727273 2.24108209046e-19\n",
      "Orbital Energy: -8.82458273864e+46\n",
      "Energy decay rate: 4.96260375553e+29\n"
     ]
    }
   ],
   "source": [
    "mass = 10.0 * Msun_to_g\n",
    "v_wind = 100.0 * 1.0e5\n",
    "mass_dot = 1.0e-8 * Msun_to_g / yr_to_sec\n",
    "rad = 10.0 * AU_to_cm\n",
    "\n",
    "print mass, v_wind, mass_dot, rad\n",
    "\n",
    "R_a = 2.0 * G * mass / v_wind**2\n",
    "rho_0 = mass_dot / v_wind / (4.0*np.pi*rad**2)\n",
    "print R_a/AU_to_cm, rho_0\n",
    "\n",
    "L_df = np.pi*R_a**2*rho_0*v_wind**3\n",
    "\n",
    "print \"Orbital Energy:\", -G*mass**2/(2.0*rad)\n",
    "print \"Energy decay rate:\", L_df"
   ]
  },
  {
   "cell_type": "code",
   "execution_count": null,
   "metadata": {
    "collapsed": true
   },
   "outputs": [],
   "source": []
  }
 ],
 "metadata": {
  "kernelspec": {
   "display_name": "Python 2",
   "language": "python",
   "name": "python2"
  },
  "language_info": {
   "codemirror_mode": {
    "name": "ipython",
    "version": 2
   },
   "file_extension": ".py",
   "mimetype": "text/x-python",
   "name": "python",
   "nbconvert_exporter": "python",
   "pygments_lexer": "ipython2",
   "version": "2.7.10"
  }
 },
 "nbformat": 4,
 "nbformat_minor": 0
}
