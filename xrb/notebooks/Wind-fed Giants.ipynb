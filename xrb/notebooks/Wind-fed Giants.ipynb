{
 "cells": [
  {
   "cell_type": "code",
   "execution_count": 1,
   "metadata": {
    "collapsed": true
   },
   "outputs": [],
   "source": [
    "# Create plots from saved pickles of SMC HMXB simulations\n",
    "from xrb.src.core import *\n",
    "set_data_path(\"../../data\")\n",
    "\n",
    "import matplotlib.pyplot as plt\n",
    "import matplotlib.gridspec as gridspec\n",
    "from matplotlib import font_manager\n",
    "import corner\n",
    "import pickle\n",
    "\n",
    "from xrb.SF_history import sf_history\n",
    "from xrb.src import stats\n",
    "from xrb.pop_synth import pop_synth\n",
    "from xrb.binary import binary_evolve, load_sse\n",
    "\n",
    "%matplotlib inline"
   ]
  },
  {
   "cell_type": "code",
   "execution_count": 3,
   "metadata": {
    "collapsed": false
   },
   "outputs": [],
   "source": [
    "sampler = pickle.load( open( INDATA(\"SMC_MCMC_sampler.obj\"), \"rb\" ) )\n",
    "# HMXB = pickle.load( open( INDATA(\"SMC_MCMC_HMXB_full.obj\"), \"rb\" ) )"
   ]
  },
  {
   "cell_type": "code",
   "execution_count": 4,
   "metadata": {
    "collapsed": false
   },
   "outputs": [
    {
     "name": "stdout",
     "output_type": "stream",
     "text": [
      "(1.35, array([ 24.91875723]), array([  7.07184070e+33]), 47.951938799994934, array([  4.14937779e-12]), array([ 41.23117785]), 0.66935779437879983, array([ 0.00342578]), 1)\n"
     ]
    }
   ],
   "source": [
    "M1, M2, a, ecc, v_k, theta_k, phi_k, ra, dec, time = sampler.flatchain[0]\n",
    "\n",
    "print pop_synth.full_forward(M1, M2, a, ecc, v_k, theta_k, phi_k, time)"
   ]
  },
  {
   "cell_type": "code",
   "execution_count": 5,
   "metadata": {
    "collapsed": false,
    "scrolled": true
   },
   "outputs": [
    {
     "name": "stdout",
     "output_type": "stream",
     "text": [
      "0\n",
      "100000\n",
      "200000\n",
      "300000\n",
      "400000\n",
      "500000\n",
      "600000\n",
      "700000\n",
      "800000\n",
      "900000\n",
      "1000000\n",
      "1100000\n",
      "1200000\n",
      "1300000\n",
      "1400000\n",
      "1500000\n",
      "1600000\n",
      "1700000\n",
      "1800000\n",
      "1900000\n",
      "2000000\n",
      "2100000\n",
      "2200000\n",
      "2300000\n",
      "2400000\n",
      "2500000\n",
      "2600000\n",
      "2700000\n",
      "2800000\n",
      "2900000\n",
      "3000000\n",
      "3100000\n",
      "3200000\n",
      "3300000\n",
      "3400000\n",
      "3500000\n",
      "3600000\n",
      "3700000\n",
      "3800000\n",
      "3900000\n",
      "4000000\n",
      "4100000\n",
      "4200000\n",
      "4300000\n",
      "4400000\n",
      "4500000\n",
      "4600000\n",
      "4700000\n",
      "4800000\n",
      "4900000\n",
      "5000000\n",
      "5100000\n",
      "5200000\n",
      "5300000\n",
      "5400000\n",
      "5500000\n",
      "5600000\n",
      "5700000\n",
      "5800000\n",
      "5900000\n",
      "6000000\n",
      "6100000\n",
      "6200000\n",
      "6300000\n",
      "6400000\n",
      "6500000\n",
      "6600000\n",
      "6700000\n",
      "6800000\n",
      "6900000\n",
      "7000000\n",
      "7100000\n",
      "7200000\n",
      "7300000\n",
      "7400000\n",
      "7500000\n",
      "7600000\n",
      "7700000\n",
      "7800000\n",
      "7900000\n",
      "8000000\n",
      "8100000\n",
      "8200000\n",
      "8300000\n",
      "8400000\n",
      "8500000\n",
      "8600000\n",
      "8700000\n",
      "8800000\n",
      "8900000\n",
      "9000000\n",
      "9100000\n",
      "9200000\n",
      "9300000\n",
      "9400000\n",
      "9500000\n",
      "9600000\n",
      "9700000\n",
      "9800000\n",
      "9900000\n",
      "10000000\n",
      "10100000\n",
      "10200000\n",
      "10300000\n",
      "10400000\n",
      "10500000\n",
      "10600000\n",
      "10700000\n",
      "10800000\n",
      "10900000\n",
      "11000000\n",
      "11100000\n",
      "11200000\n",
      "11300000\n",
      "11400000\n",
      "11500000\n",
      "11600000\n",
      "11700000\n",
      "11800000\n",
      "11900000\n",
      "12000000\n",
      "12100000\n",
      "12200000\n",
      "12300000\n",
      "12400000\n",
      "12500000\n",
      "12600000\n",
      "12700000\n",
      "12800000\n",
      "12900000\n",
      "13000000\n",
      "13100000\n",
      "13200000\n",
      "13300000\n",
      "13400000\n",
      "13500000\n",
      "13600000\n",
      "13700000\n",
      "13800000\n",
      "13900000\n",
      "14000000\n",
      "14100000\n",
      "14200000\n",
      "14300000\n",
      "14400000\n",
      "14500000\n",
      "14600000\n",
      "14700000\n",
      "14800000\n",
      "14900000\n",
      "15000000\n",
      "15100000\n",
      "15200000\n",
      "15300000\n",
      "15400000\n",
      "15500000\n",
      "15600000\n",
      "15700000\n",
      "15800000\n",
      "15900000\n"
     ]
    }
   ],
   "source": [
    "dtypes = [('M_NS','<f8'), \\\n",
    "        ('M_2','<f8'), \\\n",
    "        ('L_x','<f8'), \\\n",
    "        ('v_sys','<f8'), \\\n",
    "        ('M2_dot','<f8'), \\\n",
    "        ('A','<f8'), \\\n",
    "        ('ecc','<f8'), \\\n",
    "        ('theta','<f8'), \\\n",
    "        ('k_type','<i8')]\n",
    "\n",
    "HMXB = np.zeros(len(sampler.flatchain), dtype=dtypes)\n",
    "\n",
    "\n",
    "for i in np.arange(len(sampler.flatchain)):\n",
    "    \n",
    "    if i % 100000 == 0:\n",
    "        print i\n",
    "    \n",
    "    M1, M2, a, ecc, v_k, theta_k, phi_k, ra, dec, time = sampler.flatchain[i]\n",
    "\n",
    "    M_NS, M_2_tmp, L_x_tmp, v_sys_tmp, M2_dot_out, A_out, e_tmp, theta_out, k_type = \\\n",
    "        pop_synth.full_forward(M1, M2, a, ecc, v_k, theta_k, phi_k, time)\n",
    "    \n",
    "    HMXB[\"M_NS\"][i] = M_NS\n",
    "    HMXB[\"M_2\"][i] = M_2_tmp\n",
    "    HMXB[\"L_x\"][i] = L_x_tmp\n",
    "    HMXB[\"v_sys\"][i] = v_sys_tmp\n",
    "    HMXB[\"M2_dot\"][i] = M2_dot_out\n",
    "    HMXB[\"A\"][i] = A_out\n",
    "    HMXB[\"ecc\"][i] = e_tmp\n",
    "    HMXB[\"theta\"][i] = theta_out\n",
    "    HMXB[\"k_type\"][i] = k_type\n",
    "\n"
   ]
  },
  {
   "cell_type": "code",
   "execution_count": 6,
   "metadata": {
    "collapsed": true
   },
   "outputs": [],
   "source": [
    "pickle.dump( HMXB, open( INDATA(\"SMC_MCMC_HMXB_full.obj\"), \"wb\" ) )"
   ]
  },
  {
   "cell_type": "code",
   "execution_count": 21,
   "metadata": {
    "collapsed": false
   },
   "outputs": [
    {
     "name": "stdout",
     "output_type": "stream",
     "text": [
      "16000000\n",
      "1391655\n",
      "1207\n",
      "61287\n",
      "0\n",
      "0\n",
      "80772\n",
      "19771\n"
     ]
    }
   ],
   "source": [
    "print len(HMXB)\n",
    "\n",
    "\n",
    "idx_k3 = np.where(HMXB['k_type'] == 3)[0]\n",
    "idx_k5 = np.where(HMXB['k_type'] == 5)[0]\n",
    "idx_k6 = np.where(HMXB['k_type'] == 6)[0]\n",
    "idx_k9 = np.where(HMXB['k_type'] == 9)[0]\n",
    "idx_k10 = np.where(HMXB['k_type'] == 13)[0]\n",
    "idx = np.intersect1d(np.where(HMXB['k_type'] > 2.0)[0], np.where(HMXB['M_2'] > 12.0)[0])\n",
    "\n",
    "print len(idx)\n",
    "print len(idx_k3)\n",
    "print len(idx_k5)\n",
    "print len(idx_k6)\n",
    "print len(idx_k9)\n",
    "print len(idx_k10)\n",
    "print idx_k10[0]"
   ]
  },
  {
   "cell_type": "code",
   "execution_count": 23,
   "metadata": {
    "collapsed": false
   },
   "outputs": [
    {
     "name": "stdout",
     "output_type": "stream",
     "text": [
      "[   9.19658971    2.83160861  245.51513673    0.7152946   134.17062188\n",
      "    1.95148268    2.59719855   12.13708327  -73.42143025   58.14720759]\n",
      "Full forward: 1.35 [ 1.3956213] [  1.02961852e+24] 18.3546129912 [  6.04125065e-22] [ 737.60517271] 0.736121758564 [ 0.00198479] 13\n",
      "Individual: 1.35 [ 1.3956213] [  1.02961852e+24] 18.3546129912 [  6.04125065e-22] [ 737.60517271] 0.736121758564 [ 13.]\n",
      "[False]\n",
      "[ 1.3956213] [  1.02961852e+24] [  6.04125065e-22] [ 737.60517271]\n",
      "[False]\n",
      "1.28213341191\n",
      "1.28213341191\n"
     ]
    }
   ],
   "source": [
    "i = 1\n",
    "\n",
    "print sampler.flatchain[idx_k10[i]]\n",
    "\n",
    "M1, M2, a, ecc, v_k, theta_k, phi_k, ra, dec, time = sampler.flatchain[idx_k10[i]]\n",
    "\n",
    "M_NS, M_2_tmp, L_x_tmp, v_sys_tmp, M2_dot_out, A_out, e_tmp, theta_out, k_type = \\\n",
    "        pop_synth.full_forward(M1, M2, a, ecc, v_k, theta_k, phi_k, time)\n",
    "\n",
    "print \"Full forward:\", M_NS, M_2_tmp, L_x_tmp, v_sys_tmp, M2_dot_out, A_out, e_tmp, theta_out, k_type\n",
    "\n",
    "\n",
    "\n",
    "M_1_b, M_2_b, A_b = binary_evolve.func_MT_forward(M1, M2, a, ecc)\n",
    "A_tmp, v_sys_tmp, e_tmp = binary_evolve.func_SN_forward(M_1_b, M_2_b, A_b, v_k, theta_k, phi_k)\n",
    "M_2_tmp, L_x_tmp, M2_dot_out, A_out = binary_evolve.func_Lx_forward(M1, M2, M_2_b, A_tmp, e_tmp, time)\n",
    "tobs_eff = binary_evolve.func_get_time(M1, M2, time)\n",
    "M_tmp, M_dot_tmp, R_tmp, k_type = load_sse.func_get_sse_star(M_2_b, tobs_eff)\n",
    "\n",
    "print \"Individual: 1.35\", M_2_tmp, L_x_tmp, v_sys_tmp, M2_dot_out, A_out, e_tmp, k_type\n",
    "print L_x_tmp == 0.0\n",
    "\n",
    "\n",
    "M1_b, M2_b, A_b = binary_evolve.func_MT_forward(M1, M2, a, ecc)\n",
    "A_c, v_sys, ecc_out = binary_evolve.func_SN_forward(M1_b, M2_b, A_b, v_k, theta_k, phi_k)\n",
    "M2_d_out, L_x_out, M_dot_out, A_d = binary_evolve.func_Lx_forward(M1, M2, M2_b, A_c, ecc_out, time)\n",
    "print M2_d_out, L_x_out, M_dot_out, A_d\n",
    "print L_x_out == 0.0\n",
    "if ecc_out < 0.0 or ecc_out > 1.0 or np.isnan(ecc) or L_x_out==0.0: print \"YES\"\n",
    "\n",
    "\n",
    "sf_history.load_sf_history()\n",
    "print stats.ln_posterior_population(sampler.flatchain[idx_k10[i]])\n",
    "print sampler.flatlnprobability[idx_k10[i]]\n",
    "\n",
    "    "
   ]
  },
  {
   "cell_type": "code",
   "execution_count": null,
   "metadata": {
    "collapsed": true
   },
   "outputs": [],
   "source": []
  },
  {
   "cell_type": "code",
   "execution_count": 5,
   "metadata": {
    "collapsed": false
   },
   "outputs": [
    {
     "name": "stdout",
     "output_type": "stream",
     "text": [
      "4 2.3055430516e-07 -0.965720161192\n",
      "13.2443190272 25.3963712049\n",
      "4 3.607574637e-07 4.10092827438\n",
      "48.5146677309 46.7068041324\n",
      "13 0.0 -4.21104249037\n",
      "7.76352694457 24.1979187197\n",
      "14 0.0 2.90936492173\n",
      "34.8787878615 34.8803266784\n",
      "14 0.0 1.512941093\n",
      "12.2868075236 13.2408461784\n",
      "13 0.0 -5.17315508255\n",
      "52.7103233626 54.0270512102\n",
      "14 0.0 -4.3916112094\n",
      "11.5282957234 12.1739463118\n",
      "13 0.0 3.16360580584\n",
      "32.4865609282 34.2255838364\n",
      "13 0.0 -0.524620915331\n",
      "14.6396946258 21.9108993113\n",
      "4 4.18799661202e-06 -5.14540848863\n",
      "10.2415121001 15.0029513113\n"
     ]
    }
   ],
   "source": [
    "tmp_i = np.random.randint(len(idx), size=10)\n",
    "\n",
    "\n",
    "for i in np.arange(10):\n",
    "    print HMXB['k_type'][idx[tmp_i[i]]], HMXB['M2_dot'][idx[tmp_i[i]]], sampler.flatlnprobability[idx[tmp_i[i]]]\n",
    "    \n",
    "    M2_b = HMXB['M_2'][idx[tmp_i[i]]]\n",
    "    M1 = sampler.flatchain[idx[tmp_i[i]]][0]\n",
    "    M2 = sampler.flatchain[idx[tmp_i[i]]][1]\n",
    "    \n",
    "    print sampler.flatchain[idx[tmp_i[i]]][9], load_sse.func_sse_tmax(M2_b) - binary_evolve.func_get_time(M1, M2, 0.0)"
   ]
  },
  {
   "cell_type": "code",
   "execution_count": null,
   "metadata": {
    "collapsed": true
   },
   "outputs": [],
   "source": [
    "t_obs < load_sse.func_sse_ms_time(M1)\n",
    "M_1_b, M_2_b, A_b = binary_evolve.func_MT_forward(M1, M2, A, ecc)\n",
    "t_obs < load_sse.func_sse_tmax(M1)\n",
    "A_tmp, v_sys_tmp, e_tmp = binary_evolve.func_SN_forward(M_1_b, M_2_b, A_b, v_k, theta, phi)\n",
    "M_2_tmp, L_x_tmp, M2_dot_out, A_out = binary_evolve.func_Lx_forward(M1, M2, M_2_b, A_tmp, e_tmp, t_obs)\n",
    "\n",
    "\n",
    "\n",
    "    M1_b, M2_b, A_b = binary_evolve.func_MT_forward(M1, M2, A, ecc)\n",
    "    A_c, v_sys, ecc_out = binary_evolve.func_SN_forward(M1_b, M2_b, A_b, v_k, theta, phi)\n",
    "    M2_d_out, L_x_out, M_dot_out, A_d = binary_evolve.func_Lx_forward(M1, M2, M2_b, A_c, ecc_out, t_b)\n",
    "\n"
   ]
  },
  {
   "cell_type": "code",
   "execution_count": 52,
   "metadata": {
    "collapsed": false
   },
   "outputs": [
    {
     "data": {
      "image/png": "[encoded data removed]",
      "text/plain": [
       "<matplotlib.figure.Figure at 0x7f82efee3950>"
      ]
     },
     "metadata": {},
     "output_type": "display_data"
    }
   ],
   "source": [
    "fig, ax = plt.subplots(1, 2, figsize=(6,6))\n",
    "                                     \n",
    "sf_history.get_SMC_plot_polar(40.0, ax=ax[0], ra_dist=sampler.flatchain.T[7][idx], dec_dist=sampler.flatchain.T[8][idx], dist_bins=60, xwidth=3.0, ywidth=3.0)\n",
    "\n",
    "plt.tight_layout()\n",
    "plt.show()"
   ]
  },
  {
   "cell_type": "code",
   "execution_count": 8,
   "metadata": {
    "collapsed": false
   },
   "outputs": [
    {
     "name": "stdout",
     "output_type": "stream",
     "text": [
      "Elapsed time: 220.171941042 seconds\n"
     ]
    }
   ],
   "source": [
    "start_time = time.time()\n",
    "\n",
    "sampler_new = stats.run_emcee_population(nburn=10, nsteps=10000, nwalkers=80)\n",
    "print \"Elapsed time:\", time.time() - start_time, \"seconds\""
   ]
  },
  {
   "cell_type": "code",
   "execution_count": 12,
   "metadata": {
    "collapsed": false
   },
   "outputs": [
    {
     "name": "stdout",
     "output_type": "stream",
     "text": [
      "[ 0.12    0.1392  0.1234  0.1123  0.1217  0.1303  0.1205  0.1177  0.1233\n",
      "  0.1149  0.1199  0.1501  0.1055  0.1266  0.1186  0.1186  0.1336  0.1072\n",
      "  0.1179  0.1284  0.1294  0.1268  0.1201  0.0959  0.0951  0.1347  0.1332\n",
      "  0.1039  0.1304  0.15    0.1259  0.1233  0.1224  0.0916  0.1165  0.1035\n",
      "  0.1222  0.1253  0.1357  0.1168  0.0911  0.1031  0.1182  0.1149  0.1204\n",
      "  0.1244  0.1189  0.1428  0.1255  0.1212  0.112   0.1112  0.1127  0.1067\n",
      "  0.1273  0.1369  0.1186  0.1187  0.1359  0.1089  0.1106  0.1064  0.1108\n",
      "  0.1333  0.1094  0.1321  0.1177  0.1258  0.1187  0.1173  0.1396  0.1227\n",
      "  0.1271  0.1216  0.1172  0.1078  0.1244  0.1054  0.1147  0.1355]\n"
     ]
    }
   ],
   "source": [
    "for i in np.arange(len(sampler_new.flatchain)):\n",
    "\n",
    "    M1, M2, a, ecc, v_k, theta_k, phi_k, ra, dec, t_b = sampler_new.flatchain[i]\n",
    "\n",
    "    M_NS, M_2_tmp, L_x_tmp, v_sys_tmp, M2_dot_out, A_out, e_tmp, theta_out, k_type = \\\n",
    "        pop_synth.full_forward(M1, M2, a, ecc, v_k, theta_k, phi_k, t_b)\n",
    "\n",
    "    t_max = (load_sse.func_sse_tmax(M_2_tmp) - binary_evolve.func_get_time(M1, M2, 0.0))\n",
    "    \n",
    "    if t_b > t_max: print M1, M2\n",
    "    \n",
    "print sampler_new.acceptance_fraction"
   ]
  },
  {
   "cell_type": "code",
   "execution_count": null,
   "metadata": {
    "collapsed": false
   },
   "outputs": [],
   "source": []
  },
  {
   "cell_type": "code",
   "execution_count": 14,
   "metadata": {
    "collapsed": true
   },
   "outputs": [],
   "source": [
    "M1_true = 13.0\n",
    "M2_true = 10.0\n",
    "A_true = 150.0\n",
    "ecc_true = 0.7\n",
    "v_k_true = 250.0\n",
    "theta_true = 2.9\n",
    "phi_true = 0.9\n",
    "ra_true = 13.51\n",
    "dec_true = -72.7\n",
    "t_b_true = 22.0\n",
    "\n",
    "sampler_sys1 = pickle.load( open( \"../../data/sys1_MCMC_multiburn_sampler.obj\", \"rb\" ) )\n"
   ]
  },
  {
   "cell_type": "code",
   "execution_count": 18,
   "metadata": {
    "collapsed": false
   },
   "outputs": [
    {
     "name": "stdout",
     "output_type": "stream",
     "text": [
      "13.5622800394 11.0747212046\n",
      "13.2866190856 11.7581621438\n",
      "13.2866190856 11.7581621438\n",
      "13.2866190856 11.7581621438\n",
      "13.2866190856 11.7581621438\n",
      "13.2866190856 11.7581621438\n",
      "13.2866190856 11.7581621438\n",
      "13.2866190856 11.7581621438\n",
      "13.2866190856 11.7581621438\n",
      "13.2866190856 11.7581621438\n",
      "13.2866190856 11.7581621438\n",
      "13.2866190856 11.7581621438\n",
      "13.2866190856 11.7581621438\n",
      "13.2866190856 11.7581621438\n",
      "13.2577085683 11.8343929863\n",
      "13.2577085683 11.8343929863\n",
      "13.2577085683 11.8343929863\n",
      "13.2577085683 11.8343929863\n",
      "13.2577085683 11.8343929863\n",
      "13.4493412159 11.9366293803\n",
      "13.4493412159 11.9366293803\n",
      "13.4493412159 11.9366293803\n",
      "13.4493412159 11.9366293803\n",
      "13.4942016716 11.9125575128\n",
      "13.4942016716 11.9125575128\n",
      "13.4942016716 11.9125575128\n",
      "13.4942016716 11.9125575128\n",
      "13.4942016716 11.9125575128\n",
      "13.4942016716 11.9125575128\n",
      "13.4942016716 11.9125575128\n",
      "13.7379958372 11.7817389384\n",
      "13.7379958372 11.7817389384\n",
      "13.7379958372 11.7817389384\n",
      "13.7379958372 11.7817389384\n",
      "13.7379958372 11.7817389384\n",
      "13.7379958372 11.7817389384\n",
      "14.8865172823 10.5231422858\n"
     ]
    }
   ],
   "source": [
    "\n",
    "for i in np.arange(10000):\n",
    "\n",
    "    M1, M2, a, ecc, v_k, theta_k, phi_k, ra, dec, t_b = sampler_sys1.flatchain[i]\n",
    "\n",
    "    M_NS, M_2_tmp, L_x_tmp, v_sys_tmp, M2_dot_out, A_out, e_tmp, theta_out, k_type = \\\n",
    "        pop_synth.full_forward(M1, M2, a, ecc, v_k, theta_k, phi_k, t_b)\n",
    "\n",
    "    t_max = (load_sse.func_sse_tmax(M_2_tmp) - binary_evolve.func_get_time(M1, M2, 0.0))\n",
    "    \n",
    "    if t_b > t_max: print M1, M2\n"
   ]
  },
  {
   "cell_type": "code",
   "execution_count": 23,
   "metadata": {
    "collapsed": true
   },
   "outputs": [],
   "source": [
    "sampler_sys4 = pickle.load( open( INDATA(\"sys4_MCMC_multiburn_sampler.obj\"), \"rb\" ) )"
   ]
  },
  {
   "cell_type": "code",
   "execution_count": 24,
   "metadata": {
    "collapsed": false
   },
   "outputs": [
    {
     "name": "stdout",
     "output_type": "stream",
     "text": [
      "0\n",
      "100000\n",
      "200000\n",
      "300000\n"
     ]
    },
    {
     "ename": "KeyboardInterrupt",
     "evalue": "",
     "output_type": "error",
     "traceback": [
      "\u001b[1;31m---------------------------------------------------------------------------\u001b[0m",
      "\u001b[1;31mKeyboardInterrupt\u001b[0m                         Traceback (most recent call last)",
      "\u001b[1;32m<ipython-input-24-2b94d0722a5d>\u001b[0m in \u001b[0;36m<module>\u001b[1;34m()\u001b[0m\n\u001b[0;32m     12\u001b[0m     \u001b[0mM1\u001b[0m\u001b[1;33m,\u001b[0m \u001b[0mM2\u001b[0m\u001b[1;33m,\u001b[0m \u001b[0ma\u001b[0m\u001b[1;33m,\u001b[0m \u001b[0mecc\u001b[0m\u001b[1;33m,\u001b[0m \u001b[0mv_k\u001b[0m\u001b[1;33m,\u001b[0m \u001b[0mtheta_k\u001b[0m\u001b[1;33m,\u001b[0m \u001b[0mphi_k\u001b[0m\u001b[1;33m,\u001b[0m \u001b[0mra\u001b[0m\u001b[1;33m,\u001b[0m \u001b[0mdec\u001b[0m\u001b[1;33m,\u001b[0m \u001b[0mtime\u001b[0m \u001b[1;33m=\u001b[0m \u001b[0msampler_sys4\u001b[0m\u001b[1;33m.\u001b[0m\u001b[0mflatchain\u001b[0m\u001b[1;33m[\u001b[0m\u001b[0mi\u001b[0m\u001b[1;33m]\u001b[0m\u001b[1;33m\u001b[0m\u001b[0m\n\u001b[0;32m     13\u001b[0m \u001b[1;33m\u001b[0m\u001b[0m\n\u001b[1;32m---> 14\u001b[1;33m     \u001b[0mM_NS\u001b[0m\u001b[1;33m,\u001b[0m \u001b[0mM_2_tmp\u001b[0m\u001b[1;33m,\u001b[0m \u001b[0mL_x_tmp\u001b[0m\u001b[1;33m,\u001b[0m \u001b[0mv_sys_tmp\u001b[0m\u001b[1;33m,\u001b[0m \u001b[0mM2_dot_out\u001b[0m\u001b[1;33m,\u001b[0m \u001b[0mA_out\u001b[0m\u001b[1;33m,\u001b[0m \u001b[0me_tmp\u001b[0m\u001b[1;33m,\u001b[0m \u001b[0mtheta_out\u001b[0m\u001b[1;33m,\u001b[0m \u001b[0mk_type\u001b[0m \u001b[1;33m=\u001b[0m         \u001b[0mpop_synth\u001b[0m\u001b[1;33m.\u001b[0m\u001b[0mfull_forward\u001b[0m\u001b[1;33m(\u001b[0m\u001b[0mM1\u001b[0m\u001b[1;33m,\u001b[0m \u001b[0mM2\u001b[0m\u001b[1;33m,\u001b[0m \u001b[0ma\u001b[0m\u001b[1;33m,\u001b[0m \u001b[0mecc\u001b[0m\u001b[1;33m,\u001b[0m \u001b[0mv_k\u001b[0m\u001b[1;33m,\u001b[0m \u001b[0mtheta_k\u001b[0m\u001b[1;33m,\u001b[0m \u001b[0mphi_k\u001b[0m\u001b[1;33m,\u001b[0m \u001b[0mtime\u001b[0m\u001b[1;33m)\u001b[0m\u001b[1;33m\u001b[0m\u001b[0m\n\u001b[0m\u001b[0;32m     15\u001b[0m \u001b[1;33m\u001b[0m\u001b[0m\n\u001b[0;32m     16\u001b[0m     \u001b[0mHMXB_J0045\u001b[0m\u001b[1;33m[\u001b[0m\u001b[1;34m\"M_NS\"\u001b[0m\u001b[1;33m]\u001b[0m\u001b[1;33m[\u001b[0m\u001b[0mi\u001b[0m\u001b[1;33m]\u001b[0m \u001b[1;33m=\u001b[0m \u001b[0mM_NS\u001b[0m\u001b[1;33m\u001b[0m\u001b[0m\n",
      "\u001b[1;32m/home/andrews/Research/XRB/xrb/pop_synth/pop_synth.pyc\u001b[0m in \u001b[0;36mfull_forward\u001b[1;34m(M1, M2, A, ecc, v_k, theta, phi, t_obs)\u001b[0m\n\u001b[0;32m    510\u001b[0m \u001b[1;33m\u001b[0m\u001b[0m\n\u001b[0;32m    511\u001b[0m         \u001b[1;31m# XRB\u001b[0m\u001b[1;33m\u001b[0m\u001b[1;33m\u001b[0m\u001b[0m\n\u001b[1;32m--> 512\u001b[1;33m         \u001b[0mM_2_tmp\u001b[0m\u001b[1;33m,\u001b[0m \u001b[0mL_x_tmp\u001b[0m\u001b[1;33m,\u001b[0m \u001b[0mM2_dot_out\u001b[0m\u001b[1;33m,\u001b[0m \u001b[0mA_out\u001b[0m \u001b[1;33m=\u001b[0m \u001b[0mbinary_evolve\u001b[0m\u001b[1;33m.\u001b[0m\u001b[0mfunc_Lx_forward\u001b[0m\u001b[1;33m(\u001b[0m\u001b[0mM1\u001b[0m\u001b[1;33m,\u001b[0m \u001b[0mM2\u001b[0m\u001b[1;33m,\u001b[0m \u001b[0mM_2_b\u001b[0m\u001b[1;33m,\u001b[0m \u001b[0mA_tmp\u001b[0m\u001b[1;33m,\u001b[0m \u001b[0me_tmp\u001b[0m\u001b[1;33m,\u001b[0m \u001b[0mt_obs\u001b[0m\u001b[1;33m)\u001b[0m\u001b[1;33m\u001b[0m\u001b[0m\n\u001b[0m\u001b[0;32m    513\u001b[0m \u001b[1;33m\u001b[0m\u001b[0m\n\u001b[0;32m    514\u001b[0m         \u001b[0mtheta_out\u001b[0m \u001b[1;33m=\u001b[0m \u001b[1;33m(\u001b[0m\u001b[0mt_obs\u001b[0m \u001b[1;33m-\u001b[0m \u001b[0mload_sse\u001b[0m\u001b[1;33m.\u001b[0m\u001b[0mfunc_sse_tmax\u001b[0m\u001b[1;33m(\u001b[0m\u001b[0mM1\u001b[0m\u001b[1;33m)\u001b[0m\u001b[1;33m)\u001b[0m \u001b[1;33m*\u001b[0m \u001b[0mv_sys_tmp\u001b[0m \u001b[1;33m/\u001b[0m \u001b[0mc\u001b[0m\u001b[1;33m.\u001b[0m\u001b[0mdist_SMC\u001b[0m \u001b[1;33m*\u001b[0m \u001b[0mc\u001b[0m\u001b[1;33m.\u001b[0m\u001b[0myr_to_sec\u001b[0m \u001b[1;33m*\u001b[0m \u001b[1;36m1.0e6\u001b[0m \u001b[1;33m*\u001b[0m \u001b[0mnp\u001b[0m\u001b[1;33m.\u001b[0m\u001b[0msin\u001b[0m\u001b[1;33m(\u001b[0m\u001b[0mget_theta\u001b[0m\u001b[1;33m(\u001b[0m\u001b[1;36m1\u001b[0m\u001b[1;33m)\u001b[0m\u001b[1;33m)\u001b[0m\u001b[1;33m\u001b[0m\u001b[0m\n",
      "\u001b[1;32m/home/andrews/Research/XRB/xrb/binary/binary_evolve.pyc\u001b[0m in \u001b[0;36mfunc_Lx_forward\u001b[1;34m(M_1_a, M_2_a, M_2_in, A_in, ecc_in, t_obs)\u001b[0m\n\u001b[0;32m    383\u001b[0m             \u001b[0mecc_in\u001b[0m \u001b[1;33m=\u001b[0m \u001b[1;36m0.0\u001b[0m\u001b[1;33m\u001b[0m\u001b[0m\n\u001b[0;32m    384\u001b[0m         \u001b[1;32melse\u001b[0m\u001b[1;33m:\u001b[0m\u001b[1;33m\u001b[0m\u001b[0m\n\u001b[1;32m--> 385\u001b[1;33m             \u001b[0mM_2_out\u001b[0m\u001b[1;33m,\u001b[0m \u001b[0mM_dot_wind\u001b[0m\u001b[1;33m,\u001b[0m \u001b[0mR_out\u001b[0m\u001b[1;33m,\u001b[0m \u001b[0mk_out\u001b[0m \u001b[1;33m=\u001b[0m \u001b[0mload_sse\u001b[0m\u001b[1;33m.\u001b[0m\u001b[0mfunc_get_sse_star\u001b[0m\u001b[1;33m(\u001b[0m\u001b[0mM_2_in\u001b[0m\u001b[1;33m,\u001b[0m \u001b[0mt_eff_obs\u001b[0m\u001b[1;33m)\u001b[0m\u001b[1;33m\u001b[0m\u001b[0m\n\u001b[0m\u001b[0;32m    386\u001b[0m \u001b[1;33m\u001b[0m\u001b[0m\n\u001b[0;32m    387\u001b[0m     \u001b[1;31m# Get wind velocity\u001b[0m\u001b[1;33m\u001b[0m\u001b[1;33m\u001b[0m\u001b[0m\n",
      "\u001b[1;32m/home/andrews/Research/XRB/xrb/binary/load_sse.pyc\u001b[0m in \u001b[0;36mfunc_get_sse_star\u001b[1;34m(mass, time)\u001b[0m\n\u001b[0;32m    302\u001b[0m \u001b[1;33m\u001b[0m\u001b[0m\n\u001b[0;32m    303\u001b[0m     \u001b[0mmass_out\u001b[0m \u001b[1;33m=\u001b[0m \u001b[0mnp\u001b[0m\u001b[1;33m.\u001b[0m\u001b[0marray\u001b[0m\u001b[1;33m(\u001b[0m\u001b[1;33m[\u001b[0m\u001b[1;33m]\u001b[0m\u001b[1;33m)\u001b[0m\u001b[1;33m\u001b[0m\u001b[0m\n\u001b[1;32m--> 304\u001b[1;33m     \u001b[0mmdot_out\u001b[0m \u001b[1;33m=\u001b[0m \u001b[0mnp\u001b[0m\u001b[1;33m.\u001b[0m\u001b[0marray\u001b[0m\u001b[1;33m(\u001b[0m\u001b[1;33m[\u001b[0m\u001b[1;33m]\u001b[0m\u001b[1;33m)\u001b[0m\u001b[1;33m\u001b[0m\u001b[0m\n\u001b[0m\u001b[0;32m    305\u001b[0m     \u001b[0mradius_out\u001b[0m \u001b[1;33m=\u001b[0m \u001b[0mnp\u001b[0m\u001b[1;33m.\u001b[0m\u001b[0marray\u001b[0m\u001b[1;33m(\u001b[0m\u001b[1;33m[\u001b[0m\u001b[1;33m]\u001b[0m\u001b[1;33m)\u001b[0m\u001b[1;33m\u001b[0m\u001b[0m\n\u001b[0;32m    306\u001b[0m     \u001b[0mk_out\u001b[0m \u001b[1;33m=\u001b[0m \u001b[0mnp\u001b[0m\u001b[1;33m.\u001b[0m\u001b[0marray\u001b[0m\u001b[1;33m(\u001b[0m\u001b[1;33m[\u001b[0m\u001b[1;33m]\u001b[0m\u001b[1;33m)\u001b[0m\u001b[1;33m\u001b[0m\u001b[0m\n",
      "\u001b[1;31mKeyboardInterrupt\u001b[0m: "
     ]
    }
   ],
   "source": [
    "dtypes = [('M_NS','<f8'), \\\n",
    "        ('M_2','<f8'), \\\n",
    "        ('L_x','<f8'), \\\n",
    "        ('v_sys','<f8'), \\\n",
    "        ('M2_dot','<f8'), \\\n",
    "        ('A','<f8'), \\\n",
    "        ('ecc','<f8'), \\\n",
    "        ('theta','<f8'), \\\n",
    "        ('k_type','<i8')]\n",
    "\n",
    "HMXB_sys4 = np.zeros(len(sampler_sys4.flatchain), dtype=dtypes)\n",
    "\n",
    "\n",
    "for i in np.arange(len(sampler_sys4.flatchain)):\n",
    "# for i in np.arange(100000):\n",
    "    \n",
    "    if i % 100000 == 0:\n",
    "        print i\n",
    "    \n",
    "    M1, M2, a, ecc, v_k, theta_k, phi_k, ra, dec, time = sampler_sys4.flatchain[i]\n",
    "\n",
    "    M_NS, M_2_tmp, L_x_tmp, v_sys_tmp, M2_dot_out, A_out, e_tmp, theta_out, k_type = \\\n",
    "        pop_synth.full_forward(M1, M2, a, ecc, v_k, theta_k, phi_k, time)\n",
    "    \n",
    "    HMXB_J0045[\"M_NS\"][i] = M_NS\n",
    "    HMXB_J0045[\"M_2\"][i] = M_2_tmp\n",
    "    HMXB_J0045[\"L_x\"][i] = L_x_tmp\n",
    "    HMXB_J0045[\"v_sys\"][i] = v_sys_tmp\n",
    "    HMXB_J0045[\"M2_dot\"][i] = M2_dot_out\n",
    "    HMXB_J0045[\"A\"][i] = A_out\n",
    "    HMXB_J0045[\"ecc\"][i] = e_tmp\n",
    "    HMXB_J0045[\"theta\"][i] = theta_out\n",
    "    HMXB_J0045[\"k_type\"][i] = k_type\n",
    "\n"
   ]
  },
  {
   "cell_type": "code",
   "execution_count": 25,
   "metadata": {
    "collapsed": false
   },
   "outputs": [
    {
     "name": "stdout",
     "output_type": "stream",
     "text": [
      "4000000\n",
      "0\n"
     ]
    }
   ],
   "source": [
    "print len(HMXB_J0045[HMXB_J0045['k_type'] < 6])\n",
    "print len(HMXB_J0045[HMXB_J0045['k_type'] >= 6])"
   ]
  },
  {
   "cell_type": "code",
   "execution_count": null,
   "metadata": {
    "collapsed": true
   },
   "outputs": [],
   "source": []
  }
 ],
 "metadata": {
  "kernelspec": {
   "display_name": "Python 2",
   "language": "python",
   "name": "python2"
  },
  "language_info": {
   "codemirror_mode": {
    "name": "ipython",
    "version": 2
   },
   "file_extension": ".py",
   "mimetype": "text/x-python",
   "name": "python",
   "nbconvert_exporter": "python",
   "pygments_lexer": "ipython2",
   "version": "2.7.12"
  }
 },
 "nbformat": 4,
 "nbformat_minor": 0
}
