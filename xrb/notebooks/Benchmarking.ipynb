{
 "cells": [
  {
   "cell_type": "code",
   "execution_count": 1,
   "metadata": {
    "collapsed": false
   },
   "outputs": [
    {
     "name": "stderr",
     "output_type": "stream",
     "text": [
      "/Library/Python/2.7/site-packages/IPython/kernel/__init__.py:13: ShimWarning: The `IPython.kernel` package has been deprecated. You should import from ipykernel or jupyter_client instead.\n",
      "  \"You should import from ipykernel or jupyter_client instead.\", ShimWarning)\n"
     ]
    }
   ],
   "source": [
    "import numpy as np\n",
    "\n",
    "import xrb\n",
    "from xrb.src.core import *\n",
    "set_data_path(\"../../data\")\n",
    "from xrb.binary import load_sse, binary_evolve\n",
    "import xrb.src.constants as c\n",
    "from xrb.pop_synth import pop_synth\n",
    "from xrb.SF_history import sf_history\n",
    "\n",
    "from astropy.coordinates import SkyCoord\n",
    "\n",
    "%matplotlib inline"
   ]
  },
  {
   "cell_type": "code",
   "execution_count": 2,
   "metadata": {
    "collapsed": false
   },
   "outputs": [],
   "source": [
    "load_sse.load_sse()\n",
    "sf_history.load_sf_history()"
   ]
  },
  {
   "cell_type": "code",
   "execution_count": 3,
   "metadata": {
    "collapsed": false
   },
   "outputs": [
    {
     "name": "stdout",
     "output_type": "stream",
     "text": [
      "460\n",
      "460\n",
      "1376\n",
      "1376\n"
     ]
    }
   ],
   "source": [
    "# sf_history.smc_coor = None\n",
    "# sf_history.load_sf_history()\n",
    "\n",
    "print len(sf_history.smc_sfh)\n",
    "print len(sf_history.smc_coor)\n",
    "print len(sf_history.lmc_sfh)\n",
    "print len(sf_history.lmc_coor)"
   ]
  },
  {
   "cell_type": "code",
   "execution_count": 4,
   "metadata": {
    "collapsed": false
   },
   "outputs": [
    {
     "name": "stdout",
     "output_type": "stream",
     "text": [
      "5.0 0\n",
      "5.1 0\n",
      "5.2 0\n",
      "5.3 0\n",
      "5.4 0\n",
      "5.5 0\n",
      "5.6 0\n",
      "5.7 0\n",
      "5.8 0\n",
      "5.9 0\n"
     ]
    }
   ],
   "source": [
    "N = 100\n",
    "\n",
    "\n",
    "t_min, t_max = 5.0, 6.0\n",
    "N_times = (t_max-t_min) * 10\n",
    "\n",
    "for t_b in np.arange(N_times)/10.0+t_min:\n",
    "    \n",
    "    HMXB, init_params = pop_synth.create_HMXBs(t_b, N_sys=N)\n",
    "    \n",
    "    print t_b, len(HMXB)"
   ]
  },
  {
   "cell_type": "code",
   "execution_count": 5,
   "metadata": {
    "collapsed": false
   },
   "outputs": [
    {
     "name": "stdout",
     "output_type": "stream",
     "text": [
      "Found 331 HMXBs out of 5500.0 binaries\n",
      "Found 1 HMXBs similar to J0045 at 3-sigma\n",
      "Found 0 HMXBs similar to J0045 at 2-sigma\n"
     ]
    }
   ],
   "source": [
    "# Set J0045 parameters\n",
    "coor_J0045 = SkyCoord('00h45m35.26s', '-73d19m03.32s')\n",
    "\n",
    "ra_J0045 = coor_J0045.ra.degree\n",
    "dec_J0045 = coor_J0045.dec.degree\n",
    "M2_d_J0045 = 8.8  # M2 in Msun\n",
    "M2_d_J0045_err = 1.8\n",
    "P_orb_J0045 = 51.17  # P_orb in days\n",
    "P_orb_J0045_err = 1.0\n",
    "ecc_J0045 = 0.808  # eccentricity\n",
    "ecc_J0045_err = 0.05\n",
    "\n",
    "t_min, t_max = 5.0, 60.0\n",
    "N_times = (t_max-t_min) * 10\n",
    "N = 10\n",
    "\n",
    "N_good = 0\n",
    "N_good_J0045_3 = 0\n",
    "N_good_J0045_2 = 0\n",
    "for t_b in np.arange(N_times)/10.0+t_min:\n",
    "\n",
    "    HMXB, init_params = pop_synth.create_HMXBs(t_b, N_sys=N)\n",
    "    M1 = init_params['M1']\n",
    "    ecc = HMXB['ecc']\n",
    "    \n",
    "    \n",
    "    theta_from_J0045 = sf_history.get_theta_proj_degree(ra_J0045, dec_J0045, init_params['ra_b'], init_params['dec_b'])\n",
    "        \n",
    "    fwd_M_NS, fwd_M2, fwd_L_x, fwd_v_sys, fwd_M2_dot, fwd_A, fwd_ecc, fwd_theta, fwd_k = \\\n",
    "        pop_synth.full_forward(init_params['M1'], init_params['M2'], init_params['A'], \\\n",
    "                 init_params['ecc'], init_params['v_k'], init_params['theta'], \\\n",
    "                 init_params['phi'], t_b)\n",
    "    \n",
    "    v_sys = fwd_v_sys\n",
    "    \n",
    "    P_orb = binary_evolve.A_to_P(fwd_M_NS, fwd_M2, fwd_A)\n",
    "    \n",
    "    \n",
    "    theta_max = c.rad_to_deg * (t_b - load_sse.func_sse_tmax(M1)) * v_sys / c.dist_SMC * c.yr_to_sec * 1.0e6\n",
    "\n",
    "\n",
    "    # Now, select the systems similar to J0045\n",
    "    for i in np.arange(len(HMXB)):\n",
    "        if theta_from_J0045[i] < theta_max[i] and \\\n",
    "           np.abs(M2_d_J0045 - fwd_M2[i]) < 3.0*M2_d_J0045_err and \\\n",
    "           np.abs(P_orb_J0045 - P_orb[i]) < 3.0*P_orb_J0045_err and \\\n",
    "           np.abs(ecc_J0045 - ecc[i]) < 3.0*ecc_J0045_err:\n",
    "        \n",
    "            N_good_J0045_3 = N_good_J0045_3 + 1\n",
    "            \n",
    "        if theta_from_J0045[i] < theta_max[i] and \\\n",
    "           np.abs(M2_d_J0045 - fwd_M2[i]) < 2.0*M2_d_J0045_err and \\\n",
    "           np.abs(P_orb_J0045 - P_orb[i]) < 2.0*P_orb_J0045_err and \\\n",
    "           np.abs(ecc_J0045 - ecc[i]) < 2.0*ecc_J0045_err:\n",
    "        \n",
    "            N_good_J0045_2 = N_good_J0045_2 + 1\n",
    "\n",
    "    \n",
    "    N_good = N_good + len(HMXB)\n",
    "\n",
    "print \"Found\", N_good, \"HMXBs out of\", float(N) * float(N_times), \"binaries\"\n",
    "print \"Found\", N_good_J0045_3, \"HMXBs similar to J0045 at 3-sigma\"\n",
    "print \"Found\", N_good_J0045_2, \"HMXBs similar to J0045 at 2-sigma\"\n"
   ]
  },
  {
   "cell_type": "code",
   "execution_count": null,
   "metadata": {
    "collapsed": true
   },
   "outputs": [],
   "source": []
  }
 ],
 "metadata": {
  "kernelspec": {
   "display_name": "Python 2",
   "language": "python",
   "name": "python2"
  },
  "language_info": {
   "codemirror_mode": {
    "name": "ipython",
    "version": 2
   },
   "file_extension": ".py",
   "mimetype": "text/x-python",
   "name": "python",
   "nbconvert_exporter": "python",
   "pygments_lexer": "ipython2",
   "version": "2.7.10"
  }
 },
 "nbformat": 4,
 "nbformat_minor": 0
}
