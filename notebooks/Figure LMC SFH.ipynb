{
 "cells": [
  {
   "cell_type": "markdown",
   "metadata": {},
   "source": [
    "# Create star formation history figure"
   ]
  },
  {
   "cell_type": "code",
   "execution_count": 1,
   "metadata": {
    "collapsed": false
   },
   "outputs": [
    {
     "name": "stderr",
     "output_type": "stream",
     "text": [
      "/Library/Python/2.7/site-packages/IPython/kernel/__init__.py:13: ShimWarning: The `IPython.kernel` package has been deprecated. You should import from ipykernel or jupyter_client instead.\n",
      "  \"You should import from ipykernel or jupyter_client instead.\", ShimWarning)\n"
     ]
    }
   ],
   "source": [
    "import os\n",
    "import time\n",
    "import glob\n",
    "import numpy as np\n",
    "import matplotlib.pyplot as plt\n",
    "import matplotlib.cm as cm\n",
    "from scipy.interpolate import interp1d, interp2d\n",
    "from scipy.stats import maxwell, norm, uniform, powerlaw, truncnorm\n",
    "from scipy import optimize\n",
    "import corner\n",
    "from astropy.coordinates import SkyCoord\n",
    "\n",
    "%matplotlib inline"
   ]
  },
  {
   "cell_type": "markdown",
   "metadata": {},
   "source": [
    "### Load the LMC star formation history"
   ]
  },
  {
   "cell_type": "code",
   "execution_count": 3,
   "metadata": {
    "collapsed": true
   },
   "outputs": [],
   "source": [
    "# radian to dec and vice-versa functions\n",
    "\n",
    "def dec_to_rad(theta):\n",
    "    return np.pi * theta / 180.0\n",
    "def rad_to_dec(theta):\n",
    "    return 180.0 * theta / np.pi"
   ]
  },
  {
   "cell_type": "code",
   "execution_count": 4,
   "metadata": {
    "collapsed": true
   },
   "outputs": [],
   "source": [
    "# Create an empty array to start with\n",
    "dtypes = [('region','<S10'), \\\n",
    "          ('log_age','<f8'), \\\n",
    "          ('sfh_z008','<f8'), \\\n",
    "          ('sfh_z004','<f8'), \\\n",
    "          ('sfh_z0025','<f8'), \\\n",
    "          ('sfh_z001','<f8')]\n",
    "lmc_sfh = np.recarray(0, dtype=dtypes)\n",
    "out_line = np.recarray(1, dtype=dtypes)\n",
    "\n",
    "\n",
    "with open(\"../data/lmc_data/lmc_sfh_reduced.dat\") as f:\n",
    "    line_num = 0\n",
    "\n",
    "    for line in f:\n",
    "        line_num += 1\n",
    "\n",
    "        if line_num < 17: continue\n",
    "        if \"Region\" in line: \n",
    "            region = np.array(line.split()[2]).astype(np.str)\n",
    "        elif \"(\" in line:\n",
    "            1 == 1\n",
    "        else:\n",
    "            line_data = line.split()\n",
    "            line_data = np.array(line_data).astype(np.float64)\n",
    "                                    \n",
    "            out_line[0][0] = region\n",
    "            out_line[0][1] = line_data[0]\n",
    "            out_line[0][2] = line_data[1]\n",
    "            out_line[0][3] = line_data[4]\n",
    "            out_line[0][4] = line_data[7]\n",
    "            out_line[0][5] = line_data[10]\n",
    "\n",
    "            lmc_sfh = np.append(lmc_sfh, out_line[0])"
   ]
  },
  {
   "cell_type": "code",
   "execution_count": 7,
   "metadata": {
    "collapsed": false
   },
   "outputs": [],
   "source": [
    "# Load region coordinates\n",
    "data_file = os.path.abspath(\"../data/lmc_data/lmc_coordinates.dat\")\n",
    "lmc_coor_2 = np.genfromtxt(data_file, dtype=\"S10,S2,S2,S3,S2\")\n",
    "\n",
    "lmc_coor = np.recarray(0, dtype=[('region','<S10'),('ra','float64'),('dec','float64')])\n",
    "tmp = np.recarray(1, dtype=[('region','<S10'),('ra','float64'),('dec','float64')])\n",
    "\n",
    "\n",
    "for coor in lmc_coor_2:\n",
    "    ra = str(coor[1])+\"h\"+str(coor[2])+\"m\"\n",
    "    dec = str(coor[3])+\"d\"+str(coor[4])+\"m\"\n",
    "\n",
    "    region = coor[0]\n",
    "    \n",
    "    coor = SkyCoord(ra, dec)\n",
    "    \n",
    "    tmp[\"region\"] = region\n",
    "    tmp[\"ra\"] = coor.ra.degree\n",
    "    tmp[\"dec\"] = coor.dec.degree\n",
    "\n",
    "    lmc_coor = np.append(lmc_coor, tmp)"
   ]
  },
  {
   "cell_type": "code",
   "execution_count": 8,
   "metadata": {
    "collapsed": true
   },
   "outputs": [],
   "source": [
    "def get_theta_proj_decimal(ra, dec, ra_b, dec_b):\n",
    "    \n",
    "    ra1 = dec_to_rad(ra) \n",
    "    dec1 = dec_to_rad(dec)\n",
    "    ra2 = dec_to_rad(ra_b)\n",
    "    dec2 = dec_to_rad(dec_b)\n",
    "    return np.sqrt((ra1-ra2)**2 * np.cos(dec1)*np.cos(dec2) + (dec1-dec2)**2)\n",
    "\n",
    "def get_new_ra_dec(ra, dec, theta_proj, pos_ang):\n",
    "    delta_dec = theta_proj * np.cos(pos_ang)\n",
    "    delta_ra = theta_proj * np.sin(pos_ang) / np.cos(dec_to_rad(dec))\n",
    "    \n",
    "    ra_out = ra + rad_to_dec(delta_ra)\n",
    "    dec_out = dec + rad_to_dec(delta_dec)\n",
    "\n",
    "    return ra_out, dec_out\n",
    "    \n",
    "\n",
    "regions = np.unique(lmc_sfh[\"region\"])\n",
    "\n",
    "SF_history = np.array([])\n",
    "age = np.array([])\n",
    "sfr = np.array([])\n",
    "for r in regions:\n",
    "    \n",
    "    age = lmc_sfh[\"log_age\"][np.where(lmc_sfh[\"region\"] == r)]\n",
    "    sfr = lmc_sfh[\"sfh_z008\"][np.where(lmc_sfh[\"region\"] == r)]        \n",
    "    \n",
    "    SF_history = np.append(SF_history, interp1d(age[::-1], sfr[::-1], bounds_error=False, fill_value=0.0))\n",
    "    \n",
    "\n",
    "def get_SFH(ra, dec, t_b):\n",
    "    \"\"\" Returns the star formation rate in Msun/Myr for a sky position and age. \"\"\"\n",
    "    \n",
    "    if isinstance(ra, np.ndarray):\n",
    "\n",
    "        ra1, ra2 = np.meshgrid(dec_to_rad(ra), dec_to_rad(lmc_coor[\"ra\"]))\n",
    "        dec1, dec2 = np.meshgrid(dec_to_rad(dec), dec_to_rad(lmc_coor[\"dec\"]))\n",
    "        \n",
    "        dist = np.sqrt((ra1-ra2)**2*np.cos(dec1)*np.cos(dec2) + (dec1-dec2)**2)\n",
    "        indices = dist.argmin(axis=0)\n",
    "\n",
    "        SFR = np.zeros(len(ra))\n",
    "        for i in np.arange(len(indices)):\n",
    "            SFR[i] = SF_history[indices[i]](np.log10(t_b[i]*1.0e6))\n",
    "            \n",
    "        return SFR\n",
    "        \n",
    "    else:\n",
    "        ra1 = dec_to_rad(ra)\n",
    "        dec1 = dec_to_rad(dec)\n",
    "        ra2 = dec_to_rad(lmc_coor[\"ra\"])\n",
    "        dec2 = dec_to_rad(lmc_coor[\"dec\"])\n",
    "\n",
    "        dist = np.sqrt((ra1-ra2)**2*np.cos(dec1)*np.cos(dec2) + (dec1-dec2)**2)\n",
    "        index = np.argmin(dist)\n",
    "    \n",
    "        SFH_out = SF_history[index](np.log10(t_b*1.0e6))\n",
    "        if dist[index] > 0.25: SFH_out = 0.0 # If distance is greater than 0.5 degree, return 0\n",
    "            \n",
    "        return rad_to_dec(dist[index]), SFH_out"
   ]
  },
  {
   "cell_type": "code",
   "execution_count": 23,
   "metadata": {
    "collapsed": false
   },
   "outputs": [
    {
     "data": {
      "image/png": "[encoded data removed]",
      "text/plain": [
       "<matplotlib.figure.Figure at 0x10f4627d0>"
      ]
     },
     "metadata": {},
     "output_type": "display_data"
    }
   ],
   "source": [
    "\n",
    "plt.figure(figsize=(4,12))\n",
    "\n",
    "def get_LMC_plot(age):\n",
    "    sfr = np.array([])\n",
    "    for i in np.arange(len(lmc_coor)):\n",
    "        sfr = np.append(sfr, get_SFH(lmc_coor[\"ra\"][i], lmc_coor[\"dec\"][i], age)[1])\n",
    "\n",
    "    plt.tricontour(lmc_coor[\"ra\"], lmc_coor[\"dec\"], sfr)\n",
    "#    plt.title(str(int(age)) + ' Myr')\n",
    "    plt.xticks([])\n",
    "    plt.yticks([])\n",
    "    plt.xlim(82, 84)\n",
    "    plt.ylim(-69.5, -68.5)\n",
    "    plt.axis('off')\n",
    "\n",
    "    return plt\n",
    "    \n",
    "\n",
    "    \n",
    "plt.subplot(3,1,1)\n",
    "get_LMC_plot(10.0)\n",
    "\n",
    "plt.subplot(3,1,2)\n",
    "get_LMC_plot(15.0)\n",
    "\n",
    "plt.subplot(3,1,3)\n",
    "get_LMC_plot(20.0)\n",
    "\n",
    "plt.savefig(\"../figures/LMC_sample_SFH.pdf\")\n",
    "\n",
    "#plt.show()\n",
    "\n",
    "# Area = 64 deg^2\n",
    "\n",
    "\n"
   ]
  },
  {
   "cell_type": "code",
   "execution_count": null,
   "metadata": {
    "collapsed": true
   },
   "outputs": [],
   "source": []
  }
 ],
 "metadata": {
  "kernelspec": {
   "display_name": "Python 2",
   "language": "python",
   "name": "python2"
  },
  "language_info": {
   "codemirror_mode": {
    "name": "ipython",
    "version": 2
   },
   "file_extension": ".py",
   "mimetype": "text/x-python",
   "name": "python",
   "nbconvert_exporter": "python",
   "pygments_lexer": "ipython2",
   "version": "2.7.10"
  }
 },
 "nbformat": 4,
 "nbformat_minor": 0
}
