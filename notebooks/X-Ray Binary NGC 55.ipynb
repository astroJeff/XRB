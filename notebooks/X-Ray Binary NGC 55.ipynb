{
 "metadata": {
  "name": "",
  "signature": "sha256:5f9ecf43c3cfedfa7400d31f6d0b67525a8e891b99597dce0e4d3adf709a201e"
 },
 "nbformat": 3,
 "nbformat_minor": 0,
 "worksheets": [
  {
   "cells": [
    {
     "cell_type": "heading",
     "level": 1,
     "metadata": {},
     "source": [
      "X-Ray Binaries in NGC 55"
     ]
    },
    {
     "cell_type": "heading",
     "level": 3,
     "metadata": {},
     "source": [
      "Jeff J. Andrews, Andreas Zezas, Tassos Fragos, et al."
     ]
    },
    {
     "cell_type": "code",
     "collapsed": false,
     "input": [],
     "language": "python",
     "metadata": {},
     "outputs": []
    }
   ],
   "metadata": {}
  }
 ]
}