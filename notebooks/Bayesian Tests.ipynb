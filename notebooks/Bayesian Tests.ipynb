{
 "cells": [
  {
   "cell_type": "code",
   "execution_count": null,
   "metadata": {
    "collapsed": false
   },
   "outputs": [],
   "source": [
    "import os\n",
    "import glob\n",
    "import numpy as np\n",
    "import matplotlib.pyplot as plt\n",
    "from scipy.interpolate import interp1d, interp2d\n",
    "from scipy.stats import uniform\n",
    "import emcee\n",
    "import corner\n",
    "\n",
    "%matplotlib inline"
   ]
  },
  {
   "cell_type": "markdown",
   "metadata": {},
   "source": [
    "### Constants"
   ]
  },
  {
   "cell_type": "code",
   "execution_count": null,
   "metadata": {
    "collapsed": false
   },
   "outputs": [],
   "source": [
    "GGG = 1.909e5 # Gravitational constant in Rsun * (km/s)^2 / Msun\n",
    "km_to_cm = 1.0e5 # km to cm\n",
    "Msun_to_g = 1.989e33 # Msun to g\n",
    "Rsun_to_cm = 6.995e10 # Rsun to cm\n",
    "pc_to_km = 3.086e13 # pc to km\n",
    "yr_to_sec = 31557600.0 # Sec in yr\n",
    "Myr_to_yr = 1.0e6 # yr in Myr\n",
    "\n",
    "M_0 = 0.073 # in Msun\n",
    "xi = 0.704\n",
    "M_NS = 1.35\n",
    "v_wind = 1000.0 # companion velocity in km/s\n",
    "R_NS = 12.0  # NS radius in km\n",
    "Dist_LMC = 5.0e4 * pc_to_km # in km\n",
    "eta_bol = 0.3  # Conversion from bolometric to X-ray luminosity"
   ]
  },
  {
   "cell_type": "markdown",
   "metadata": {},
   "source": [
    "### SSE data"
   ]
  },
  {
   "cell_type": "code",
   "execution_count": null,
   "metadata": {
    "collapsed": true
   },
   "outputs": [],
   "source": [
    "sse_tmp_mass = np.array([])\n",
    "sse_tmp_time = np.array([])\n",
    "\n",
    "names = [\"time\",\"mass\",\"mdot\",\"radius\"]\n",
    "\n",
    "f_list = glob.glob(\"../data/sse_data/mdot_*.dat\")\n",
    "\n",
    "f_list = np.sort(f_list)\n",
    "\n",
    "for f in f_list:\n",
    "    datafile = os.path.abspath(f)\n",
    "    sse_tmp_data = np.genfromtxt(datafile, usecols=(0,2,3,4), dtype=\"f8,float64,float64,float64\", skip_header=1, names=names)\n",
    "\n",
    "    sse_tmp_time = np.append(sse_tmp_time, max(sse_tmp_data[\"time\"])-1.0)\n",
    "    sse_tmp_mass = np.append(sse_tmp_mass, sse_tmp_data[\"mass\"][0])\n",
    "\n",
    "\n",
    "func_sse_tmax = interp1d(sse_tmp_mass, sse_tmp_time, bounds_error=False, fill_value=0.0)"
   ]
  },
  {
   "cell_type": "markdown",
   "metadata": {},
   "source": [
    "### Mass transfer calculation"
   ]
  },
  {
   "cell_type": "code",
   "execution_count": null,
   "metadata": {
    "collapsed": false
   },
   "outputs": [],
   "source": [
    "def func_MT_forward(M_1_in, M_2_in, A_in):\n",
    "\n",
    "    M_1_out = M_0 * M_1_in**(1./xi)\n",
    "    M_2_out = M_1_in + M_2_in - M_1_out\n",
    "    A_out = A_in * (M_1_in*M_2_in/M_1_out/M_2_out)*(M_1_in*M_2_in/M_1_out/M_2_out)\n",
    "\n",
    "    return M_1_out, M_2_out, A_out\n",
    "\n",
    "def get_MT_M1(M_1):\n",
    "    return M_0 * np.power(M_1, 1.0/xi)\n",
    "\n",
    "def get_MT_M2(M_1, M_2):\n",
    "    M1_core = get_MT_M1(M_1)\n",
    "    return M_1 + M_2 - M1_core\n",
    "\n",
    "def get_MT_A(M_1, M_2, A):\n",
    "    M1_MT = get_MT_M1(M_1)\n",
    "    M2_MT = get_MT_M2(M_1, M_2)\n",
    "    return A * ((M_1*M_2)/(M1_MT*M2_MT))**2\n",
    "\n",
    "def J_MT(M_1, M_2, A):\n",
    "    M1_core = get_MT_M1(M_1)\n",
    "    M2_MT = get_MT_M2(M_1, M_2, A)\n",
    "    return M_0/xi * np.power(M_1, 1.0/xi - 1.0) \\\n",
    "        * ((M_1*M_2)/(M1_core * M2_MT))**2\n",
    "    \n",
    "def get_dM1_dM1(M_1):\n",
    "    return M_0/xi * np.power(M_1, 1.0/xi - 1.0)\n",
    "\n",
    "def get_dA_dA(M_1, M_2, A):\n",
    "    M1_core = get_MT_M1(M_1)\n",
    "    M2_MT = get_MT_M2(M_1, M_2)\n",
    "    return ((M_1*M_2)/(M1_core * M2_MT))**2"
   ]
  },
  {
   "cell_type": "code",
   "execution_count": null,
   "metadata": {
    "collapsed": false
   },
   "outputs": [],
   "source": [
    "print \"Test Derivatives\"\n",
    "print \"\"\n",
    "print \"dM1'/dM1\"\n",
    "print \"Numerical:\", (get_MT_M1(2.0)-get_MT_M1(1.99)) / 0.01\n",
    "print \"Analytic:\", get_dM1_dM1(2.0)\n",
    "print \"\"\n",
    "print \"dM2'/dM2\"\n",
    "print \"Numerical:\", (get_MT_M2(2.0, 2.0) - get_MT_M2(2.0, 1.99)) / 0.01\n",
    "print \"Analytic: 1.0\"\n",
    "print \"\"\n",
    "print \"dA'/dA\"\n",
    "print \"Numerical:\", (get_MT_A(2.0, 2.0, 100.0) - get_MT_A(2.0, 2.0, 99.99))/0.01\n",
    "print \"Analytic:\", get_dA_dA(2.0, 2.0, 100.0)"
   ]
  },
  {
   "cell_type": "markdown",
   "metadata": {
    "collapsed": true
   },
   "source": [
    "### Quick emcee test"
   ]
  },
  {
   "cell_type": "code",
   "execution_count": null,
   "metadata": {
    "collapsed": true
   },
   "outputs": [],
   "source": [
    "def ln_posterior(x, args):\n",
    "    M1, M2, A = x\n",
    "    M1_b_out = args\n",
    "    \n",
    "    M1_b, M2_b, A_b = func_MT_forward(M1, M2, A)\n",
    "\n",
    "    ll = 0.0\n",
    "    lp = 0.0\n",
    "    \n",
    "    # Prior\n",
    "    lp = ln_prior(x)\n",
    "    \n",
    "    # M2 observation\n",
    "#    delta_M_err = 0.2\n",
    "#    coeff_M = -0.5 * np.log( 2. * np.pi * delta_M_err*delta_M_err )\n",
    "#    argument_M = -( M1_b - M1_b_out ) * ( M1_b - M1_b_out ) / ( 2. * delta_M_err*delta_M_err )\n",
    "#    ll += coeff_M + argument_M\n",
    "    \n",
    "    return ll+lp\n",
    "\n",
    "\n",
    "min_mass = 8.0\n",
    "max_mass = 30.0\n",
    "alpha = -2.35\n",
    "min_A = 10.0\n",
    "max_A = 10000.0\n",
    "def ln_prior(x):\n",
    "    \n",
    "    M1, M2, A = x\n",
    "    \n",
    "    lp = 0.0\n",
    "        \n",
    "    # P(M1)\n",
    "    if M1 < min_mass or M1 > max_mass: return -np.inf\n",
    "    norm_const = (alpha+1.0) / (np.power(max_mass, alpha+1.0) - np.power(min_mass, alpha+1.0))\n",
    "    lp += np.log( norm_const * np.power(M1, alpha) )\n",
    "\n",
    "    # P(M2)\n",
    "    q = M2 / M1\n",
    "    if q < 0.3 or q > 1.0: return -np.inf\n",
    "    lp += np.log( (1.0 / 0.7) * (1.0 / M1 ) )\n",
    "\n",
    "    # P(A)\n",
    "    if A < min_A or A > max_A: return -np.inf\n",
    "    norm_const = np.log(max_A) - np.log(min_A)\n",
    "    lp += np.log( norm_const / A )\n",
    "    \n",
    "    return lp\n",
    "\n",
    "    "
   ]
  },
  {
   "cell_type": "code",
   "execution_count": null,
   "metadata": {
    "collapsed": false
   },
   "outputs": [],
   "source": [
    "M1_true = 12.0\n",
    "M2_true = 5.0\n",
    "A_true = 250.0\n",
    "\n",
    "M1_MT, M2_MT, A_MT = func_MT_forward(M1_true, M2_true, A_true)\n",
    "\n",
    "print M1_MT, M2_MT, A_MT"
   ]
  },
  {
   "cell_type": "code",
   "execution_count": null,
   "metadata": {
    "collapsed": false
   },
   "outputs": [],
   "source": [
    "# Define sampler\n",
    "nwalkers = 32\n",
    "args = [[M1_MT]]\n",
    "sampler = emcee.EnsembleSampler(nwalkers=nwalkers, dim=3, lnpostfn=ln_posterior, args=args)\n",
    "\n",
    "\n",
    "# Set initial walkers\n",
    "p0 = np.zeros((nwalkers,3))\n",
    "p0[:,0] = np.random.normal(10.0, 0.5, size=nwalkers)\n",
    "p0[:,1] = np.random.normal(7.0, 1.0, size=nwalkers)\n",
    "p0[:,2] = np.random.normal(100.0, 40., size=nwalkers)\n",
    "\n",
    "\n",
    "nburn = 1000\n",
    "nsteps = 10000\n",
    "\n",
    "# Burn-in\n",
    "pos,prob,state = sampler.run_mcmc(p0, N=nburn)\n",
    "    \n",
    "# Full run\n",
    "sampler.reset()\n",
    "pos,prob,state = sampler.run_mcmc(pos, N=nsteps)\n"
   ]
  },
  {
   "cell_type": "code",
   "execution_count": null,
   "metadata": {
    "collapsed": false
   },
   "outputs": [],
   "source": [
    "truths = [M1_true, M2_true, A_true]\n",
    "labels = [r\"$M_1$\", r\"$M_2$\", r\"$A$\"]\n",
    "fig = corner.corner(sampler.flatchain, labels=labels, truths=truths)"
   ]
  },
  {
   "cell_type": "code",
   "execution_count": null,
   "metadata": {
    "collapsed": true
   },
   "outputs": [],
   "source": []
  },
  {
   "cell_type": "code",
   "execution_count": null,
   "metadata": {
    "collapsed": true
   },
   "outputs": [],
   "source": []
  },
  {
   "cell_type": "code",
   "execution_count": null,
   "metadata": {
    "collapsed": true
   },
   "outputs": [],
   "source": []
  },
  {
   "cell_type": "code",
   "execution_count": null,
   "metadata": {
    "collapsed": true
   },
   "outputs": [],
   "source": [
    "def get_ran_theta(N):\n",
    "    return np.arccos(1.0-2.0*uniform.rvs(size = N))\n",
    "def get_ran_omega(N):\n",
    "    return 2.0 * np.pi * uniform.rvs(size = N)\n",
    "\n",
    "def dec_to_rad(theta):\n",
    "    return np.pi * theta / 180.0\n",
    "def rad_to_dec(theta):\n",
    "    return 180.0 * theta / np.pi\n",
    "\n",
    "def get_theta_proj(alpha, delta, alpha_b, delta_b):\n",
    "    return np.sqrt((alpha_b-alpha)**2 * np.cos(delta)*np.cos(delta_b) + (delta_b-delta)**2)\n",
    "\n",
    "def get_omega(alpha, delta, alpha_b, delta_b):\n",
    "    return np.arctan((delta_b-delta) / ((alpha_b - alpha)*np.cos(delta_b)))\n",
    "\n",
    "def get_dtheta_dalpha(alpha, delta, alpha_b, delta_b):\n",
    "    theta_proj = get_theta_proj(alpha, delta, alpha_b, delta_b)\n",
    "    return (alpha-alpha_b) * np.cos(delta) * np.cos(delta_b) / theta_proj\n",
    "\n",
    "def get_dtheta_ddelta(alpha, delta, alpha_b, delta_b):\n",
    "    theta_proj = get_theta_proj(alpha, delta, alpha_b, delta_b)\n",
    "    return - 1.0/(2.0*theta_proj) * (np.cos(delta_b)*np.sin(delta)*(alpha_b-alpha)**2 + 2.0*(delta_b-delta))\n",
    "\n",
    "def get_domega_dalpha(alpha, delta, alpha_b, delta_b):\n",
    "    z = (delta_b-delta) / ((alpha_b-alpha) * np.cos(delta_b))\n",
    "    return 1.0 / (1.0 + z*z) * z / (alpha_b - alpha)\n",
    "\n",
    "def get_domega_ddelta(alpha, delta, alpha_b, delta_b):\n",
    "    z = (delta_b-delta) / ((alpha_b-alpha) * np.cos(delta_b))\n",
    "    return - 1.0 / (1.0 + z*z) / ((alpha_b-alpha) * np.cos(delta_b))\n",
    "\n",
    "def get_J_coor(alpha, delta, alpha_b, delta_b):\n",
    "    dt_da = get_dtheta_dalpha(alpha, delta, alpha_b, delta_b)\n",
    "    dt_dd = get_dtheta_ddelta(alpha, delta, alpha_b, delta_b)\n",
    "    do_da = get_domega_dalpha(alpha, delta, alpha_b, delta_b)\n",
    "    do_dd = get_domega_ddelta(alpha, delta, alpha_b, delta_b)\n",
    "\n",
    "    return dt_da*do_dd - dt_dd*do_da\n",
    "\n",
    "\n",
    "def get_P_theta_proj(theta_proj, v_sys, t_sn):\n",
    "\n",
    "    # v_sys needs to be in (km/s)\n",
    "    # t_sn needs to be in s\n",
    "    # theta_proj should be in radians\n",
    "    \n",
    "    # Unitless\n",
    "    tmp = (v_sys * t_sn * 1.0e6 * yr_to_sec) / Dist_LMC\n",
    "                \n",
    "        \n",
    "    # Define conditional\n",
    "    conds = [theta_proj>tmp, theta_proj<=tmp]\n",
    "    funcs = [lambda theta_proj: -np.inf, lambda theta_proj: np.tan(np.arcsin(theta_proj/tmp))/tmp]\n",
    "    \n",
    "    prob_out = np.piecewise(theta_proj, conds, funcs)\n",
    "\n",
    "    return prob_out\n",
    "\n",
    "\n",
    "\n",
    "def get_P_coor(alpha, delta, alpha_b, delta_b, v_sys, t_b):\n",
    "    theta_proj = get_theta_proj(alpha, delta, alpha_b, delta_b)\n",
    "    J_coor = np.abs(get_J_coor(alpha, delta, alpha_b, delta_b))\n",
    "    P_omega = 1.0 / (2.0 * np.pi)\n",
    "    P_theta_proj = get_P_theta_proj(theta_proj, v_sys, t_b)\n",
    "                \n",
    "    return P_omega * P_theta_proj / J_coor\n",
    "\n"
   ]
  },
  {
   "cell_type": "code",
   "execution_count": null,
   "metadata": {
    "collapsed": true
   },
   "outputs": [],
   "source": [
    "\n",
    "def ln_posterior(x, args):\n",
    "    ra, dec, t_sn = x\n",
    "#    ra, dec, t_b, M1 = x\n",
    "    ra_b, dec_b, v_sys = args\n",
    "        \n",
    "    ll = 0.0\n",
    "    lp = 0.0\n",
    "    \n",
    "    # Prior\n",
    "    lp = ln_prior(x)\n",
    "    \n",
    "    # Get t_sn\n",
    "#    t_sn = (t_b - func_sse_tmax(M1))\n",
    "    \n",
    "    likelihood = get_P_coor(dec_to_rad(ra), dec_to_rad(dec), dec_to_rad(ra_b), dec_to_rad(dec_b), v_sys, t_sn)    \n",
    "    if likelihood <= 0.0 or np.isnan(likelihood): return -np.inf\n",
    "        \n",
    "    ll = np.log(likelihood)\n",
    "    \n",
    "    return ll+lp\n",
    "\n",
    "def ln_prior(x):\n",
    "    ra, dec, t_b = x\n",
    "#    ra, dec, t_b, M1 = x\n",
    "\n",
    "    if ra < 70.0 or ra > 90.0 or dec < 30.0 or dec > 50.0 or t_b < 10.0 or t_b > 50.0: return -np.inf\n",
    "        \n",
    "#    if t_b < 32.0 or t_b > 38.0: return -np.inf\n",
    "#    if M1 < 8.0 or M1 > 39.0: return -np.inf\n",
    "            \n",
    "    return np.log(np.cos(dec_to_rad(dec)))\n"
   ]
  },
  {
   "cell_type": "code",
   "execution_count": null,
   "metadata": {
    "collapsed": false
   },
   "outputs": [],
   "source": [
    "M1_true = 15.0\n",
    "ra_true = 77.0\n",
    "dec_true = 45.0\n",
    "t_true = 38.0 # 10 Myr\n",
    "v_sys = 50.0 # km/s\n",
    "\n",
    "#ran_theta = get_ran_theta(1)\n",
    "#ran_omega = get_ran_omega(1)\n",
    "\n",
    "t_sn_true = t_true\n",
    "#t_sn_true = t_true - func_sse_tmax(M1_true)\n",
    "\n",
    "theta_proj_test = np.sin(ran_theta) * v_sys * (t_sn_true*1.0e6*yr_to_sec) / Dist_LMC\n",
    "\n",
    "delta_dec = theta_proj_test * np.sin(ran_omega)\n",
    "dec_obs = dec_true + rad_to_dec(delta_dec)\n",
    "\n",
    "delta_ra = np.sign(np.sin(ran_omega)) * np.sqrt((theta_proj_test**2 - delta_dec**2) / (np.cos(dec_to_rad(dec_true)) * np.cos(dec_to_rad(dec_obs))))\n",
    "#ra_obs = ra_true + rad_to_dec(theta_proj_test/np.cos(dec_to_rad(dec_true)) * np.cos(ran_omega))\n",
    "ra_obs = ra_true + rad_to_dec(delta_ra)\n",
    "\n",
    "\n",
    "print \"tmp:\", v_sys * (t_sn_true*1.0e6*yr_to_sec) / Dist_LMC\n",
    "\n",
    "t_sn_i = 34.0 # Myr\n",
    "\n",
    "print \"True (ra, dec)\", ra_true, dec_true\n",
    "print \"Observed (ra, dec):\", ra_obs, dec_obs\n",
    "\n",
    "\n",
    "\n",
    "x = ra_true, dec_true, t_true\n",
    "#x = ra_true, dec_true, t_true, M1_true\n",
    "args = ra_obs, dec_obs, v_sys\n",
    "\n",
    "print \"True ln_posterior:\", ln_posterior(x, args)"
   ]
  },
  {
   "cell_type": "code",
   "execution_count": null,
   "metadata": {
    "collapsed": false
   },
   "outputs": [],
   "source": [
    "\n",
    "\n",
    "# Define sampler\n",
    "nwalkers = 32\n",
    "args = [[ra_obs, dec_obs, t_sn_i]]\n",
    "sampler = emcee.EnsembleSampler(nwalkers=nwalkers, dim=3, lnpostfn=ln_posterior, args=args)\n",
    "#sampler = emcee.EnsembleSampler(nwalkers=nwalkers, dim=4, lnpostfn=ln_posterior, args=args)\n",
    "\n",
    "# Set initial walkers\n",
    "p0 = np.zeros((nwalkers,3))\n",
    "#p0 = np.zeros((nwalkers,4))\n",
    "p0[:,0] = np.random.normal(ra_obs, 0.01, size=nwalkers)\n",
    "p0[:,1] = np.random.normal(dec_obs, 0.003, size=nwalkers)\n",
    "p0[:,2] = np.random.normal(t_sn_i, 1.0, size=nwalkers)\n",
    "#p0[:,3] = np.random.uniform(8.0, 20.0, size=nwalkers)\n",
    "\n",
    "\n",
    "nburn = 1000\n",
    "nsteps = 50000\n",
    "\n",
    "# Burn-in\n",
    "pos,prob,state = sampler.run_mcmc(p0, N=nburn)\n",
    "    \n",
    "# Full run\n",
    "sampler.reset()\n",
    "pos,prob,state = sampler.run_mcmc(pos, N=nsteps)\n"
   ]
  },
  {
   "cell_type": "code",
   "execution_count": null,
   "metadata": {
    "collapsed": false
   },
   "outputs": [],
   "source": [
    "truths = [ra_true, dec_true, t_true]\n",
    "#truths = [ra_true, dec_true, t_true, M1_true]\n",
    "labels = [r\"$\\alpha$\", r\"$\\delta$\", r\"$t_b$\"]\n",
    "#labels = [r\"$\\alpha$\", r\"$\\delta$\", r\"$t_b$\", r\"$M_1$\"]\n",
    "fig = corner.corner(sampler.flatchain, labels=labels, truths=truths)"
   ]
  },
  {
   "cell_type": "code",
   "execution_count": null,
   "metadata": {
    "collapsed": false
   },
   "outputs": [],
   "source": [
    "ran_ra = np.linspace(ra_obs-4.0, ra_obs+4.0, 100)\n",
    "ran_dec = np.linspace(dec_obs-3.0, dec_obs+3.0, 100)\n",
    "\n",
    "xx, yy = np.meshgrid(ran_ra, ran_dec)\n",
    "\n",
    "args = ra_obs, dec_obs, v_sys\n",
    "\n",
    "\n",
    "# True time\n",
    "ran_P_out = np.zeros(xx.shape)\n",
    "\n",
    "for i in np.arange(len(ran_ra)):\n",
    "    for j in np.arange(len(ran_dec)):\n",
    "        ran_x = ran_ra[i], ran_dec[j], t_true\n",
    "        ran_P_out[j,i] = ln_posterior(ran_x, args)\n",
    "        \n",
    "\n",
    "plt.pcolor(xx, yy, ran_P_out, vmin=-35.0, vmax=-20.0)\n",
    "\n",
    "plt.axvline(ra_true, color='r')\n",
    "plt.axhline(dec_true, color='r')\n",
    "\n",
    "plt.show()\n",
    "\n",
    "\n",
    "# Earlier time\n",
    "ran_P_out = np.zeros(xx.shape)\n",
    "\n",
    "for i in np.arange(len(ran_ra)):\n",
    "    for j in np.arange(len(ran_dec)):\n",
    "        ran_x = ran_ra[i], ran_dec[j], t_true\n",
    "        ran_P_out[j,i] = ln_posterior(ran_x, args)\n",
    "        \n",
    "\n",
    "plt.pcolor(xx, yy, ran_P_out, vmin=-10.0, vmax=10.0)\n",
    "\n",
    "plt.axvline(ra_true, color='r')\n",
    "plt.axhline(dec_true, color='r')\n",
    "\n",
    "plt.show()\n"
   ]
  },
  {
   "cell_type": "code",
   "execution_count": null,
   "metadata": {
    "collapsed": false
   },
   "outputs": [],
   "source": [
    "for i in range(sampler.dim):\n",
    "    plt.figure()\n",
    "    for chain in sampler.chain[...,i]:\n",
    "        plt.plot(chain[:1000], alpha=0.25, color='k', drawstyle='steps')\n",
    "\n",
    "print prob"
   ]
  },
  {
   "cell_type": "code",
   "execution_count": null,
   "metadata": {
    "collapsed": true
   },
   "outputs": [],
   "source": []
  }
 ],
 "metadata": {
  "kernelspec": {
   "display_name": "Python 2",
   "language": "python",
   "name": "python2"
  },
  "language_info": {
   "codemirror_mode": {
    "name": "ipython",
    "version": 2
   },
   "file_extension": ".py",
   "mimetype": "text/x-python",
   "name": "python",
   "nbconvert_exporter": "python",
   "pygments_lexer": "ipython2",
   "version": "2.7.10"
  }
 },
 "nbformat": 4,
 "nbformat_minor": 0
}