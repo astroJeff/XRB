{
 "cells": [
  {
   "cell_type": "markdown",
   "metadata": {},
   "source": [
    "# Tests of the binary module"
   ]
  },
  {
   "cell_type": "markdown",
   "metadata": {},
   "source": [
    "## Jeff J. Andrews, Andreas Zezas, & Tassos Fragos"
   ]
  },
  {
   "cell_type": "code",
   "execution_count": null,
   "metadata": {
    "collapsed": false
   },
   "outputs": [],
   "source": [
    "import sys\n",
    "import numpy as np\n",
    "import matplotlib.pyplot as plt\n",
    "import corner\n",
    "import density_contour\n",
    "import pickle\n",
    "from astropy.coordinates import SkyCoord\n",
    "from astropy import units as u\n",
    "\n",
    "%matplotlib inline\n",
    "\n",
    "sys.path.append('../binary')\n",
    "import binary_evolve\n",
    "import load_sse\n",
    "sys.path.append('../stats')\n",
    "import stats\n"
   ]
  },
  {
   "cell_type": "code",
   "execution_count": null,
   "metadata": {
    "collapsed": false
   },
   "outputs": [],
   "source": [
    "load_sse.load_sse()"
   ]
  },
  {
   "cell_type": "code",
   "execution_count": null,
   "metadata": {
    "collapsed": false
   },
   "outputs": [],
   "source": [
    "M1 = np.linspace(1.0, 39.0, 100)\n",
    "M1_c = load_sse.func_sse_he_mass(M1)\n",
    "\n",
    "x = 0.3\n",
    "q_crit = (1.67 - x + 2*(M1_c/M1)**5) / 2.13\n",
    "q_crit = 0.362 + 1.0 / (3.0*(1.0 - M1_c/M1))\n",
    "\n",
    "#plt.plot(M1, M1_c)\n",
    "plt.plot(M1, q_crit)\n",
    "#plt.plot(M1, M1_c/M1)\n",
    "\n",
    "#plt.ylim(0.0, 1.0)\n",
    "\n",
    "plt.show()"
   ]
  },
  {
   "cell_type": "code",
   "execution_count": null,
   "metadata": {
    "collapsed": false
   },
   "outputs": [],
   "source": [
    "import matplotlib.patches as mpatches\n",
    "\n",
    "\n",
    "def plot_star_evolve(mass_in):\n",
    "    f, (ax1, ax2) = plt.subplots(2, 1, sharex=True, figsize=(12,6))\n",
    "\n",
    "    ax1.set_title('Mass = ' + str(mass_in))\n",
    "    \n",
    "    # Set x values\n",
    "    t_tmp = np.linspace(1.0, 100.0, 100000)\n",
    "\n",
    "    # Get y values\n",
    "    mass_tmp, mdot_tmp, radius_tmp, k_tmp = load_sse.func_get_sse_star(mass_in, t_tmp)\n",
    "\n",
    "    # Get times for k-type change\n",
    "    _, idx = np.unique(k_tmp, return_index=True)\n",
    "\n",
    "    # Set patches, colors, etc\n",
    "    patches = np.array([])\n",
    "    colors=['k','k','g','r','b','c','y','m','k']\n",
    "\n",
    "\n",
    "    # Plot k-types\n",
    "#    ax1.plot(t_tmp, k_tmp)\n",
    "#    ax1.set_ylim(0.0, 15.0)\n",
    "#    for i in np.arange(len(t_tmp[np.sort(idx)])-1):\n",
    "#        t = t_tmp[np.sort(idx)][i+1]\n",
    "#        ax1.axvline(t, color='k', linestyle='--')\n",
    "\n",
    "    \n",
    "    # Plot stellar radii - linear\n",
    "    ax1.plot(t_tmp, radius_tmp)\n",
    "    for i in np.arange(len(t_tmp[np.sort(idx)])-2):\n",
    "\n",
    "        t = t_tmp[np.sort(idx)][i+2]\n",
    "        t_last = t_tmp[np.sort(idx)][i+1]\n",
    "    \n",
    "        # Get k-type\n",
    "        k = int(k_tmp[np.sort(idx)][i+1])\n",
    "\n",
    "        # Fill in with different colors\n",
    "        ax1.fill_between(t_tmp, 0.0, radius_tmp, where=((t_tmp<t) & (t_tmp>t_last)), facecolor=colors[k], interpolate=True, alpha=0.5)\n",
    "\n",
    "        # Hatched regions designate stars with convective envelopes\n",
    "        if (k==3) or (k==5) or (k==6) or (k==8) or (k==9):\n",
    "            ax1.fill_between(t_tmp, 0.0, radius_tmp, where=((t_tmp<t) & (t_tmp>t_last)), color=\"none\", hatch='//', edgecolor='k', interpolate=True)\n",
    "    \n",
    "        k_str = str(k)\n",
    "\n",
    "        \n",
    "        patches = np.append(patches, mpatches.Patch(color=colors[k], label=k_str))\n",
    "\n",
    "        \n",
    "        \n",
    "    # Plot stellar radii - log scale\n",
    "    ax2.plot(t_tmp, radius_tmp)\n",
    "    for i in np.arange(len(t_tmp[np.sort(idx)])-2):\n",
    "\n",
    "        t = t_tmp[np.sort(idx)][i+2]\n",
    "        t_last = t_tmp[np.sort(idx)][i+1]\n",
    "\n",
    "        # Get k-type\n",
    "        k = int(k_tmp[np.sort(idx)][i+1])\n",
    "\n",
    "        # Fill in with different colors\n",
    "        ax2.fill_between(t_tmp, 0.0, radius_tmp, where=((t_tmp<t) & (t_tmp>t_last)), facecolor=colors[k], interpolate=True, alpha=0.5)\n",
    "\n",
    "        # Hatched regions designate stars with convective envelopes\n",
    "        if (k==3) or (k==5) or (k==6) or (k==8) or k==9:\n",
    "            ax2.fill_between(t_tmp, 0.0, radius_tmp, where=((t_tmp<t) & (t_tmp>t_last)), color=\"none\", hatch='//', edgecolor='k', interpolate=True)\n",
    "    \n",
    "        k_str = str(k)\n",
    "    \n",
    "#        patches = np.append(patches, mpatches.Patch(color=colors[i], label=k_str))\n",
    "\n",
    "\n",
    "    # Create lower panel legend\n",
    "    ax1.legend(title='k-type', handles=patches.tolist(), loc=2)\n",
    "\n",
    "    # Set labels, limits\n",
    "    delta_x = t_tmp[idx][-1] - t_tmp[idx][1]\n",
    "    xlim = [- 0.15*delta_x + t_tmp[idx][1], 0.05*delta_x + t_tmp[idx][-1]]\n",
    "    ax1.set_xlim(xlim)\n",
    "    ax2.set_xlim(xlim)\n",
    "    ylim = [1.0, 2.0*max(radius_tmp)]\n",
    "    ax2.set_ylim(ylim)\n",
    "\n",
    "    ax1.set_ylabel('k-type')\n",
    "    ax2.set_ylabel('Radius (Rsun)')\n",
    "    ax2.set_xlabel('Time (Myr)')\n",
    "    ax2.set_yscale('log')\n",
    "\n",
    "    return plt\n",
    "    \n"
   ]
  },
  {
   "cell_type": "code",
   "execution_count": null,
   "metadata": {
    "collapsed": false
   },
   "outputs": [],
   "source": [
    "plot_star_evolve(8.0)\n",
    "plt.savefig('../figures/stellar_type_evolve_M8.pdf')\n",
    "\n",
    "plot_star_evolve(10.0)\n",
    "plt.savefig('../figures/stellar_type_evolve_M10.pdf')\n",
    "\n",
    "plot_star_evolve(14.0)\n",
    "plt.savefig('../figures/stellar_type_evolve_M14.pdf')\n",
    "\n",
    "plot_star_evolve(30.0)\n",
    "plt.savefig('../figures/stellar_type_evolve_M30.pdf')\n",
    "\n",
    "#plt.show()"
   ]
  },
  {
   "cell_type": "code",
   "execution_count": null,
   "metadata": {
    "collapsed": true
   },
   "outputs": [],
   "source": [
    "def plot_k_r(mass_in):\n",
    "\n",
    "    \n",
    "    # Set x values\n",
    "    t_tmp = np.linspace(1.0, 100.0, 100000)\n",
    "\n",
    "    # Get y values\n",
    "    mass_tmp, mdot_tmp, radius_tmp, k_tmp = load_sse.func_get_sse_star(mass_in, t_tmp)\n",
    "\n",
    "    # Get times for k-type change\n",
    "    _, idx = np.unique(k_tmp, return_index=True)\n",
    "\n",
    "    # Set patches, colors, etc\n",
    "    patches = np.array([])\n",
    "    colors=['k','k','g','r','b','c','y','m','k']\n",
    "\n",
    "    \n",
    "    tmp_r = np.linspace(1.0, 1800.0, 10000)\n",
    "    tmp_k = load_sse.func_sse_get_k_from_r(mass_in, tmp_r)\n",
    "    \n",
    "    plt.plot(tmp_r, tmp_k)\n",
    "    \n",
    "    \n",
    "#     # Plot k-types from time\n",
    "#     plt.plot(t_tmp, k_tmp)\n",
    "#     plt.ylim(0.0, 15.0)\n",
    "#     for i in np.arange(len(t_tmp[np.sort(idx)])-1):\n",
    "#         t = t_tmp[np.sort(idx)][i+1]\n",
    "#         plt.axvline(t, color='k', linestyle='--')\n",
    "        \n",
    "        \n",
    "    plt.show()\n"
   ]
  },
  {
   "cell_type": "code",
   "execution_count": null,
   "metadata": {
    "collapsed": false
   },
   "outputs": [],
   "source": [
    "plot_k_r(10.0)"
   ]
  },
  {
   "cell_type": "code",
   "execution_count": null,
   "metadata": {
    "collapsed": false
   },
   "outputs": [],
   "source": [
    "plot_star_evolve(10.0)\n",
    "\n",
    "plt.show()"
   ]
  },
  {
   "cell_type": "code",
   "execution_count": null,
   "metadata": {
    "collapsed": true
   },
   "outputs": [],
   "source": []
  }
 ],
 "metadata": {
  "kernelspec": {
   "display_name": "Python 2",
   "language": "python",
   "name": "python2"
  },
  "language_info": {
   "codemirror_mode": {
    "name": "ipython",
    "version": 2
   },
   "file_extension": ".py",
   "mimetype": "text/x-python",
   "name": "python",
   "nbconvert_exporter": "python",
   "pygments_lexer": "ipython2",
   "version": "2.7.10"
  }
 },
 "nbformat": 4,
 "nbformat_minor": 0
}
