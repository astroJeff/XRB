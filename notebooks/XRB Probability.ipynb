{
 "metadata": {
  "name": "",
  "signature": "sha256:ae22dc4c17d68af06d658ce8db88ee8bcb04806dd723abeeb0dd4b9f7d58ea8f"
 },
 "nbformat": 3,
 "nbformat_minor": 0,
 "worksheets": [
  {
   "cells": [
    {
     "cell_type": "heading",
     "level": 1,
     "metadata": {},
     "source": [
      "XRB Probability"
     ]
    },
    {
     "cell_type": "heading",
     "level": 3,
     "metadata": {},
     "source": [
      "Jeff J. Andrews, Andreas Zezas, Tassos Fragos, et al."
     ]
    },
    {
     "cell_type": "code",
     "collapsed": false,
     "input": [
      "import os\n",
      "import glob\n",
      "import numpy as np\n",
      "import matplotlib.pyplot as plt\n",
      "from scipy.interpolate import interp1d, interp2d\n",
      "from scipy.stats import maxwell, norm, uniform, powerlaw\n",
      "\n",
      "%matplotlib inline"
     ],
     "language": "python",
     "metadata": {},
     "outputs": [],
     "prompt_number": 1
    },
    {
     "cell_type": "heading",
     "level": 3,
     "metadata": {},
     "source": [
      "Constants"
     ]
    },
    {
     "cell_type": "code",
     "collapsed": false,
     "input": [
      "GGG = 1.909e5 # Gravitational constant in Rsun * (km/s)^2 / Msun\n",
      "km_to_cm = 1.0e5 # km to cm\n",
      "Msun_to_g = 1.989e33 # Msun to g\n",
      "Rsun_to_cm = 6.995e10 # Rsun to cm\n",
      "yr_to_sec = 31557600.0 # Sec in yr\n",
      "\n",
      "M_0 = 0.073 # in Msun\n",
      "xi = 0.704\n",
      "M_NS = 1.35\n",
      "v_wind = 1000.0 # companion velocity in km/s\n",
      "R_NS = 12.0  # NS radius in km"
     ],
     "language": "python",
     "metadata": {},
     "outputs": [],
     "prompt_number": 2
    },
    {
     "cell_type": "heading",
     "level": 3,
     "metadata": {},
     "source": [
      "The first mass transfer phase"
     ]
    },
    {
     "cell_type": "code",
     "collapsed": false,
     "input": [
      "def func_MT_forward(M_1_in, M_2_in, A_in):\n",
      "\n",
      "    M_1_out = M_0 * M_1_in**(1./xi)\n",
      "    M_2_out = M_1_in + M_2_in - M_1_out\n",
      "    A_out = A_in * (M_1_in*M_2_in/M_1_out/M_2_out)*(M_1_in*M_2_in/M_1_out/M_2_out)\n",
      "\n",
      "    return M_1_out, M_2_out, A_out\n",
      "    \n",
      "def func_MT_backward(M_1_in, M_2_in, A_in):\n",
      "    \n",
      "    M_1_out = (M_1_in/M_0)**xi\n",
      "    M_2_out = M_2_in - M_1_out + M_1_in\n",
      "    A_out = A_in * (M_1_in*M_2_in/M_1_out/M_2_out)*(M_1_in*M_2_in/M_1_out/M_2_out)\n",
      "\n",
      "    return M_1_out, M_2_out, A_out"
     ],
     "language": "python",
     "metadata": {},
     "outputs": [],
     "prompt_number": 3
    },
    {
     "cell_type": "heading",
     "level": 3,
     "metadata": {},
     "source": [
      "The supernova"
     ]
    },
    {
     "cell_type": "code",
     "collapsed": false,
     "input": [
      "def func_SN_forward(M_1_in, M_2, A_in, v_k, theta, phi):\n",
      "    \n",
      "    v_r = np.sqrt(GGG*(M_1_in + M_2)/A_in)\n",
      "    v_1 = np.sqrt(2.0*v_k*v_r*np.cos(theta) + v_k*v_k + v_r*v_r)\n",
      "    \n",
      "    A_out = 1.0 / (2.0/A_in - v_1*v_1/(GGG*(M_NS+M_2)))\n",
      "#    v_sys = (M_NS / (M_NS + M_2)) * v_1\n",
      "    \n",
      "    # Systemic velocity    \n",
      "    alpha = (M_1_in / (M_1_in + M_2))    \n",
      "    beta = (M_NS / (M_NS + M_2))\n",
      "    \n",
      "    v_sys = beta*beta*v_k*v_k\n",
      "    v_sys = v_sys + v_r*v_r*(beta-alpha)*(beta-alpha)\n",
      "    v_sys = v_sys + 2.0*beta*v_k*v_r*np.cos(theta)*(beta-alpha)\n",
      "    v_sys = np.sqrt(v_sys)\n",
      "    \n",
      "    # Eccentricity\n",
      "    e_tmp = v_k*v_k*np.cos(theta)*np.cos(theta) \n",
      "    e_tmp = e_tmp + v_k*v_k*np.sin(theta)*np.sin(theta)*np.sin(phi)*np.sin(phi) \n",
      "    e_tmp = e_tmp + 2.0*v_k*v_r*np.cos(theta)\n",
      "    e_tmp = e_tmp + v_r*v_r\n",
      "    e_tmp = 1.0 - (A_in*A_in)/(A_out*GGG*(M_NS+M_2)) * e_tmp\n",
      "    \n",
      "    if isinstance(e_tmp, np.ndarray):\n",
      "        e = np.array([np.sqrt(x) if x > 0.0 else -1.0 for x in e_tmp])\n",
      "    else:\n",
      "        if e_tmp < 0.0: return A_out, v_sys, -1.0\n",
      "        e = np.sqrt(e_tmp)\n",
      "    \n",
      "    return A_out, v_sys, e\n"
     ],
     "language": "python",
     "metadata": {},
     "outputs": [],
     "prompt_number": 17
    },
    {
     "cell_type": "code",
     "collapsed": false,
     "input": [
      "def func_SN_backward(M_2, A_in, v_sys_in, v_k, theta, phi):\n",
      "    \n",
      "    beta = M_NS / (M_NS + M_2)\n",
      "    \n",
      "    if (v_sys_in*v_sys_in/beta/beta < v_k*v_k*np.sin(theta)*np.sin(theta)): return 0, 0, 0, 0\n",
      "    x1 = -v_k*np.cos(theta) + np.sqrt(v_sys_in*v_sys_in/beta/beta - v_k*v_k*np.sin(theta)*np.sin(theta))\n",
      "    x2 = -v_k*np.cos(theta) - np.sqrt(v_sys_in*v_sys_in/beta/beta - v_k*v_k*np.sin(theta)*np.sin(theta))\n",
      "        \n",
      "    # x1 option\n",
      "    c1 = GGG*(M_NS+M_2)/A_in + v_k*v_k + M_NS*M_NS/M_2/M_2*x1*x1 - 2.0*v_k*np.cos(theta)*M_NS/M_2*x1\n",
      "    c2 = -2.0*M_NS*(GGG*(M_NS+M_2)/A_in + v_k*v_k + (M_NS/M_2)*(M_NS/M_2)*x1*x1 + (1.0-M_NS/M_2)*v_k*np.cos(theta)*x1)\n",
      "    c3 = GGG*(M_NS+M_2)/A_in*M_NS*M_NS + M_NS*M_NS*(v_k*v_k + x1*x1) + 2.0*v_k*np.cos(theta)*M_NS*M_NS*x1 - 2.0*(M_NS+M_2)/M_2*M_NS*M_NS*x1*x1\n",
      "    \n",
      "    if (c2*c2 < 4.0*c1*c3):\n",
      "        M_1a = -1.0\n",
      "        M_1b = -1.0\n",
      "    else:\n",
      "        M_1a = (-c2 + np.sqrt(c2*c2-4.0*c1*c3))/(2.0*c1)\n",
      "        M_1b = (-c2 - np.sqrt(c2*c2-4.0*c1*c3))/(2.0*c1)\n",
      "\n",
      "    \n",
      "    # x2 option\n",
      "    c1 = GGG*(M_NS+M_2)/A_in + v_k*v_k + M_NS*M_NS/M_2/M_2*x2*x2 - 2.0*v_k*np.cos(theta)*M_NS/M_2*x2\n",
      "    c2 = -2.0*M_NS*(GGG*(M_NS+M_2)/A_in + v_k*v_k + (M_NS/M_2)*(M_NS/M_2)*x2*x2 + (1.0-M_NS/M_2)*v_k*np.cos(theta)*x2)\n",
      "    c3 = GGG*(M_NS+M_2)/A_in*M_NS*M_NS + M_NS*M_NS*(v_k*v_k + x2*x2) + 2.0*v_k*np.cos(theta)*M_NS*M_NS*x2 - 2.0*(M_NS+M_2)/M_2*M_NS*M_NS*x2*x2\n",
      "    \n",
      "    if (c2*c2 < 4.0*c1*c3):\n",
      "        M_2a = -1.0\n",
      "        M_2b = -1.0\n",
      "    else:\n",
      "        M_2a = (-c2 + np.sqrt(c2*c2-4.0*c1*c3))/(2.0*c1)\n",
      "        M_2b = (-c2 - np.sqrt(c2*c2-4.0*c1*c3))/(2.0*c1)\n",
      "\n",
      "        \n",
      "    \n",
      "    # Now to get A\n",
      "    v_r_1a = (M_1a+M_2)/(M_NS-M_1a)*M_NS/M_2 * x1\n",
      "    v_r_1b = (M_1b+M_2)/(M_NS-M_1b)*M_NS/M_2 * x1\n",
      "    v_r_2a = (M_2a+M_2)/(M_NS-M_2a)*M_NS/M_2 * x2\n",
      "    v_r_2b = (M_2b+M_2)/(M_NS-M_2b)*M_NS/M_2 * x2\n",
      "        \n",
      "    A_1a = (GGG*(M_1a+M_2)) / (v_r_1a*v_r_1a) \n",
      "    A_1b = (GGG*(M_1b+M_2)) / (v_r_1b*v_r_1b)\n",
      "    A_2a = (GGG*(M_2a+M_2)) / (v_r_2a*v_r_2a)\n",
      "    A_2b = (GGG*(M_2b+M_2)) / (v_r_2b*v_r_2b)\n",
      "    \n",
      "    # Only output possible values\n",
      "    M_out = np.array([])\n",
      "    A_out = np.array([])\n",
      "    \n",
      "    if((v_r_1a > 0) and (M_1a > M_NS)):\n",
      "        M_out = np.append(M_out, M_1a)\n",
      "        A_out = np.append(A_out, A_1a)\n",
      "        \n",
      "    if((v_r_1b > 0) and (M_1b > M_NS)):\n",
      "        M_out = np.append(M_out, M_1b)\n",
      "        A_out = np.append(A_out, A_1b)\n",
      "\n",
      "    if((v_r_2a > 0) and (M_2a > M_NS)):\n",
      "        M_out = np.append(M_out, M_2a)\n",
      "        A_out = np.append(A_out, A_2a)\n",
      "    \n",
      "    if((v_r_2b > 0) and (M_2b > M_NS)):\n",
      "        M_out = np.append(M_out, M_2b)\n",
      "        A_out = np.append(A_out, A_2b)\n",
      "        \n",
      "    \n",
      "    return M_out, A_out"
     ],
     "language": "python",
     "metadata": {},
     "outputs": [],
     "prompt_number": 18
    },
    {
     "cell_type": "code",
     "collapsed": false,
     "input": [
      "M_2 = 8.0\n",
      "v_k = 220.0\n",
      "theta = 3.013124\n",
      "phi = 1.0\n",
      "\n",
      "M_1 = 10.5\n",
      "A_1 = 100.0\n",
      "\n",
      "a_2,v2,e = func_SN_forward(M_1, M_2, A_1, v_k, theta, phi)\n",
      "print \"A_out = \", a_2, \"v_sys = \", v2\n",
      "\n",
      "print \"\"\n",
      "\n",
      "M_out, A_out = func_SN_backward(M_2, a_2, v2, v_k, theta, phi)\n",
      "\n",
      "for i in np.arange(len(M_out)):\n",
      "    print M_out[i], A_out[i], func_SN_forward(M_out[i], M_2, A_out[i], v_k, theta, phi)\n",
      "\n"
     ],
     "language": "python",
     "metadata": {},
     "outputs": [
      {
       "output_type": "stream",
       "stream": "stdout",
       "text": [
        "A_out =  52.5157214951 v_sys =  111.104856449\n",
        "\n",
        "10.5 100.0 (52.515721495134962, 111.10485644897412, 0.91777095241495077)\n"
       ]
      }
     ],
     "prompt_number": 19
    },
    {
     "cell_type": "heading",
     "level": 3,
     "metadata": {},
     "source": [
      "Test some SN kick, theta values"
     ]
    },
    {
     "cell_type": "code",
     "collapsed": false,
     "input": [
      "a_temp = np.array([])\n",
      "theta = np.arange(0.0, np.pi, 0.01)\n",
      "phi = 0.0\n",
      "a_temp, v_temp, e_temp = func_SN_forward(10.0, 15.0, 100.0, 100.0, theta, phi)\n",
      "\n",
      "plt.plot(theta, a_temp, color='k')\n",
      "plt.ylim(-300.0, 500.0)\n",
      "plt.xlabel(r\"SN polar kick angle ($\\theta$)\")\n",
      "plt.ylabel(r\"Orbital separation (R$_{\\odot}$)\")\n",
      "\n",
      "plt.show()"
     ],
     "language": "python",
     "metadata": {},
     "outputs": [
      {
       "metadata": {},
       "output_type": "display_data",
       "png": "[encoded data removed]",
       "text": [
        "<matplotlib.figure.Figure at 0x110400910>"
       ]
      }
     ],
     "prompt_number": 21
    },
    {
     "cell_type": "heading",
     "level": 3,
     "metadata": {},
     "source": [
      "Load SSE data"
     ]
    },
    {
     "cell_type": "code",
     "collapsed": false,
     "input": [
      "names = [\"time\",\"mass\",\"mdot\"]\n",
      "\n",
      "f_list = glob.glob(\"../data/sse_data/mdot_*.dat\")\n",
      "\n",
      "f_list = np.sort(f_list)\n",
      "\n",
      "# Create empty data storage structure\n",
      "sse_data = np.recarray(0, names=names, formats=['f8,float64,float64'])\n",
      "\n",
      "func_sse_mdot = np.array([])\n",
      "func_sse_mass = np.array([])\n",
      "func_sse_tmax = np.array([])\n",
      "\n",
      "for f in f_list:\n",
      "    datafile = os.path.abspath(f)\n",
      "    sse_tmp_data = np.genfromtxt(datafile, usecols=(0,2,3), dtype=\"f8,float64,float64\", skip_header=1, names=names)\n",
      "    \n",
      "    func_sse_mass = np.append(func_sse_mass, interp1d(sse_tmp_data[\"time\"], sse_tmp_data[\"mass\"], bounds_error=False, fill_value=0.0))    \n",
      "    func_sse_mdot = np.append(func_sse_mdot, interp1d(sse_tmp_data[\"time\"], sse_tmp_data[\"mdot\"], bounds_error=False, fill_value=0.0))\n",
      "    func_sse_tmax = np.append(func_sse_tmax, max(sse_tmp_data[\"time\"])-1.0)\n"
     ],
     "language": "python",
     "metadata": {},
     "outputs": [],
     "prompt_number": 79
    },
    {
     "cell_type": "code",
     "collapsed": false,
     "input": [
      "def func_get_sse_star(mass, time):\n",
      "        \n",
      "#    tmp = int(mass*100.0)-100\n",
      "#    if ((tmp < 0) or (tmp>len(func_sse_mass))): return -1\n",
      "\n",
      "    mass_out = np.array([])\n",
      "    mdot_out = np.array([])\n",
      "    \n",
      "    for m in mass:\n",
      "        if (int(m*100.0)-100<0 or int(m*100.0)-100>len(func_sse_mass)): continue\n",
      "        mass_out = np.append(mass_out, func_sse_mass[int(m*100.0)-100](time))\n",
      "        mdot_out = np.append(mdot_out, func_sse_mdot[int(m*100.0)-100](time))\n",
      "\n",
      "#    mass_out = np.array([func_sse_mass[int(m*100.0)-100](time) if (int(m*100.0)-100<0 or int(m*100.0)-100>len(func_sse_mass)) else -1.0 for m in mass])\n",
      "#    mdot_out = np.array([func_sse_mdot[int(m*100.0)-100](time) if (int(m*100.0)-100<0 or int(m*100.0)-100>len(func_sse_mass)) else -1.0 for m in mass])\n",
      "    \n",
      "#    return func_sse_mass[tmp](time), func_sse_mdot[tmp](time)\n",
      " \n",
      "    return mass_out, mdot_out\n",
      "    "
     ],
     "language": "python",
     "metadata": {},
     "outputs": [],
     "prompt_number": 24
    },
    {
     "cell_type": "code",
     "collapsed": false,
     "input": [
      "names = [\"mass\",\"he_mass\",\"t_ms\"]\n",
      "f = \"../data/sse_data/He_star.dat\"\n",
      "\n",
      "sse_he_star = np.genfromtxt(os.path.abspath(f), usecols=(0,1,2), names=names)\n",
      "\n",
      "func_sse_he_mass = interp1d(sse_he_star[\"mass\"], sse_he_star[\"he_mass\"], bounds_error=False, fill_value=0.001)\n",
      "func_sse_ms_time = interp1d(sse_he_star[\"mass\"], sse_he_star[\"t_ms\"], bounds_error=False, fill_value=-1.0e10)"
     ],
     "language": "python",
     "metadata": {},
     "outputs": [],
     "prompt_number": 89
    },
    {
     "cell_type": "heading",
     "level": 3,
     "metadata": {},
     "source": [
      "The wind accreting phase"
     ]
    },
    {
     "cell_type": "code",
     "collapsed": false,
     "input": [
      "def func_get_time(M1, M2, t_obs):\n",
      "\n",
      "    t_lifetime_1 = func_sse_ms_time(M1)\n",
      "    he_mass_1 = func_sse_he_mass(M1)\n",
      "    \n",
      "    t_lifetime_2 = func_sse_ms_time(M2)\n",
      "    he_mass_2 = func_sse_he_mass(M2)\n",
      "    \n",
      "    # Relative lifetime through star 2 at mass gain\n",
      "    he_mass = t_lifetime_2/t_lifetime_1 * he_mass_2\n",
      "    \n",
      "    # Get new secondary parameters\n",
      "    mass_new = M2 + M1 - he_mass_1\n",
      "    t_lifetime_new = func_sse_ms_time(mass_new)\n",
      "    he_mass_new = func_sse_he_mass(mass_new)\n",
      "\n",
      "    # New, effective lifetime\n",
      "    t_eff = he_mass / he_mass_new * t_lifetime_new\n",
      "    \n",
      "    # Now, we obtain the \"effective observed time\"\n",
      "    return t_eff + t_obs - t_lifetime_1\n",
      "         \n",
      "    \n",
      "def func_Lx_forward(M_1_a, M_2_a, M_2_in, A_in, t_obs):\n",
      "    \n",
      "    t_eff_obs = func_get_time(M_1_a, M_2_a, t_obs)\n",
      "\n",
      "    M_2_out = np.array([])\n",
      "    M_dot_wind = np.array([])\n",
      "    for t in t_eff_obs:\n",
      "        if (t < 0.0): \n",
      "            M_2_out = np.append(M_2_out, M_2_in)\n",
      "            M_dot_wind = np.append(M_dot_wind, 0.0)\n",
      "        else:\n",
      "            a, b = func_get_sse_star(M_2_in, t)\n",
      "            M_2_out = np.append(M_2_out, a)\n",
      "            M_dot_wind = np.append(M_dot_wind, b)    \n",
      "    \n",
      "    # Get final orbital separation\n",
      "    A_out = (M_NS + M_2_in) / (M_NS + M_2_out) * A_in\n",
      "    \n",
      "    M_dot_out = (GGG*M_NS / (v_wind*v_wind*A_out)) * M_dot_wind\n",
      "    \n",
      "    L_bol = GGG * M_NS * M_dot_out / R_NS * km_to_cm * Msun_to_g * Rsun_to_cm / yr_to_sec\n",
      "    L_x = L_bol\n",
      "    \n",
      "    return M_2_out, L_x\n",
      "    \n",
      "    "
     ],
     "language": "python",
     "metadata": {},
     "outputs": [],
     "prompt_number": 108
    },
    {
     "cell_type": "heading",
     "level": 3,
     "metadata": {},
     "source": [
      "Ok, now let's test the combined forward model"
     ]
    },
    {
     "cell_type": "code",
     "collapsed": false,
     "input": [
      "# Define random deviate functions\n",
      "\n",
      "def get_v_k(sigma, N):\n",
      "    return maxwell.rvs(scale = sigma, size = N)\n",
      "\n",
      "def get_theta(N):\n",
      "    return np.arccos(1.0-2.0*uniform.rvs(size = N))\n",
      "\n",
      "def get_phi(N):\n",
      "    return 2.0*np.pi*uniform.rvs(size = N)\n",
      "\n",
      "def get_M1(x1, x2, alpha, N):\n",
      "\n",
      "    A = (alpha+1.0) / (np.power(x2, alpha+1.0) - np.power(x1, alpha+1.0))\n",
      "    x = uniform.rvs(size = N)\n",
      "    \n",
      "    return np.power(x*(alpha+1.0)/A + np.power(x1, alpha+1.0), 1.0/(alpha+1.0))\n",
      "    \n",
      "def get_q(N):\n",
      "    return uniform.rvs(size = N)\n",
      "    \n",
      "def get_A(a1, a2, N):\n",
      "    x1 = np.log10(a1)\n",
      "    x2 = np.log10(a2)\n",
      "    \n",
      "    return np.power(10.0, (x2-x1)*uniform.rvs(size=N) + x1)\n",
      "    "
     ],
     "language": "python",
     "metadata": {},
     "outputs": [],
     "prompt_number": 26
    },
    {
     "cell_type": "code",
     "collapsed": false,
     "input": [
      "# Get random deviates\n",
      "\n",
      "N = 1000     # Number of random values to obtain\n",
      "n_bins = 100   # Number of bins for histogram\n",
      "\n",
      "M1_min = 8.0   # Minimum primary mass\n",
      "M1_max = 20.0  # Maximum primary mass\n",
      "alpha = -2.35  # IMF power law index\n",
      "sigma = 265.0  # Kick velocity maxwellian dispersion\n",
      "A_min = 100.0  # Minimum orbital separation (Rsun)\n",
      "A_max = 2.0e5  # Maximum orbital separation (Rsun) roughly 10^3 AU\n",
      "\n",
      "\n",
      "v_k = get_v_k(sigma, N)\n",
      "theta = get_theta(N)\n",
      "phi = get_phi(N)\n",
      "M_1_a = get_M1(M1_min, M1_max, alpha, N)\n",
      "M_2_a = get_q(N) * M_1_a\n",
      "A_a = get_A(A_min, A_max, N)\n",
      "\n",
      "\n",
      "#plt.hist(v_k, bins=n_bins)\n",
      "#plt.hist(theta, bins=n_bins)\n",
      "#plt.hist(M1, bins=n_bins)\n",
      "#plt.hist(M2, bins=n_bins)\n",
      "#plt.hist(np.log10(A), bins=n_bins)\n",
      "#plt.show()"
     ],
     "language": "python",
     "metadata": {},
     "outputs": [],
     "prompt_number": 114
    },
    {
     "cell_type": "code",
     "collapsed": false,
     "input": [
      "# Now, let's run evolution functions\n",
      "\n",
      "# MT phase\n",
      "M_1_b, M_2_b, A_b = func_MT_forward(M_1_a, M_2_a, A_a)\n",
      "\n",
      "# SN\n",
      "A_tmp, v_tmp, e_tmp = func_SN_forward(M_1_b, M_2_b, A_b, v_k, theta, phi)\n",
      "v_sys = v_tmp[np.where(abs(e_tmp-0.5)<0.5)]\n",
      "A_c = A_tmp[np.where(abs(e_tmp-0.5)<0.5)]\n",
      "e_c = e_tmp[np.where(abs(e_tmp-0.5)<0.5)]\n",
      "M_2_c = M_2_b[np.where(abs(e_tmp-0.5)<0.5)]\n",
      "\n",
      "\n",
      "print float(int(len(M_2_c)/float(N)*10000.0))/100.0, \"% or\", len(M_2_c), \"binaries survived out of an initial\", N, \"generated.\"\n"
     ],
     "language": "python",
     "metadata": {},
     "outputs": [
      {
       "output_type": "stream",
       "stream": "stdout",
       "text": [
        "2.5 % or 25 binaries survived out of an initial 1000 generated.\n"
       ]
      }
     ],
     "prompt_number": 115
    },
    {
     "cell_type": "code",
     "collapsed": false,
     "input": [
      "\n",
      "\n",
      "#plt.hist(M_1_a, histtype='step', color='k', bins=n_bins, normed=1)\n",
      "#plt.hist(M_1_b, histtype='step', color='k', bins=n_bins, normed=1, linestyle='--')\n",
      "\n",
      "#plt.hist(M_2_a, histtype='step', color='k', bins=n_bins, normed=1)\n",
      "#plt.hist(M_2_b, histtype='step', color='k', bins=n_bins, normed=1, linestyle='--')\n",
      "\n",
      "\n",
      "plt.hist(np.log10(A_a), histtype='step', color='k', bins=n_bins, normed=1, label='Initial')\n",
      "plt.hist(np.log10(A_b), histtype='step', color='k', bins=n_bins, normed=1, label='After MT', linestyle='dashed')\n",
      "plt.hist(np.log10(A_c), histtype='step', color='k', bins=n_bins, normed=1, label='After SN', linestyle='dotted')\n",
      "plt.legend(loc=2)\n",
      "\n",
      "#plt.hist(v_sys, range=(0.0, 1000.0), histtype='step', color='k', bins=n_bins, normed=1)\n",
      "\n",
      "#plt.hist(e_c, histtype='step', color='k', bins=n_bins, normed=1)\n",
      "\n",
      "plt.show()"
     ],
     "language": "python",
     "metadata": {},
     "outputs": [
      {
       "metadata": {},
       "output_type": "display_data",
       "png": "[encoded data removed]",
       "text": [
        "<matplotlib.figure.Figure at 0x120c4a510>"
       ]
      }
     ],
     "prompt_number": 116
    },
    {
     "cell_type": "code",
     "collapsed": false,
     "input": [
      "plt.figure(figsize=(6,8))\n",
      "\n",
      "# X-ray binary\n",
      "t_obs = 5.0  # Myr\n",
      "M_2_out, L_x = func_Lx_forward(M_1_a, M_2_a, M_2_c, A_c, t_obs)\n",
      "\n",
      "print \"T_obs =\",t_obs, \"Myr, N =\", len(L_x[np.where(L_x != 0)])\n",
      "\n",
      "plt.subplot(211)\n",
      "plt.hist(np.log10(L_x[np.where(L_x != 0)]), histtype='step', color='k', bins=n_bins, label=r\"T$_{\\rm obs}$ = 5 Myr\")\n",
      "plt.subplot(212)\n",
      "plt.hist(v_sys[np.where(L_x != 0)], range=(0,400.0), histtype='step', color='k', bins=n_bins, label=r\"T$_{\\rm obs}$ = 5 Myr\")\n",
      "\n",
      "t_obs = 20.0  # Myr\n",
      "M_2_out, L_x = func_Lx_forward(M_2_c, A_c, t_obs)\n",
      "\n",
      "print \"T_obs =\",t_obs, \"Myr, N =\", len(L_x[np.where(L_x != 0)])\n",
      "\n",
      "plt.subplot(211)\n",
      "plt.hist(np.log10(L_x[np.where(L_x != 0)]), histtype='step', color='k', linestyle='dashed', bins=n_bins, label=r\"T$_{\\rm obs}$ = 20 Myr\")\n",
      "plt.subplot(212)\n",
      "plt.hist(v_sys[np.where(L_x != 0)], range=(0,400.0), histtype='step', color='k', linestyle='dashed', bins=n_bins, label=r\"T$_{\\rm obs}$ = 20 Myr\")\n",
      "\n",
      "\n",
      "t_obs = 50.0  # Myr\n",
      "M_2_out, L_x = func_Lx_forward(M_2_c, A_c, t_obs)\n",
      "\n",
      "print \"T_obs =\",t_obs, \"Myr, N =\", len(L_x[np.where(L_x != 0)])\n",
      "\n",
      "plt.subplot(211)\n",
      "plt.hist(np.log10(L_x[np.where(L_x != 0)]), histtype='step', color='k', linestyle='dotted', bins=n_bins, label=r\"T$_{\\rm obs}$ = 50 Myr\")\n",
      "plt.subplot(212)\n",
      "plt.hist(v_sys[np.where(L_x != 0)], range=(0,400.0), histtype='step', color='k', linestyle='dotted', bins=n_bins, label=r\"T$_{\\rm obs}$ = 50 Myr\")\n",
      "\n",
      "\n",
      "# Plot legend\n",
      "plt.subplot(211)\n",
      "plt.legend()\n",
      "plt.subplot(212)\n",
      "plt.legend()\n",
      "\n",
      "\n",
      "\n",
      "plt.show()"
     ],
     "language": "python",
     "metadata": {},
     "outputs": [
      {
       "ename": "ValueError",
       "evalue": "operands could not be broadcast together with shapes (25,) (25000,) ",
       "output_type": "pyerr",
       "traceback": [
        "\u001b[0;31m---------------------------------------------------------------------------\u001b[0m\n\u001b[0;31mValueError\u001b[0m                                Traceback (most recent call last)",
        "\u001b[0;32m<ipython-input-117-1e0317038798>\u001b[0m in \u001b[0;36m<module>\u001b[0;34m()\u001b[0m\n\u001b[1;32m      3\u001b[0m \u001b[0;31m# X-ray binary\u001b[0m\u001b[0;34m\u001b[0m\u001b[0;34m\u001b[0m\u001b[0m\n\u001b[1;32m      4\u001b[0m \u001b[0mt_obs\u001b[0m \u001b[0;34m=\u001b[0m \u001b[0;36m5.0\u001b[0m  \u001b[0;31m# Myr\u001b[0m\u001b[0;34m\u001b[0m\u001b[0m\n\u001b[0;32m----> 5\u001b[0;31m \u001b[0mM_2_out\u001b[0m\u001b[0;34m,\u001b[0m \u001b[0mL_x\u001b[0m \u001b[0;34m=\u001b[0m \u001b[0mfunc_Lx_forward\u001b[0m\u001b[0;34m(\u001b[0m\u001b[0mM_1_a\u001b[0m\u001b[0;34m,\u001b[0m \u001b[0mM_2_a\u001b[0m\u001b[0;34m,\u001b[0m \u001b[0mM_2_c\u001b[0m\u001b[0;34m,\u001b[0m \u001b[0mA_c\u001b[0m\u001b[0;34m,\u001b[0m \u001b[0mt_obs\u001b[0m\u001b[0;34m)\u001b[0m\u001b[0;34m\u001b[0m\u001b[0m\n\u001b[0m\u001b[1;32m      6\u001b[0m \u001b[0;34m\u001b[0m\u001b[0m\n\u001b[1;32m      7\u001b[0m \u001b[0;32mprint\u001b[0m \u001b[0;34m\"T_obs =\"\u001b[0m\u001b[0;34m,\u001b[0m\u001b[0mt_obs\u001b[0m\u001b[0;34m,\u001b[0m \u001b[0;34m\"Myr, N =\"\u001b[0m\u001b[0;34m,\u001b[0m \u001b[0mlen\u001b[0m\u001b[0;34m(\u001b[0m\u001b[0mL_x\u001b[0m\u001b[0;34m[\u001b[0m\u001b[0mnp\u001b[0m\u001b[0;34m.\u001b[0m\u001b[0mwhere\u001b[0m\u001b[0;34m(\u001b[0m\u001b[0mL_x\u001b[0m \u001b[0;34m!=\u001b[0m \u001b[0;36m0\u001b[0m\u001b[0;34m)\u001b[0m\u001b[0;34m]\u001b[0m\u001b[0;34m)\u001b[0m\u001b[0;34m\u001b[0m\u001b[0m\n",
        "\u001b[0;32m<ipython-input-108-f7beb7a82dd2>\u001b[0m in \u001b[0;36mfunc_Lx_forward\u001b[0;34m(M_1_a, M_2_a, M_2_in, A_in, t_obs)\u001b[0m\n\u001b[1;32m     38\u001b[0m \u001b[0;34m\u001b[0m\u001b[0m\n\u001b[1;32m     39\u001b[0m     \u001b[0;31m# Get final orbital separation\u001b[0m\u001b[0;34m\u001b[0m\u001b[0;34m\u001b[0m\u001b[0m\n\u001b[0;32m---> 40\u001b[0;31m     \u001b[0mA_out\u001b[0m \u001b[0;34m=\u001b[0m \u001b[0;34m(\u001b[0m\u001b[0mM_NS\u001b[0m \u001b[0;34m+\u001b[0m \u001b[0mM_2_in\u001b[0m\u001b[0;34m)\u001b[0m \u001b[0;34m/\u001b[0m \u001b[0;34m(\u001b[0m\u001b[0mM_NS\u001b[0m \u001b[0;34m+\u001b[0m \u001b[0mM_2_out\u001b[0m\u001b[0;34m)\u001b[0m \u001b[0;34m*\u001b[0m \u001b[0mA_in\u001b[0m\u001b[0;34m\u001b[0m\u001b[0m\n\u001b[0m\u001b[1;32m     41\u001b[0m \u001b[0;34m\u001b[0m\u001b[0m\n\u001b[1;32m     42\u001b[0m     \u001b[0mM_dot_out\u001b[0m \u001b[0;34m=\u001b[0m \u001b[0;34m(\u001b[0m\u001b[0mGGG\u001b[0m\u001b[0;34m*\u001b[0m\u001b[0mM_NS\u001b[0m \u001b[0;34m/\u001b[0m \u001b[0;34m(\u001b[0m\u001b[0mv_wind\u001b[0m\u001b[0;34m*\u001b[0m\u001b[0mv_wind\u001b[0m\u001b[0;34m*\u001b[0m\u001b[0mA_out\u001b[0m\u001b[0;34m)\u001b[0m\u001b[0;34m)\u001b[0m \u001b[0;34m*\u001b[0m \u001b[0mM_dot_wind\u001b[0m\u001b[0;34m\u001b[0m\u001b[0m\n",
        "\u001b[0;31mValueError\u001b[0m: operands could not be broadcast together with shapes (25,) (25000,) "
       ]
      },
      {
       "metadata": {},
       "output_type": "display_data",
       "text": [
        "<matplotlib.figure.Figure at 0x110c7d590>"
       ]
      }
     ],
     "prompt_number": 117
    },
    {
     "cell_type": "code",
     "collapsed": false,
     "input": [],
     "language": "python",
     "metadata": {},
     "outputs": []
    }
   ],
   "metadata": {}
  }
 ]
}