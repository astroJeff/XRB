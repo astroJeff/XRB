{
 "metadata": {
  "name": "",
  "signature": "sha256:32b6ac77c0ff1b60a1ffff7709efcbc5745eed722bc97777777a27a9e81e49e2"
 },
 "nbformat": 3,
 "nbformat_minor": 0,
 "worksheets": [
  {
   "cells": [
    {
     "cell_type": "heading",
     "level": 1,
     "metadata": {},
     "source": [
      "XRB Probability"
     ]
    },
    {
     "cell_type": "heading",
     "level": 3,
     "metadata": {},
     "source": [
      "Jeff J. Andrews, Andreas Zezas, Tassos Fragos, et al."
     ]
    },
    {
     "cell_type": "code",
     "collapsed": false,
     "input": [
      "import os\n",
      "import numpy as np\n",
      "import matplotlib.pyplot as plt\n",
      "from scipy.interpolate import interp1d\n",
      "\n",
      "%matplotlib inline"
     ],
     "language": "python",
     "metadata": {},
     "outputs": [],
     "prompt_number": 1
    },
    {
     "cell_type": "heading",
     "level": 3,
     "metadata": {},
     "source": [
      "Constants"
     ]
    },
    {
     "cell_type": "code",
     "collapsed": false,
     "input": [
      "M_0 = 0.073 # in Msun\n",
      "xi = 0.704\n",
      "M_NS = 1.35\n",
      "GGG = 1.909e5 # Gravitational constant in Rsun * (km/s)^2 / Msun"
     ],
     "language": "python",
     "metadata": {},
     "outputs": [],
     "prompt_number": 15
    },
    {
     "cell_type": "heading",
     "level": 3,
     "metadata": {},
     "source": [
      "The first mass transfer phase"
     ]
    },
    {
     "cell_type": "code",
     "collapsed": false,
     "input": [
      "def func_MT_forward(M_1_in, M_2_in, A_in):\n",
      "\n",
      "    M_1_out = M_0 * M_1_in**(1./xi)\n",
      "    M_2_out = M_1_in + M_2_in - M_1_out\n",
      "    A_out = A_in * (M_1_in*M_2_in/M_1_out/M_2_out)*(M_1_in*M_2_in/M_1_out/M_2_out)\n",
      "\n",
      "    return M_1_out, M_2_out, A_out\n",
      "    \n",
      "def func_MT_backward(M_1_in, M_2_in, A_in):\n",
      "    \n",
      "    M_1_out = (M_1_in/M_0)**xi\n",
      "    M_2_out = M_2_in - M_1_out + M_1_in\n",
      "    A_out = A_in * (M_1_in*M_2_in/M_1_out/M_2_out)*(M_1_in*M_2_in/M_1_out/M_2_out)\n",
      "\n",
      "    return M_1_out, M_2_out, A_out"
     ],
     "language": "python",
     "metadata": {},
     "outputs": [],
     "prompt_number": 11
    },
    {
     "cell_type": "heading",
     "level": 3,
     "metadata": {},
     "source": [
      "The supernova"
     ]
    },
    {
     "cell_type": "code",
     "collapsed": false,
     "input": [
      "def func_SN_forward(M_1_in, M_2, A_in, v_k, theta):\n",
      "    \n",
      "    v_r = np.sqrt(GGG*(M_1_in + M_2)/A_in)\n",
      "    v_1 = np.sqrt(2.0*v_k*v_r*np.cos(theta) + v_k*v_k + v_r*v_r)\n",
      "        \n",
      "    A_out = 1.0 / (2.0/A_in - v_1*v_1/(GGG*(M_NS+M_2)))\n",
      "    v_sys = (M_NS / (M_NS + M_2)) * v_1\n",
      "    \n",
      "    return A_out, v_sys\n",
      "\n",
      "def func_SN_backward(M_2, A_in, v_sys_in, v_k, theta):\n",
      "    \n",
      "    A_out = 2.0/(1.0/A_in + (M_NS+M_2)/(GGG*M_NS*M_NS) * v_sys_in)\n",
      "    \n",
      "    # Need to check two things here\n",
      "    if(v_sys_in*(M_NS+M_2)/M_NS) > v_k * np.abs(np.sin(theta)): return A_out, -1\n",
      "    if(np.sqrt((v_sys_in*(M_NS+M_2)/M_NS)**2 - v_k*v_k*np.sin(theta)*np.sin(theta)) > v_k * np.cos(theta)): return A_out,-1\n",
      "    \n",
      "    v_r = -v_k*np.cos(theta) + np.sqrt((v_sys_in*(M_NS+M_2)/M_NS)**2 - v_k*v_k*np.sin(theta)*np.sin(theta))\n",
      "    \n",
      "    M_1_out = v_r*v_r*A_out/GGG - M_2\n",
      "    \n",
      "    return A_out, M_1_out"
     ],
     "language": "python",
     "metadata": {},
     "outputs": [],
     "prompt_number": 46
    },
    {
     "cell_type": "code",
     "collapsed": false,
     "input": [
      "a1,v1 = func_SN_forward(10.0, 15.0, 20.0, 120.0, 1.7)\n",
      "print a1,v1\n",
      "print func_SN_backward(15.0, a1, v1, 20.0, 0.2)"
     ],
     "language": "python",
     "metadata": {},
     "outputs": [
      {
       "output_type": "stream",
       "stream": "stdout",
       "text": [
        "42.0637589322 40.2745810668\n",
        "(77.9237803181624, -1)\n"
       ]
      }
     ],
     "prompt_number": 47
    },
    {
     "cell_type": "code",
     "collapsed": false,
     "input": [],
     "language": "python",
     "metadata": {},
     "outputs": []
    }
   ],
   "metadata": {}
  }
 ]
}