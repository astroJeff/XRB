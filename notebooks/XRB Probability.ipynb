{
 "metadata": {
  "name": "",
  "signature": "sha256:c5b9470486565e110ed0cb227d4cc28cc393ea5208a45ebdc3917480fd878a12"
 },
 "nbformat": 3,
 "nbformat_minor": 0,
 "worksheets": [
  {
   "cells": [
    {
     "cell_type": "heading",
     "level": 1,
     "metadata": {},
     "source": [
      "XRB Probability"
     ]
    },
    {
     "cell_type": "heading",
     "level": 3,
     "metadata": {},
     "source": [
      "Jeff J. Andrews, Andreas Zezas, Tassos Fragos, et al."
     ]
    },
    {
     "cell_type": "code",
     "collapsed": false,
     "input": [
      "import os\n",
      "import glob\n",
      "import numpy as np\n",
      "import matplotlib.pyplot as plt\n",
      "from scipy.interpolate import interp1d, interp2d\n",
      "\n",
      "%matplotlib inline"
     ],
     "language": "python",
     "metadata": {},
     "outputs": [],
     "prompt_number": 223
    },
    {
     "cell_type": "heading",
     "level": 3,
     "metadata": {},
     "source": [
      "Constants"
     ]
    },
    {
     "cell_type": "code",
     "collapsed": false,
     "input": [
      "GGG = 1.909e5 # Gravitational constant in Rsun * (km/s)^2 / Msun\n",
      "km_to_cm = 1.0e5 # km to cm\n",
      "Msun_to_g = 1.989e33 # Msun to g\n",
      "Rsun_to_cm = 6.995e10 # Rsun to cm\n",
      "\n",
      "M_0 = 0.073 # in Msun\n",
      "xi = 0.704\n",
      "M_NS = 1.35\n",
      "v_wind = 200.0 # companion velocity in km/s\n",
      "R_NS = 15.0  # NS radius in km"
     ],
     "language": "python",
     "metadata": {},
     "outputs": [],
     "prompt_number": 141
    },
    {
     "cell_type": "heading",
     "level": 3,
     "metadata": {},
     "source": [
      "The first mass transfer phase"
     ]
    },
    {
     "cell_type": "code",
     "collapsed": false,
     "input": [
      "def func_MT_forward(M_1_in, M_2_in, A_in):\n",
      "\n",
      "    M_1_out = M_0 * M_1_in**(1./xi)\n",
      "    M_2_out = M_1_in + M_2_in - M_1_out\n",
      "    A_out = A_in * (M_1_in*M_2_in/M_1_out/M_2_out)*(M_1_in*M_2_in/M_1_out/M_2_out)\n",
      "\n",
      "    return M_1_out, M_2_out, A_out\n",
      "    \n",
      "def func_MT_backward(M_1_in, M_2_in, A_in):\n",
      "    \n",
      "    M_1_out = (M_1_in/M_0)**xi\n",
      "    M_2_out = M_2_in - M_1_out + M_1_in\n",
      "    A_out = A_in * (M_1_in*M_2_in/M_1_out/M_2_out)*(M_1_in*M_2_in/M_1_out/M_2_out)\n",
      "\n",
      "    return M_1_out, M_2_out, A_out"
     ],
     "language": "python",
     "metadata": {},
     "outputs": [],
     "prompt_number": 11
    },
    {
     "cell_type": "heading",
     "level": 3,
     "metadata": {},
     "source": [
      "The supernova"
     ]
    },
    {
     "cell_type": "code",
     "collapsed": false,
     "input": [
      "def func_SN_forward(M_1_in, M_2, A_in, v_k, theta):\n",
      "    \n",
      "    v_r = np.sqrt(GGG*(M_1_in + M_2)/A_in)\n",
      "    v_1 = np.sqrt(2.0*v_k*v_r*np.cos(theta) + v_k*v_k + v_r*v_r)\n",
      "    \n",
      "    A_out = 1.0 / (2.0/A_in - v_1*v_1/(GGG*(M_NS+M_2)))\n",
      "    v_sys = (M_NS / (M_NS + M_2)) * v_1\n",
      "    \n",
      "    return A_out, v_sys\n",
      "\n",
      "\n",
      "def func_SN_backward(M_2, A_in, v_sys_in, v_k, theta):\n",
      "    \n",
      "    A_out = 2.0/(1.0/A_in + (M_NS+M_2)/(GGG*M_NS*M_NS) * v_sys_in*v_sys_in)\n",
      "\n",
      "    v_1_out = np.sqrt(v_sys_in*v_sys_in * (M_NS+M_2)*(M_NS+M_2)/(M_NS*M_NS))\n",
      "    \n",
      "    # Need to check two things here\n",
      "    if(v_1_out < v_k * np.abs(np.sin(theta))): return A_out, -1\n",
      "    v_r = -v_k*np.cos(theta) + np.sqrt(v_1_out*v_1_out - v_k*v_k*np.sin(theta)*np.sin(theta))\n",
      "    if(v_r < 0.0): return A_out, -1    \n",
      "        \n",
      "    M_1_out = v_r*v_r*A_out/GGG - M_2\n",
      "    \n",
      "    return A_out, M_1_out\n",
      "\n",
      "################################ STILL NEED TO FIX THIS #######################################\n",
      "# \n",
      "# Starting frame has a non-zero systemic velocity. Need to include in equation\n",
      "# \n",
      "################################ STILL NEED TO FIX THIS #######################################"
     ],
     "language": "python",
     "metadata": {},
     "outputs": [],
     "prompt_number": 123
    },
    {
     "cell_type": "heading",
     "level": 3,
     "metadata": {},
     "source": [
      "Test some SN kick, theta values"
     ]
    },
    {
     "cell_type": "code",
     "collapsed": false,
     "input": [
      "a_temp = np.array([])\n",
      "theta = np.arange(0.0, np.pi, 0.01)\n",
      "a_temp, v_temp = func_SN_forward(10.0, 15.0, 200.0, 100.0, theta)\n",
      "\n",
      "plt.plot(theta, a_temp, color='k')\n",
      "plt.ylim(-100.0, 500.0)\n",
      "plt.xlabel(r\"SN polar kick angle ($\\theta$)\")\n",
      "plt.ylabel(r\"Orbital separation (R$_{\\odot}$)\")\n",
      "\n",
      "plt.show()"
     ],
     "language": "python",
     "metadata": {},
     "outputs": [
      {
       "metadata": {},
       "output_type": "display_data",
       "png": "[encoded data removed]",
       "text": [
        "<matplotlib.figure.Figure at 0x7facc11ac290>"
       ]
      }
     ],
     "prompt_number": 140
    },
    {
     "cell_type": "code",
     "collapsed": false,
     "input": [
      "M_1 = 10.0\n",
      "M_2 = 8.0\n",
      "A_1 = 100.0\n",
      "v_k = 150.0\n",
      "theta = 2.5\n",
      "\n",
      "a1,v1 = func_SN_forward(M_1, M_2, A_1, v_k, theta)\n",
      "print a1,v1\n",
      "print func_SN_backward(M_2, a1, v1, v_k, theta)"
     ],
     "language": "python",
     "metadata": {},
     "outputs": [
      {
       "output_type": "stream",
       "stream": "stdout",
       "text": [
        "76.3153577761 16.0193390101\n",
        "(99.999999999999986, 9.9999999999999893)\n"
       ]
      }
     ],
     "prompt_number": 136
    },
    {
     "cell_type": "heading",
     "level": 3,
     "metadata": {},
     "source": [
      "The wind accreting phase"
     ]
    },
    {
     "cell_type": "code",
     "collapsed": false,
     "input": [
      "def func_Lx_forward(M_2_in, A_in, t_obs):\n",
      "    \n",
      "    # Interpolate SSE data to get M_2, Mdot_2\n",
      "    M_2_out, M_dot_wind = func_get_Mdot(M_2_in, t_obs)\n",
      "    \n",
      "    # Get final orbital separation\n",
      "    A_out = (M_NS + M_2_in) / (M_NS + M_2_out) * A_in\n",
      "    \n",
      "    M_dot_out = (GGG*M_NS / (v_wind*v_wind*A_out)) * M_dot_wind\n",
      "    \n",
      "    L_x_out = GGG * M_NS * M_dot_out / R_NS * km_to_cm * Msun_to_g * Rsun_to_cm\n",
      "    \n",
      "    "
     ],
     "language": "python",
     "metadata": {},
     "outputs": [],
     "prompt_number": 142
    },
    {
     "cell_type": "heading",
     "level": 3,
     "metadata": {},
     "source": [
      "Load SSE data"
     ]
    },
    {
     "cell_type": "code",
     "collapsed": false,
     "input": [
      "names = [\"mass_init\",\"time\",\"mass\",\"mdot\"]\n",
      "\n",
      "f_list = glob.glob(\"../data/sse_data/mdot_*.dat\")\n",
      "\n",
      "# Create empty data storage structure\n",
      "sse_data = np.recarray(0, names=names, formats=['f8,f8,float64,float64'])\n",
      "\n",
      "for f in f_list:\n",
      "    datafile = os.path.abspath(f)\n",
      "    sse_tmp_data = np.genfromtxt(datafile, usecols=(1,0,2,3), dtype=\"f8,f8,float64,float64\", skip_header=1, names=names)\n",
      "    sse_tmp_data[\"mass_init\"] = float(f[-9:-4])\n",
      "    \n",
      "    # Add data to structure\n",
      "    sse_data = np.append(sse_data, sse_tmp_data)\n",
      "\n",
      "print sse_data.shape\n"
     ],
     "language": "python",
     "metadata": {},
     "outputs": [
      {
       "output_type": "stream",
       "stream": "stdout",
       "text": [
        "(1209959,)\n"
       ]
      }
     ],
     "prompt_number": 245
    },
    {
     "cell_type": "code",
     "collapsed": false,
     "input": [
      "sse_data = np.sort(sse_data)"
     ],
     "language": "python",
     "metadata": {},
     "outputs": [],
     "prompt_number": 288
    },
    {
     "cell_type": "heading",
     "level": 3,
     "metadata": {},
     "source": [
      "Create 2D interpolation function"
     ]
    },
    {
     "cell_type": "code",
     "collapsed": false,
     "input": [
      "sse_tmp_data = sse_data[np.where(abs(sse_data[\"mass_init\"] - 8.055) < 0.02)]\n",
      "print sse_tmp_data.shape\n",
      "\n",
      "func_get_sse_Mdot = interp2d(sse_tmp_data[\"mass_init\"], sse_tmp_data[\"time\"], sse_tmp_data[\"mdot\"], kind='linear')\n",
      "\n",
      "sse_tmp_data = sse_data[np.where(abs(sse_data[\"mass_init\"] - 8.05) < 0.01)]\n",
      "print sse_tmp_data.shape\n",
      "\n",
      "func_get_sse_Mdot_1D = interp1d(sse_tmp_data[\"time\"], sse_tmp_data[\"mdot\"], kind='linear')\n",
      "\n",
      "print func_get_sse_Mdot(7.0, 1.0e4)\n",
      "print func_get_sse_Mdot(8.05, 1.0e4)\n",
      "print func_get_sse_Mdot(8.055, 1.0e4)\n",
      "print func_get_sse_Mdot(8.06, 1.0e4)\n",
      "\n",
      "print func_get_sse_Mdot_1D(1.0e4)\n"
     ],
     "language": "python",
     "metadata": {},
     "outputs": [
      {
       "output_type": "stream",
       "stream": "stdout",
       "text": [
        "(2082,)\n",
        "(1070,)\n",
        "[  3.74293090e-05]\n",
        "[  3.88884524e-05]\n",
        "[  1.12480184e-05]\n",
        "[  4.66962306e-05]\n"
       ]
      },
      {
       "ename": "ValueError",
       "evalue": "A value in x_new is above the interpolation range.",
       "output_type": "pyerr",
       "traceback": [
        "\u001b[0;31m---------------------------------------------------------------------------\u001b[0m\n\u001b[0;31mValueError\u001b[0m                                Traceback (most recent call last)",
        "\u001b[0;32m<ipython-input-298-eb0b031d02b8>\u001b[0m in \u001b[0;36m<module>\u001b[0;34m()\u001b[0m\n\u001b[1;32m     14\u001b[0m \u001b[0;32mprint\u001b[0m \u001b[0mfunc_get_sse_Mdot\u001b[0m\u001b[0;34m(\u001b[0m\u001b[0;36m8.06\u001b[0m\u001b[0;34m,\u001b[0m \u001b[0;36m1.0e4\u001b[0m\u001b[0;34m)\u001b[0m\u001b[0;34m\u001b[0m\u001b[0m\n\u001b[1;32m     15\u001b[0m \u001b[0;34m\u001b[0m\u001b[0m\n\u001b[0;32m---> 16\u001b[0;31m \u001b[0;32mprint\u001b[0m \u001b[0mfunc_get_sse_Mdot_1D\u001b[0m\u001b[0;34m(\u001b[0m\u001b[0;36m1.0e4\u001b[0m\u001b[0;34m)\u001b[0m\u001b[0;34m\u001b[0m\u001b[0m\n\u001b[0m",
        "\u001b[0;32m/usr/local/lib/python2.7/dist-packages/scipy/interpolate/polyint.pyc\u001b[0m in \u001b[0;36m__call__\u001b[0;34m(self, x)\u001b[0m\n\u001b[1;32m     77\u001b[0m         \"\"\"\n\u001b[1;32m     78\u001b[0m         \u001b[0mx\u001b[0m\u001b[0;34m,\u001b[0m \u001b[0mx_shape\u001b[0m \u001b[0;34m=\u001b[0m \u001b[0mself\u001b[0m\u001b[0;34m.\u001b[0m\u001b[0m_prepare_x\u001b[0m\u001b[0;34m(\u001b[0m\u001b[0mx\u001b[0m\u001b[0;34m)\u001b[0m\u001b[0;34m\u001b[0m\u001b[0m\n\u001b[0;32m---> 79\u001b[0;31m         \u001b[0my\u001b[0m \u001b[0;34m=\u001b[0m \u001b[0mself\u001b[0m\u001b[0;34m.\u001b[0m\u001b[0m_evaluate\u001b[0m\u001b[0;34m(\u001b[0m\u001b[0mx\u001b[0m\u001b[0;34m)\u001b[0m\u001b[0;34m\u001b[0m\u001b[0m\n\u001b[0m\u001b[1;32m     80\u001b[0m         \u001b[0;32mreturn\u001b[0m \u001b[0mself\u001b[0m\u001b[0;34m.\u001b[0m\u001b[0m_finish_y\u001b[0m\u001b[0;34m(\u001b[0m\u001b[0my\u001b[0m\u001b[0;34m,\u001b[0m \u001b[0mx_shape\u001b[0m\u001b[0;34m)\u001b[0m\u001b[0;34m\u001b[0m\u001b[0m\n\u001b[1;32m     81\u001b[0m \u001b[0;34m\u001b[0m\u001b[0m\n",
        "\u001b[0;32m/usr/local/lib/python2.7/dist-packages/scipy/interpolate/interpolate.pyc\u001b[0m in \u001b[0;36m_evaluate\u001b[0;34m(self, x_new)\u001b[0m\n\u001b[1;32m    495\u001b[0m         \u001b[0;31m#    The behavior is set by the bounds_error variable.\u001b[0m\u001b[0;34m\u001b[0m\u001b[0;34m\u001b[0m\u001b[0m\n\u001b[1;32m    496\u001b[0m         \u001b[0mx_new\u001b[0m \u001b[0;34m=\u001b[0m \u001b[0masarray\u001b[0m\u001b[0;34m(\u001b[0m\u001b[0mx_new\u001b[0m\u001b[0;34m)\u001b[0m\u001b[0;34m\u001b[0m\u001b[0m\n\u001b[0;32m--> 497\u001b[0;31m         \u001b[0mout_of_bounds\u001b[0m \u001b[0;34m=\u001b[0m \u001b[0mself\u001b[0m\u001b[0;34m.\u001b[0m\u001b[0m_check_bounds\u001b[0m\u001b[0;34m(\u001b[0m\u001b[0mx_new\u001b[0m\u001b[0;34m)\u001b[0m\u001b[0;34m\u001b[0m\u001b[0m\n\u001b[0m\u001b[1;32m    498\u001b[0m         \u001b[0my_new\u001b[0m \u001b[0;34m=\u001b[0m \u001b[0mself\u001b[0m\u001b[0;34m.\u001b[0m\u001b[0m_call\u001b[0m\u001b[0;34m(\u001b[0m\u001b[0mself\u001b[0m\u001b[0;34m,\u001b[0m \u001b[0mx_new\u001b[0m\u001b[0;34m)\u001b[0m\u001b[0;34m\u001b[0m\u001b[0m\n\u001b[1;32m    499\u001b[0m         \u001b[0;32mif\u001b[0m \u001b[0mlen\u001b[0m\u001b[0;34m(\u001b[0m\u001b[0my_new\u001b[0m\u001b[0;34m)\u001b[0m \u001b[0;34m>\u001b[0m \u001b[0;36m0\u001b[0m\u001b[0;34m:\u001b[0m\u001b[0;34m\u001b[0m\u001b[0m\n",
        "\u001b[0;32m/usr/local/lib/python2.7/dist-packages/scipy/interpolate/interpolate.pyc\u001b[0m in \u001b[0;36m_check_bounds\u001b[0;34m(self, x_new)\u001b[0m\n\u001b[1;32m    525\u001b[0m                 \"range.\")\n\u001b[1;32m    526\u001b[0m         \u001b[0;32mif\u001b[0m \u001b[0mself\u001b[0m\u001b[0;34m.\u001b[0m\u001b[0mbounds_error\u001b[0m \u001b[0;32mand\u001b[0m \u001b[0mabove_bounds\u001b[0m\u001b[0;34m.\u001b[0m\u001b[0many\u001b[0m\u001b[0;34m(\u001b[0m\u001b[0;34m)\u001b[0m\u001b[0;34m:\u001b[0m\u001b[0;34m\u001b[0m\u001b[0m\n\u001b[0;32m--> 527\u001b[0;31m             raise ValueError(\"A value in x_new is above the interpolation \"\n\u001b[0m\u001b[1;32m    528\u001b[0m                 \"range.\")\n\u001b[1;32m    529\u001b[0m \u001b[0;34m\u001b[0m\u001b[0m\n",
        "\u001b[0;31mValueError\u001b[0m: A value in x_new is above the interpolation range."
       ]
      }
     ],
     "prompt_number": 298
    },
    {
     "cell_type": "code",
     "collapsed": false,
     "input": [
      "func_get_sse_Mdot = interp2d(sse_data[\"mass_init\"], sse_data[\"time\"], sse_data[\"mdot\"], kind='linear')\n",
      "func_get_sse_mass = interp2d(sse_data[\"mass_init\"], sse_data[\"time\"], sse_data[\"mass\"], kind='linear')"
     ],
     "language": "python",
     "metadata": {},
     "outputs": [
      {
       "output_type": "stream",
       "stream": "stderr",
       "text": [
        "/usr/local/lib/python2.7/dist-packages/scipy/interpolate/fitpack.py:981: RuntimeWarning: No more knots can be added because the additional knot would\n",
        "coincide with an old one. Probable cause: s too small or too large\n",
        "a weight to an inaccurate data point. (fp>s)\n",
        "\tkx,ky=1,1 nx,ny=579,4 m=121307 fp=0.000073 s=0.000000\n",
        "  warnings.warn(RuntimeWarning(_iermess2[ierm][0] + _mess))\n",
        "/usr/local/lib/python2.7/dist-packages/scipy/interpolate/fitpack.py:981: RuntimeWarning: No more knots can be added because the additional knot would\n",
        "coincide with an old one. Probable cause: s too small or too large\n",
        "a weight to an inaccurate data point. (fp>s)\n",
        "\tkx,ky=1,1 nx,ny=604,4 m=121307 fp=2095631.888283 s=0.000000\n",
        "  warnings.warn(RuntimeWarning(_iermess2[ierm][0] + _mess))\n"
       ]
      }
     ],
     "prompt_number": 227
    },
    {
     "cell_type": "code",
     "collapsed": false,
     "input": [],
     "language": "python",
     "metadata": {},
     "outputs": [],
     "prompt_number": 298
    },
    {
     "cell_type": "code",
     "collapsed": false,
     "input": [],
     "language": "python",
     "metadata": {},
     "outputs": [],
     "prompt_number": 298
    },
    {
     "cell_type": "code",
     "collapsed": false,
     "input": [
      "sse_tmp_data = sse_data[np.where(abs(sse_data[\"mass_init\"] - 8.055) < 0.01)]\n",
      "print sse_tmp_data.shape\n",
      "\n",
      "func_get_sse_Mdot = interp1d(sse_tmp_data[\"time\"]/sse_tmp_data[-1][\"time\"], sse_tmp_data[\"mdot\"], kind='linear')\n",
      "\n",
      "tmp_time = np.arange(0.01, 0.999, 0.001)\n",
      "tmp_Mdot = func_get_sse_Mdot(tmp_time)\n",
      "\n",
      "plt.plot(tmp_time, tmp_Mdot)\n",
      "plt.show()"
     ],
     "language": "python",
     "metadata": {},
     "outputs": [
      {
       "output_type": "stream",
       "stream": "stdout",
       "text": [
        "(1070,)\n"
       ]
      },
      {
       "output_type": "stream",
       "stream": "stderr",
       "text": [
        "-c:4: RuntimeWarning: divide by zero encountered in log\n"
       ]
      },
      {
       "ename": "ValueError",
       "evalue": "A value in x_new is above the interpolation range.",
       "output_type": "pyerr",
       "traceback": [
        "\u001b[0;31m---------------------------------------------------------------------------\u001b[0m\n\u001b[0;31mValueError\u001b[0m                                Traceback (most recent call last)",
        "\u001b[0;32m<ipython-input-304-36226ac0d7c2>\u001b[0m in \u001b[0;36m<module>\u001b[0;34m()\u001b[0m\n\u001b[1;32m      5\u001b[0m \u001b[0;34m\u001b[0m\u001b[0m\n\u001b[1;32m      6\u001b[0m \u001b[0mtmp_time\u001b[0m \u001b[0;34m=\u001b[0m \u001b[0mnp\u001b[0m\u001b[0;34m.\u001b[0m\u001b[0marange\u001b[0m\u001b[0;34m(\u001b[0m\u001b[0;36m0.01\u001b[0m\u001b[0;34m,\u001b[0m \u001b[0;36m0.999\u001b[0m\u001b[0;34m,\u001b[0m \u001b[0;36m0.001\u001b[0m\u001b[0;34m)\u001b[0m\u001b[0;34m\u001b[0m\u001b[0m\n\u001b[0;32m----> 7\u001b[0;31m \u001b[0mtmp_Mdot\u001b[0m \u001b[0;34m=\u001b[0m \u001b[0mfunc_get_sse_Mdot\u001b[0m\u001b[0;34m(\u001b[0m\u001b[0mtmp_time\u001b[0m\u001b[0;34m)\u001b[0m\u001b[0;34m\u001b[0m\u001b[0m\n\u001b[0m\u001b[1;32m      8\u001b[0m \u001b[0;34m\u001b[0m\u001b[0m\n\u001b[1;32m      9\u001b[0m \u001b[0mplt\u001b[0m\u001b[0;34m.\u001b[0m\u001b[0mplot\u001b[0m\u001b[0;34m(\u001b[0m\u001b[0mtmp_time\u001b[0m\u001b[0;34m,\u001b[0m \u001b[0mtmp_Mdot\u001b[0m\u001b[0;34m)\u001b[0m\u001b[0;34m\u001b[0m\u001b[0m\n",
        "\u001b[0;32m/usr/local/lib/python2.7/dist-packages/scipy/interpolate/polyint.pyc\u001b[0m in \u001b[0;36m__call__\u001b[0;34m(self, x)\u001b[0m\n\u001b[1;32m     77\u001b[0m         \"\"\"\n\u001b[1;32m     78\u001b[0m         \u001b[0mx\u001b[0m\u001b[0;34m,\u001b[0m \u001b[0mx_shape\u001b[0m \u001b[0;34m=\u001b[0m \u001b[0mself\u001b[0m\u001b[0;34m.\u001b[0m\u001b[0m_prepare_x\u001b[0m\u001b[0;34m(\u001b[0m\u001b[0mx\u001b[0m\u001b[0;34m)\u001b[0m\u001b[0;34m\u001b[0m\u001b[0m\n\u001b[0;32m---> 79\u001b[0;31m         \u001b[0my\u001b[0m \u001b[0;34m=\u001b[0m \u001b[0mself\u001b[0m\u001b[0;34m.\u001b[0m\u001b[0m_evaluate\u001b[0m\u001b[0;34m(\u001b[0m\u001b[0mx\u001b[0m\u001b[0;34m)\u001b[0m\u001b[0;34m\u001b[0m\u001b[0m\n\u001b[0m\u001b[1;32m     80\u001b[0m         \u001b[0;32mreturn\u001b[0m \u001b[0mself\u001b[0m\u001b[0;34m.\u001b[0m\u001b[0m_finish_y\u001b[0m\u001b[0;34m(\u001b[0m\u001b[0my\u001b[0m\u001b[0;34m,\u001b[0m \u001b[0mx_shape\u001b[0m\u001b[0;34m)\u001b[0m\u001b[0;34m\u001b[0m\u001b[0m\n\u001b[1;32m     81\u001b[0m \u001b[0;34m\u001b[0m\u001b[0m\n",
        "\u001b[0;32m/usr/local/lib/python2.7/dist-packages/scipy/interpolate/interpolate.pyc\u001b[0m in \u001b[0;36m_evaluate\u001b[0;34m(self, x_new)\u001b[0m\n\u001b[1;32m    495\u001b[0m         \u001b[0;31m#    The behavior is set by the bounds_error variable.\u001b[0m\u001b[0;34m\u001b[0m\u001b[0;34m\u001b[0m\u001b[0m\n\u001b[1;32m    496\u001b[0m         \u001b[0mx_new\u001b[0m \u001b[0;34m=\u001b[0m \u001b[0masarray\u001b[0m\u001b[0;34m(\u001b[0m\u001b[0mx_new\u001b[0m\u001b[0;34m)\u001b[0m\u001b[0;34m\u001b[0m\u001b[0m\n\u001b[0;32m--> 497\u001b[0;31m         \u001b[0mout_of_bounds\u001b[0m \u001b[0;34m=\u001b[0m \u001b[0mself\u001b[0m\u001b[0;34m.\u001b[0m\u001b[0m_check_bounds\u001b[0m\u001b[0;34m(\u001b[0m\u001b[0mx_new\u001b[0m\u001b[0;34m)\u001b[0m\u001b[0;34m\u001b[0m\u001b[0m\n\u001b[0m\u001b[1;32m    498\u001b[0m         \u001b[0my_new\u001b[0m \u001b[0;34m=\u001b[0m \u001b[0mself\u001b[0m\u001b[0;34m.\u001b[0m\u001b[0m_call\u001b[0m\u001b[0;34m(\u001b[0m\u001b[0mself\u001b[0m\u001b[0;34m,\u001b[0m \u001b[0mx_new\u001b[0m\u001b[0;34m)\u001b[0m\u001b[0;34m\u001b[0m\u001b[0m\n\u001b[1;32m    499\u001b[0m         \u001b[0;32mif\u001b[0m \u001b[0mlen\u001b[0m\u001b[0;34m(\u001b[0m\u001b[0my_new\u001b[0m\u001b[0;34m)\u001b[0m \u001b[0;34m>\u001b[0m \u001b[0;36m0\u001b[0m\u001b[0;34m:\u001b[0m\u001b[0;34m\u001b[0m\u001b[0m\n",
        "\u001b[0;32m/usr/local/lib/python2.7/dist-packages/scipy/interpolate/interpolate.pyc\u001b[0m in \u001b[0;36m_check_bounds\u001b[0;34m(self, x_new)\u001b[0m\n\u001b[1;32m    525\u001b[0m                 \"range.\")\n\u001b[1;32m    526\u001b[0m         \u001b[0;32mif\u001b[0m \u001b[0mself\u001b[0m\u001b[0;34m.\u001b[0m\u001b[0mbounds_error\u001b[0m \u001b[0;32mand\u001b[0m \u001b[0mabove_bounds\u001b[0m\u001b[0;34m.\u001b[0m\u001b[0many\u001b[0m\u001b[0;34m(\u001b[0m\u001b[0;34m)\u001b[0m\u001b[0;34m:\u001b[0m\u001b[0;34m\u001b[0m\u001b[0m\n\u001b[0;32m--> 527\u001b[0;31m             raise ValueError(\"A value in x_new is above the interpolation \"\n\u001b[0m\u001b[1;32m    528\u001b[0m                 \"range.\")\n\u001b[1;32m    529\u001b[0m \u001b[0;34m\u001b[0m\u001b[0m\n",
        "\u001b[0;31mValueError\u001b[0m: A value in x_new is above the interpolation range."
       ]
      }
     ],
     "prompt_number": 304
    },
    {
     "cell_type": "code",
     "collapsed": false,
     "input": [],
     "language": "python",
     "metadata": {},
     "outputs": []
    }
   ],
   "metadata": {}
  }
 ]
}