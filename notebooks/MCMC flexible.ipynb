{
 "cells": [
  {
   "cell_type": "markdown",
   "metadata": {},
   "source": [
    "# Model HMXBs using an MCMC algorithm, using available constraints"
   ]
  },
  {
   "cell_type": "markdown",
   "metadata": {},
   "source": [
    "## Jeff J. Andrews, Andreas Zezas, Tassos Fragkos"
   ]
  },
  {
   "cell_type": "markdown",
   "metadata": {},
   "source": [
    "Our first goal is to model a HMXB such as PSR J0045-7319 in the SMC:\n",
    "\n",
    "$$\\alpha = 00:45:35.26$$\n",
    "$$\\delta = -73:19:03.32$$\n",
    "$$P_{\\rm orb} = 51.169\\ {\\rm days} $$\n",
    "$$e = 0.808$$\n",
    "$$M_2 \\approx 11\\ M_{\\odot}\\ {\\rm (B1\\ V\\ star)}$$ "
   ]
  },
  {
   "cell_type": "code",
   "execution_count": null,
   "metadata": {
    "collapsed": true
   },
   "outputs": [],
   "source": []
  }
 ],
 "metadata": {
  "kernelspec": {
   "display_name": "Python 2",
   "language": "python",
   "name": "python2"
  },
  "language_info": {
   "codemirror_mode": {
    "name": "ipython",
    "version": 2
   },
   "file_extension": ".py",
   "mimetype": "text/x-python",
   "name": "python",
   "nbconvert_exporter": "python",
   "pygments_lexer": "ipython2",
   "version": "2.7.10"
  }
 },
 "nbformat": 4,
 "nbformat_minor": 0
}
