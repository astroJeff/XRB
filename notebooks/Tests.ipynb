{
 "cells": [
  {
   "cell_type": "code",
   "execution_count": 1,
   "metadata": {
    "collapsed": false
   },
   "outputs": [],
   "source": [
    "import os\n",
    "import glob\n",
    "import numpy as np\n",
    "import matplotlib.pyplot as plt\n",
    "from scipy.interpolate import interp1d, interp2d\n",
    "from scipy.stats import uniform\n",
    "\n",
    "%matplotlib inline"
   ]
  },
  {
   "cell_type": "code",
   "execution_count": 2,
   "metadata": {
    "collapsed": false
   },
   "outputs": [
    {
     "name": "stderr",
     "output_type": "stream",
     "text": [
      "/Library/Python/2.7/site-packages/IPython/kernel/__init__.py:13: ShimWarning: The `IPython.kernel` package has been deprecated. You should import from ipykernel or jupyter_client instead.\n",
      "  \"You should import from ipykernel or jupyter_client instead.\", ShimWarning)\n"
     ]
    }
   ],
   "source": [
    "import sys\n",
    "sys.path.append('../pop_synth')\n",
    "import pop_synth\n",
    "sys.path.append('../binary')\n",
    "import load_sse\n",
    "import corner\n",
    "\n",
    "load_sse.load_sse()"
   ]
  },
  {
   "cell_type": "markdown",
   "metadata": {},
   "source": [
    "### Constants"
   ]
  },
  {
   "cell_type": "code",
   "execution_count": 3,
   "metadata": {
    "collapsed": false
   },
   "outputs": [],
   "source": [
    "GGG = 1.909e5 # Gravitational constant in Rsun * (km/s)^2 / Msun\n",
    "km_to_cm = 1.0e5 # km to cm\n",
    "Msun_to_g = 1.989e33 # Msun to g\n",
    "Rsun_to_cm = 6.995e10 # Rsun to cm\n",
    "pc_to_km = 3.086e13 # pc to km\n",
    "yr_to_sec = 31557600.0 # Sec in yr\n",
    "Myr_to_yr = 1.0e6 # yr in Myr\n",
    "\n",
    "M_0 = 0.073 # in Msun\n",
    "xi = 0.704\n",
    "M_NS = 1.35\n",
    "v_wind = 1000.0 # companion velocity in km/s\n",
    "R_NS = 12.0  # NS radius in km\n",
    "Dist_LMC = 5.0e4 * pc_to_km # in km\n",
    "eta_bol = 0.3  # Conversion from bolometric to X-ray luminosity"
   ]
  },
  {
   "cell_type": "markdown",
   "metadata": {},
   "source": [
    "### Load SSE data"
   ]
  },
  {
   "cell_type": "code",
   "execution_count": 4,
   "metadata": {
    "collapsed": true
   },
   "outputs": [],
   "source": [
    "load_sse.load_sse()"
   ]
  },
  {
   "cell_type": "code",
   "execution_count": 18,
   "metadata": {
    "collapsed": false
   },
   "outputs": [
    {
     "name": "stdout",
     "output_type": "stream",
     "text": [
      "15.8038177\n",
      "17.7565174\n"
     ]
    }
   ],
   "source": [
    "print load_sse.func_sse_ms_time(13.0)\n",
    "print load_sse.func_sse_tmax(13.0)"
   ]
  },
  {
   "cell_type": "code",
   "execution_count": 24,
   "metadata": {
    "collapsed": false
   },
   "outputs": [
    {
     "data": {
      "image/png": "[encoded data removed]",
      "text/plain": [
       "<matplotlib.figure.Figure at 0x10f756a50>"
      ]
     },
     "metadata": {},
     "output_type": "display_data"
    }
   ],
   "source": [
    "M1 = 13.0\n",
    "M2 = 10.0\n",
    "A = 100.0\n",
    "ecc = 0.3\n",
    "v_k = 250.0\n",
    "theta = 2.9\n",
    "phi = 0.9\n",
    "t_obs = 22.0\n",
    "\n",
    "\n",
    "t_obs = np.linspace(15.0, 26.0, 100)\n",
    "L_x = np.array([])\n",
    "\n",
    "for t in t_obs:\n",
    "    out = pop_synth.full_forward(M1, M2, A, ecc, v_k, theta, phi, t)\n",
    "    L_x = np.append(L_x, out[2])\n",
    "    \n",
    "plt.plot(t_obs, L_x)\n",
    "plt.show()"
   ]
  },
  {
   "cell_type": "code",
   "execution_count": null,
   "metadata": {
    "collapsed": false
   },
   "outputs": [],
   "source": [
    "xmin = 0.0\n",
    "xmax = 140.0\n",
    "\n",
    "for i in np.arange(len(func_sse_tmax)):\n",
    "    temp_x = np.linspace(1.0, min(func_sse_tmax[i], xmax), 2000)\n",
    "    temp_y = func_sse_mdot[i](temp_x)\n",
    "\n",
    "    plt.plot(temp_x, temp_y)\n",
    "    \n",
    "plt.xlim(xmin, xmax)\n",
    "\n",
    "plt.xlabel(\"Time (Myr)\")\n",
    "plt.ylabel(\"Mass loss rate (Msun/yr)\")\n",
    "\n",
    "plt.text(35.0, 1.7e-4, r\"M$_i = $8.1 M$_{\\odot}$\")\n",
    "\n",
    "plt.show()"
   ]
  },
  {
   "cell_type": "code",
   "execution_count": null,
   "metadata": {
    "collapsed": false
   },
   "outputs": [],
   "source": [
    "# Let's test out one model, just to see how the above aggregate plot is put together\n",
    "\n",
    "# Pick the index for a 7 Msun model\n",
    "i = 3500\n",
    "print \"Initial mass = \", func_sse_mass[i](0.0)\n",
    "\n",
    "temp_x = np.linspace(1.0, min(func_sse_tmax[i], xmax), 2000)\n",
    "temp_y = func_sse_mdot[i](temp_x)\n",
    "\n",
    "plt.plot(temp_x, temp_y)\n",
    "    \n",
    "# Same x,y limits as previous plot\n",
    "plt.xlim(xmin, xmax)\n",
    "plt.ylim(0.0,3.0e-4)\n",
    "\n",
    "plt.xlabel(\"Time (Myr)\")\n",
    "plt.ylabel(\"Mass loss rate (Msun/yr)\")\n",
    "\n",
    "plt.show()"
   ]
  },
  {
   "cell_type": "code",
   "execution_count": null,
   "metadata": {
    "collapsed": false
   },
   "outputs": [],
   "source": [
    "xmin = 0.0\n",
    "xmax = 140.0\n",
    "\n",
    "for i in np.arange(len(func_sse_tmax)):\n",
    "    temp_x = np.linspace(1.0, min(func_sse_tmax[i], xmax), 100)\n",
    "    temp_y = func_sse_mass[i](temp_x)\n",
    "\n",
    "    plt.plot(temp_x, temp_y)\n",
    "    \n",
    "plt.xlim(xmin, xmax)\n",
    "\n",
    "plt.xlabel(\"Time (Myr)\")\n",
    "plt.ylabel(\"Mass (Msun)\")\n",
    "\n",
    "plt.show()"
   ]
  },
  {
   "cell_type": "code",
   "execution_count": null,
   "metadata": {
    "collapsed": false
   },
   "outputs": [],
   "source": [
    "\n",
    "#for i in np.arange(1):\n",
    "#     temp_x = np.linspace(1.0, func_sse_tmax[i], 1000)\n",
    "#     temp_y = func_sse_mass[i](temp_x)\n",
    "#     temp_z = func_sse_mdot[i](temp_x)\n",
    "    \n",
    "#     plt.plot(temp_y, temp_z)\n",
    "    \n",
    "i = 1000    \n",
    "temp_x = np.linspace(1.0, func_sse_tmax[i], 1000)\n",
    "plt.plot(func_sse_mass[i](temp_x), func_sse_mdot[i](temp_x))\n",
    "\n",
    "    \n",
    "#plt.xlim(0.0, 2.0)\n",
    "\n",
    "plt.xlabel(\"Mass (Msun)\")\n",
    "plt.ylabel(\"Mass loss rate (Msun/yr)\")\n",
    "\n",
    "plt.show()"
   ]
  },
  {
   "cell_type": "code",
   "execution_count": null,
   "metadata": {
    "collapsed": false
   },
   "outputs": [],
   "source": [
    "def func_get_sse_star(mass, time):\n",
    "        \n",
    "    tmp = int(mass*100.0)-100\n",
    "\n",
    "    if ((tmp < 0) or (tmp>len(func_sse_mass))): return -1\n",
    "    \n",
    "    return func_sse_mass[tmp](time), func_sse_mdot[tmp](time)\n",
    "    \n",
    "    "
   ]
  },
  {
   "cell_type": "markdown",
   "metadata": {},
   "source": [
    "### The X-ray wind accreting phase"
   ]
  },
  {
   "cell_type": "code",
   "execution_count": null,
   "metadata": {
    "collapsed": false
   },
   "outputs": [],
   "source": [
    "def func_Lx_forward(M_2_in, A_in, t_obs):\n",
    "    \n",
    "    # Interpolate SSE data to get M_2, Mdot_2\n",
    "    M_2_out, M_dot_wind = func_get_sse_star(M_2_in, t_obs)\n",
    "        \n",
    "    # Get final orbital separation\n",
    "    A_out = (M_NS + M_2_in) / (M_NS + M_2_out) * A_in\n",
    "    \n",
    "    M_dot_out = (GGG*M_NS / (v_wind*v_wind*A_out))**2 * M_dot_wind\n",
    "    \n",
    "    L_bol = GGG * M_NS * M_dot_out / R_NS * km_to_cm * Msun_to_g * Rsun_to_cm / yr_to_sec\n",
    "    L_x = L_bol\n",
    "    return L_x\n",
    "    \n",
    "    "
   ]
  },
  {
   "cell_type": "code",
   "execution_count": null,
   "metadata": {
    "collapsed": false
   },
   "outputs": [],
   "source": [
    "# Pick the index for a 10 Msun model\n",
    "mass = 10.0\n",
    "tmp = int(mass*100.0)-100\n",
    "\n",
    "print \"Initial mass = \", func_sse_mass[tmp](0.0)\n",
    "\n",
    "temp_x = np.linspace(1.0, min(func_sse_tmax[tmp], xmax), 2000)\n",
    "temp_y = func_sse_mdot[tmp](temp_x)\n",
    "\n",
    "plt.plot(temp_x, temp_y)\n",
    "    \n",
    "# Same x,y limits as previous plot\n",
    "#plt.xlim(xmin, xmax)\n",
    "plt.ylim(1.0e-9,3.0e-6)\n",
    "\n",
    "plt.yscale('log')\n",
    "\n",
    "plt.xlabel(\"Time (Myr)\")\n",
    "plt.ylabel(\"log Mass loss rate (Msun/yr)\")\n",
    "\n",
    "plt.show()"
   ]
  },
  {
   "cell_type": "code",
   "execution_count": null,
   "metadata": {
    "collapsed": false
   },
   "outputs": [],
   "source": [
    "# Let's test some values here\n",
    "A_test = 10.0 ** np.linspace(2.0, 3.2, 100)\n",
    "\n",
    "plt.plot(A_test, func_Lx_forward(10.0, A_test, 10.0), label='10 Myr')\n",
    "plt.plot(A_test, func_Lx_forward(10.0, A_test, 15.0), label='15 Myr')\n",
    "plt.plot(A_test, func_Lx_forward(10.0, A_test, 20.0), label='20 Myr')\n",
    "plt.plot(A_test, func_Lx_forward(10.0, A_test, 25.0), label='25 Myr')\n",
    "\n",
    "plt.yscale('log')\n",
    "\n",
    "plt.xlabel(r\"Orbital Separation (R$_{\\odot}$)\")\n",
    "plt.ylabel(r\"log L (erg s$^{-1}$)\")\n",
    "\n",
    "plt.legend()\n",
    "\n",
    "plt.show()"
   ]
  },
  {
   "cell_type": "markdown",
   "metadata": {
    "collapsed": false
   },
   "source": [
    "## Now, let's test the Jacobians"
   ]
  },
  {
   "cell_type": "markdown",
   "metadata": {},
   "source": [
    "First, some math. \n",
    "\n",
    "Bayes' Theorem:\n",
    "$$ P(M | D, I) = \\frac{P(D | M, I) P(M | I)}{P(D | I)}. $$\n",
    "Now, we want to find the likelihood $P(D | M, I)$, where:\n",
    "$$ D = \\{\\alpha, \\delta, \\vec{m}, L_x\\}$$\n",
    "and\n",
    "$$ M = \\{ M_1, M_2, a, v_k, \\theta, \\phi, t_b, \\alpha_b, \\delta_b \\}.$$\n",
    "\n",
    "First, we marginalize over 8 separate parameters:\n",
    "$$ P(D | M, I) = \\int {\\rm d}M_2''\\ {\\rm d}A'''\\ {\\rm d}t'\\ {\\rm d}t_{\\rm sn}\\ {\\rm d}v_{\\rm sys}\\ {\\rm d}\\theta_{\\rm proj}\\ {\\rm d}\\omega\\ {\\rm d}\\phi$$\n",
    "$$ \\times\\ P(\\alpha, \\delta, \\vec{m}, L_x, M_2'', A''', t', t_{\\rm sn}, v_{\\rm sys}, \\theta_{\\rm proj}, \\omega, \\phi\\ |\\ M_1, M_2, a, v_k, \\theta, \\phi, t_b, \\alpha_b, \\delta_b, I).$$\n",
    "\n",
    "Now we can separate independent terms:\n",
    "$$ P(D | M, I) = \\int {\\rm d}M_2''\\ {\\rm d}A'''\\ {\\rm d}t'\\ {\\rm d}v_{\\rm sys}$$\n",
    "$$ \\times\\ P( \\vec{m}\\ |\\ M_2'', t', I )$$\n",
    "$$ \\times\\ P( L_x\\ |\\ M_2'', A''', t', I )$$\n",
    "$$ \\times\\ P( M_2'', A'', t', v_{\\rm sys}\\ |\\ M_1, M_2, t_b, A, v_k, \\theta, \\phi, I )$$\n",
    "$$ \\times\\ \\int {\\rm d}t_{\\rm sn}\\ {\\rm d}\\theta_{\\rm proj}\\ {\\rm d}\\omega\\ {\\rm d}\\phi\\  \n",
    "P(\\alpha, \\delta, \\theta_{\\rm proj}, \\omega, \\phi, t_{\\rm sn} |\\ \\alpha_b, \\delta_b, v_{\\rm sys}, t_b, M_1, I )$$\n",
    "\n",
    "We will define and address each of these terms independently."
   ]
  },
  {
   "cell_type": "markdown",
   "metadata": {},
   "source": [
    "### $\\int {\\rm d}t_{\\rm sn}\\ {\\rm d}\\theta_{\\rm proj}\\ {\\rm d}\\omega\\ {\\rm d}\\phi\\  \n",
    "P(\\alpha, \\delta, \\theta_{\\rm proj}, \\omega, \\phi, t_{\\rm sn} |\\ \\alpha_b, \\delta_b, v_{\\rm sys}, t_b, M_1, I )$"
   ]
  },
  {
   "cell_type": "markdown",
   "metadata": {},
   "source": [
    "We'll start with the innermost set of integrals. This term defines the position of the HMXB today, as a function of the system's birth place, systemic velocity, and time since the primary collapsed in a SN. We first want to separate terms:\n",
    "$$\n",
    "\\int {\\rm d}t_{\\rm sn}\\ {\\rm d}\\theta_{\\rm proj}\\ {\\rm d}\\omega\\ {\\rm d}\\phi\\  \n",
    "P(\\alpha, \\delta, \\theta_{\\rm proj}, \\omega, \\phi, t_{\\rm sn} |\\ \\alpha_b, \\delta_b, v_{\\rm sys}, t_b, M_1, I ) \\\\\n",
    " = \\int\\ {\\rm d}t_{\\rm sn}\\ P(t_{\\rm sn} | t_b, M_1, I)\\ \n",
    " \\int {\\rm d}\\theta_{\\rm proj}\\ {\\rm d}\\omega\\ {\\rm d}\\phi\\ P(\\alpha, \\delta | \\alpha_b, \\delta_b, \\theta_{\\rm proj}, \\omega)\n",
    " P(\\theta_{\\rm proj}, \\phi | v_{\\rm sys}, t_{\\rm SN}) P(\\omega) \\\\\n",
    " = \\int\\ {\\rm d}t_{\\rm sn}\\ P(t_{\\rm sn} | t_b, M_1, I)\\   \\\\ \n",
    " \\times \\int\\ \\int\\ {\\rm d}\\omega\\ {\\rm d}\\theta_{\\rm proj}\\ P(\\alpha | \\alpha_b, \\delta_b, \\theta_{\\rm proj}, \\delta, I) P(\\delta | \\alpha_b, \\delta_b, \\alpha, \\omega, I) P(\\omega) \\\\\n",
    " \\times \\int {\\rm d}\\phi\\ P(\\theta_{\\rm proj} | v_{\\rm sys}, t_{\\rm sn}, \\phi, I) P(\\phi)\n",
    "$$\n",
    "\n",
    "The individual terms of these probabilities are equal to:\n",
    "$$\n",
    "P(t_{\\rm sn} | t_b, M_1, I) = \\delta \\left[ t_{\\rm sn} - t_b + t(M_1) \\right]\n",
    "$$\n",
    "$$\n",
    "P(\\alpha | \\alpha_b, \\delta_b, \\theta_{\\rm proj}, \\delta, I) = \\delta \\left[ \\alpha_b - \\alpha + \\left( \\frac{\\theta^2 - (\\delta_b - \\delta)^2}{\\cos \\delta \\cos \\delta_b} \\right)^{1/2} \\right]\n",
    "$$\n",
    "$$\n",
    "P(\\delta | \\alpha_b, \\delta_b, \\alpha, \\omega, I) = \\delta \\left[ \\delta - \\delta_b + \\tan \\omega \\left( \\alpha_b - \\alpha \\right) \\cos \\delta \\right]\n",
    "$$\n",
    "$$\n",
    "P(\\theta_{\\rm proj} | v_{\\rm sys}, t_{\\rm sn}, \\phi, I) = \\delta \\left[ \\theta_p - \\frac{v_{\\rm sys} t_{\\rm sn}}{D} \\sin \\phi \\right]\n",
    "$$\n",
    "$$\n",
    "P(\\omega) = \\frac{1}{2 \\pi}\n",
    "$$\n",
    "$$\n",
    "P(\\phi) = \\frac{1}{2} \\sin \\phi.\n",
    "$$\n",
    "\n",
    "These integrals are of the form:\n",
    "$$\n",
    "\n",
    "$$\n",
    "\n",
    "\n",
    "\n",
    "It is equivalent to:\n",
    "$$ \n",
    "P(\\theta_{\\rm proj} |\\ v_{\\rm sys}, t_{\\rm sn}, I ) = \\left\\{\n",
    "        \\begin{array}{ll}\n",
    "            0 & \\theta_{\\rm proj} > \\frac{v_{\\rm sys} t_{\\rm sn} }{D} \\\\\n",
    "            \\frac{D}{v_{\\rm sys} t_{\\rm sn}} \\tan \\phi^* \\left. \\frac{{\\rm d}t}{{\\rm d}M} \\right\\vert_{M_1} & \\theta_{\\rm proj} \\leq \\frac{v_{\\rm sys} t_{\\rm sn} }{D}\n",
    "        \\end{array}\n",
    "    \\right.\n",
    "$$\n",
    "where\n",
    "$$ \\phi^* = \\sin^{-1} \\left[ \\frac{D}{v_{\\rm sys} t_{\\rm sn}} \\theta_{\\rm proj} \\right]. $$\n",
    "It should be clear that the domain for $\\phi^*$ is the equivalent to the conditional, $\\theta_{\\rm proj} \\leq \\frac{v_{\\rm sys} t_{\\rm sn} }{D}$, above."
   ]
  },
  {
   "cell_type": "code",
   "execution_count": null,
   "metadata": {
    "collapsed": false
   },
   "outputs": [],
   "source": [
    "def dec_to_rad(theta):\n",
    "    return np.pi * theta / 180.0\n",
    "def rad_to_dec(theta):\n",
    "    return 180.0 * theta / np.pi\n",
    "\n",
    "def get_theta_proj(alpha, delta, alpha_b, delta_b):\n",
    "    return np.sqrt((alpha_b-alpha)**2 * np.cos(delta)*np.cos(delta_b) + (delta_b-delta)**2)\n",
    "\n",
    "def get_omega(alpha, delta, alpha_b, delta_b):\n",
    "    return np.arctan((delta_b-delta) / ((alpha_b - alpha)*np.cos(delta_b)))\n",
    "\n",
    "def get_dtheta_dalpha(alpha, delta, alpha_b, delta_b):\n",
    "    theta_proj = get_theta_proj(alpha, delta, alpha_b, delta_b)\n",
    "    return (alpha-alpha_b) * np.cos(delta) * np.cos(delta_b) / theta_proj\n",
    "\n",
    "def get_dtheta_ddelta(alpha, delta, alpha_b, delta_b):\n",
    "    theta_proj = get_theta_proj(alpha, delta, alpha_b, delta_b)\n",
    "    return - 1.0/(2.0*theta_proj) * (np.cos(delta_b)*np.sin(delta)*(alpha_b-alpha)**2 + 2.0*(delta_b-delta))\n",
    "\n",
    "def get_domega_dalpha(alpha, delta, alpha_b, delta_b):\n",
    "    z = (delta_b-delta) / ((alpha_b-alpha) * np.cos(delta_b))\n",
    "    return 1.0 / (1.0 + z*z) * z / (alpha_b - alpha)\n",
    "\n",
    "def get_domega_ddelta(alpha, delta, alpha_b, delta_b):\n",
    "    z = (delta_b-delta) / ((alpha_b-alpha) * np.cos(delta_b))\n",
    "    return - 1.0 / (1.0 + z*z) / ((alpha_b-alpha) * np.cos(delta_b))\n",
    "\n",
    "def get_J_coor(alpha, delta, alpha_b, delta_b):\n",
    "    dt_da = get_dtheta_dalpha(alpha, delta, alpha_b, delta_b)\n",
    "    dt_dd = get_dtheta_ddelta(alpha, delta, alpha_b, delta_b)\n",
    "    do_da = get_domega_dalpha(alpha, delta, alpha_b, delta_b)\n",
    "    do_dd = get_domega_ddelta(alpha, delta, alpha_b, delta_b)\n",
    "\n",
    "    return dt_da*do_dd - dt_dd*do_da\n",
    "    \n",
    "    \n",
    "\n",
    "def get_P_theta_proj(theta_proj, v_sys, t_b, M_1):\n",
    "\n",
    "    # v_sys needs to be in (km/s)\n",
    "    # t_b needs to be in Myr\n",
    "    # theta_proj should be in radians\n",
    "    \n",
    "    # The time since the primary's core collapse\n",
    "    t_sn = (t_b - func_sse_tmax(M_1)) * Myr_to_yr * yr_to_sec\n",
    "        \n",
    "    # Unitless\n",
    "    tmp = (v_sys * t_sn) / Dist_LMC\n",
    "        \n",
    "    # Define conditional\n",
    "    conds = [theta_proj>tmp, theta_proj<=tmp]\n",
    "    funcs = [lambda theta_proj: 0., lambda theta_proj: np.tan(np.arcsin(theta_proj/tmp))/tmp]\n",
    "    \n",
    "    prob_out = np.piecewise(theta_proj, conds, funcs)\n",
    "\n",
    "    return prob_out\n",
    "\n",
    "\n",
    "def get_P_coor(alpha, delta, alpha_b, delta_b, v_sys, t_b, M_1):\n",
    "    \n",
    "    theta_proj = get_theta_proj(alpha, delta, alpha_b, delta_b)\n",
    "    \n",
    "    J_coor = np.abs(get_J_coor(alpha, delta, alpha_b, delta_b))\n",
    "        \n",
    "    P_omega = 1.0 / (2.0 * np.pi)\n",
    "    \n",
    "    P_theta_proj = get_P_theta_proj(theta_proj, v_sys, t_b, M_1)\n",
    "    \n",
    "#    for i in np.arange(len(theta_proj)):\n",
    "#        print theta_proj[i]*3600.0 * 180.0/np.pi, P_theta_proj[i], J_coor[i]\n",
    "    \n",
    "    return P_omega * P_theta_proj * J_coor"
   ]
  },
  {
   "cell_type": "code",
   "execution_count": null,
   "metadata": {
    "collapsed": false
   },
   "outputs": [],
   "source": [
    "# Test the derivatives in the Jacobian\n",
    "\n",
    "alpha = dec_to_rad(np.array([100.0]))\n",
    "delta = dec_to_rad(np.array([30.0]))\n",
    "\n",
    "alpha_b = alpha - 0.0001\n",
    "delta_b = delta + 0.02\n",
    "\n",
    "print \"Test Derivatives\"\n",
    "print \"\"\n",
    "print \"dtheta/dalpha\"\n",
    "print \"Numerical:\", (get_theta_proj(alpha+1.0e-10, delta, alpha_b, delta_b) - get_theta_proj(alpha, delta, alpha_b, delta_b))/1.0e-10\n",
    "print \"Analytic:\", get_dtheta_dalpha(alpha, delta, alpha_b, delta_b)\n",
    "print \"\"\n",
    "print \"dtheta/ddelta\"\n",
    "print \"Numerical:\", (get_theta_proj(alpha, delta+1.0e-10, alpha_b, delta_b) - get_theta_proj(alpha, delta, alpha_b, delta_b))/1.0e-10\n",
    "print \"Analytic:\", get_dtheta_ddelta(alpha, delta, alpha_b, delta_b)\n",
    "print \"\"\n",
    "print \"domega/dalpha\"\n",
    "print \"Numerical:\", (get_omega(alpha+1.0e-10, delta, alpha_b, delta_b) - get_omega(alpha, delta, alpha_b, delta_b))/1.0e-10\n",
    "print \"Analytic:\", get_domega_dalpha(alpha, delta, alpha_b, delta_b)\n",
    "print \"\"\n",
    "print \"domega/ddelta\"\n",
    "print \"Numerical:\", (get_omega(alpha, delta+1.0e-10, alpha_b, delta_b) - get_omega(alpha, delta, alpha_b, delta_b))/1.0e-10\n",
    "print \"Analytic:\", get_domega_ddelta(alpha, delta, alpha_b, delta_b)\n",
    "\n"
   ]
  },
  {
   "cell_type": "code",
   "execution_count": null,
   "metadata": {
    "collapsed": false,
    "scrolled": true
   },
   "outputs": [],
   "source": [
    "theta_proj = np.linspace(0.0, 2100.0, 500) * 1.0/3600.0 * np.pi/180.0\n",
    "#theta_proj = np.array([deg_to_rad(2.0 * 1.0/3600.0 * np.pi/180.0 )])\n",
    "v_sys = np.array([200.0])\n",
    "t_b = np.array([30])\n",
    "M1 = np.array([10.0])\n",
    "\n",
    "p_out = get_P_theta_proj(theta_proj, v_sys, t_b, M1)\n",
    "\n",
    "\n",
    "plt.plot(rad_to_dec(theta_proj) * 3600.0, p_out, linewidth=6, alpha=0.3)\n",
    "\n",
    "\n",
    "\n",
    "\n",
    "\n",
    "def get_theta(N):\n",
    "    return np.arccos(1.0-2.0*uniform.rvs(size = N))\n",
    "\n",
    "# The time since the primary's core collapse\n",
    "t_sn = (t_b - func_sse_tmax(M1)) * Myr_to_yr * yr_to_sec\n",
    "# Numerically evaluate the derivative (Jacobian)\n",
    "dt_dM = np.abs((func_sse_tmax(M1+0.02) - func_sse_tmax(M1)) / 0.02)\n",
    "\n",
    "\n",
    "ran_theta = get_theta(100000)\n",
    "proj_dist = np.arctan(np.sin(ran_theta) * v_sys * t_sn / Dist_LMC)\n",
    "y,binEdges = np.histogram(proj_dist, bins=100, normed=True)\n",
    "bincenters = 0.5*(binEdges[1:]+binEdges[:-1])\n",
    "#y = y * dt_dM\n",
    "plt.plot(bincenters*180.0/np.pi * 3600.0,y, color='k', linestyle='dashed', linewidth=3)\n",
    "\n",
    "plt.show()"
   ]
  },
  {
   "cell_type": "code",
   "execution_count": null,
   "metadata": {
    "collapsed": false
   },
   "outputs": [],
   "source": [
    "a_tmp = dec_to_rad(np.linspace(99.7, 100.3, 200))\n",
    "d_tmp = dec_to_rad(np.linspace(29.8, 30.2, 200))\n",
    "alpha, delta = np.meshgrid(a_tmp, d_tmp)\n",
    "\n",
    "#delta = dec_to_rad(np.array([30.0]))\n",
    "alpha_b = dec_to_rad(np.array([100.0]))\n",
    "delta_b = dec_to_rad(np.array([30.0]))\n",
    "v_sys = np.array([50.0])\n",
    "t_b = np.array([30.0])\n",
    "M_1 = np.array([10.0])\n",
    "\n",
    "\n",
    "# Analytic\n",
    "#omega_term = np.abs(2.0 * np.pi * (alpha_b - alpha) * np.cos(delta))\n",
    "#prob = get_P_coor(alpha, delta, alpha_b, delta_b, v_sys, t_b, M_1) * omega_term\n",
    "\n",
    "#plt.plot((alpha-alpha_b)*180.0/np.pi * 3600.0, prob, linewidth=6, alpha=0.3)\n",
    "\n",
    "\n",
    "prob = get_P_coor(alpha, delta, alpha_b, delta_b, v_sys, t_b, M_1)\n",
    "plt.pcolor(alpha, delta, prob, vmin=0.0, vmax=6.0e4)\n",
    "plt.colorbar()\n",
    "\n",
    "\n",
    "plt.show()\n",
    "\n",
    "\n",
    "\n",
    "\n",
    "# Population Synthesis\n",
    "def get_ran_theta(N):\n",
    "    return np.arccos(1.0-2.0*uniform.rvs(size = N))\n",
    "def get_ran_omega(N):\n",
    "    return 2.0 * np.pi * uniform.rvs(size = N)\n",
    "\n",
    "# The time since the primary's core collapse\n",
    "t_sn = (t_b - func_sse_tmax(M_1)) * Myr_to_yr * yr_to_sec\n",
    "# Numerically evaluate the derivative (Jacobian)\n",
    "dt_dM = np.abs((func_sse_tmax(M_1+0.02) - func_sse_tmax(M_1)) / 0.02)\n",
    "\n",
    "\n",
    "ran_theta = get_ran_theta(5000000)\n",
    "ran_omega = get_ran_omega(5000000)\n",
    "\n",
    "\n",
    "theta_proj_test = np.sin(ran_theta) * v_sys * t_sn / Dist_LMC\n",
    "alpha_test = alpha_b + theta_proj_test/np.cos(delta_b) * np.cos(ran_omega)\n",
    "delta_test = delta_b + theta_proj_test * np.sin(ran_omega)\n",
    "\n",
    "plt.hist2d(alpha_test, delta_test, bins=(200,200), normed=True, vmin=0.0, vmax=6.0e4)\n",
    "\n",
    "plt.colorbar()\n",
    "plt.xlim(1.74, 1.752)\n",
    "plt.ylim(0.520, 0.528)\n",
    "\n",
    "\n",
    "#theta_proj_test = v_sys * t_sn / Dist_LMC * np.sin(ran_theta)\n",
    "\n",
    "\n",
    "\n",
    "\n",
    "#y,binEdges = np.histogram(alpha_test, bins=100, normed=True)\n",
    "#bincenters = 0.5*(binEdges[1:]+binEdges[:-1])\n",
    "#plt.plot(bincenters*180.0/np.pi * 3600.0 - rad_to_dec(alpha_b) * 3600.0, y, color='k', linestyle='dashed', linewidth=3)\n",
    "\n",
    "plt.show()"
   ]
  },
  {
   "cell_type": "markdown",
   "metadata": {},
   "source": [
    "### Mass transfer calculation"
   ]
  },
  {
   "cell_type": "code",
   "execution_count": null,
   "metadata": {
    "collapsed": false
   },
   "outputs": [],
   "source": [
    "def get_MT_M1(M_1):\n",
    "    return M_0 * np.power(M_1, 1.0/xi)\n",
    "\n",
    "def get_MT_M2(M_1, M_2):\n",
    "    M1_core = get_MT_M1(M_1)\n",
    "    return M_1 + M_2 - M1_core\n",
    "\n",
    "def get_MT_A(M_1, M_2, A):\n",
    "    M1_MT = get_MT_M1(M_1)\n",
    "    M2_MT = get_MT_M2(M_1, M_2)\n",
    "    return A * ((M_1*M_2)/(M1_MT*M2_MT))**2\n",
    "\n",
    "def J_MT(M_1, M_2, A):\n",
    "    M1_core = get_MT_M1(M_1)\n",
    "    M2_MT = get_MT_M2(M_1, M_2, A)\n",
    "    return M_0/xi * np.power(M_1, 1.0/xi - 1.0) \\\n",
    "        * ((M_1*M_2)/(M1_core * M2_MT))**2\n",
    "    \n",
    "def get_dM1_dM1(M_1):\n",
    "    return M_0/xi * np.power(M_1, 1.0/xi - 1.0)\n",
    "\n",
    "def get_dA_dA(M_1, M_2, A):\n",
    "    M1_core = get_MT_M1(M_1)\n",
    "    M2_MT = get_MT_M2(M_1, M_2)\n",
    "    return ((M_1*M_2)/(M1_core * M2_MT))**2"
   ]
  },
  {
   "cell_type": "code",
   "execution_count": null,
   "metadata": {
    "collapsed": false
   },
   "outputs": [],
   "source": [
    "print \"Test Derivatives\"\n",
    "print \"\"\n",
    "print \"dM1'/dM1\"\n",
    "print \"Numerical:\", (get_MT_M1(2.0)-get_MT_M1(1.99)) / 0.01\n",
    "print \"Analytic:\", get_dM1_dM1(2.0)\n",
    "print \"\"\n",
    "print \"dM2'/dM2\"\n",
    "print \"Numerical:\", (get_MT_M2(2.0, 2.0) - get_MT_M2(2.0, 1.99)) / 0.01\n",
    "print \"Analytic: 1.0\"\n",
    "print \"\"\n",
    "print \"dA'/dA\"\n",
    "print \"Numerical:\", (get_MT_A(2.0, 2.0, 100.0) - get_MT_A(2.0, 2.0, 99.99))/0.01\n",
    "print \"Analytic:\", get_dA_dA(2.0, 2.0, 100.0)"
   ]
  },
  {
   "cell_type": "markdown",
   "metadata": {},
   "source": [
    "### Supernova calculation"
   ]
  },
  {
   "cell_type": "code",
   "execution_count": null,
   "metadata": {
    "collapsed": true
   },
   "outputs": [],
   "source": [
    "def get_v_r(M_1, M_2, A):\n",
    "    return np.sqrt(GGG * (M_1 + M_2) / A)\n",
    "\n",
    "def get_v_1(M_1, M_2, A, v_k, theta):\n",
    "    v_r = get_v_r(M_1, M_2, A)\n",
    "    return np.sqrt(2.0*v_k*v_r*np.cos(theta) + v_k**2 + v_r**2)\n",
    "\n",
    "def get_v_sys(M_1, M_2, A, v_k, theta):\n",
    "    alpha = M_1 / (M_1 + M_2)\n",
    "    beta = M_NS / (M_NS + M_2)\n",
    "    v_r = get_v_r(M_1, M_2, A)\n",
    "    v_sys_2 = beta**2*v_k**2 \\\n",
    "        + v_r**2*(alpha-beta)**2 \\\n",
    "        + 2.0*beta*(alpha-beta)*v_r*v_k*np.cos(theta)\n",
    "    return np.sqrt(v_sys_2)\n",
    "\n",
    "def get_A_SN(M_1, M_2, A, v_k, theta):\n",
    "    v_1 = get_v_1(M_1, M_2, A, v_k, theta)\n",
    "    return 1.0/(2.0/A - v_1**2/(GGG*(M_NS+M_2)))\n",
    "\n",
    "def get_dv_r_dA(M_1, M_2, A):\n",
    "    return -0.5 * np.sqrt(GGG*(M_1+M_2) / A**3)\n",
    "\n",
    "def get_dv_1_2_dA(M_1, M_2, A, v_k, theta):\n",
    "    v_r = get_v_r(M_1, M_2, A)\n",
    "    v_1 = get_v_1(M_1, M_2, A, v_k, theta)\n",
    "    dv_dA = get_dv_r_dA(M_1, M_2, A)\n",
    "    return (2.0*v_k*np.cos(theta) + 2.0*v_r)*dv_dA\n",
    "\n",
    "def get_dv_1_2_dv_k(M_1, M_2, A, v_k, theta):\n",
    "    v_r = get_v_r(M_1, M_2, A)\n",
    "    return 2.0*v_r*np.cos(theta) + 2.0*v_k\n",
    "\n",
    "def get_dA_dA(M_1, M_2, A, v_k, theta):\n",
    "    A_SN = get_A_SN(M_1, M_2, A, v_k, theta)\n",
    "    dv1_2_dA = get_dv_1_2_dA(M_1, M_2, A, v_k, theta)\n",
    "    return A_SN**2 * ((2.0/A**2) + dv1_2_dA/(GGG*(M_NS+M_2)))\n",
    "\n",
    "def get_dA_dv_k(M_1, M_2, A, v_k, theta):\n",
    "    A_SN = get_A_SN(M_1, M_2, A, v_k, theta)\n",
    "    dv1_2_dv_k = get_dv_1_2_dv_k(M_1, M_2, A, v_k, theta)\n",
    "    return A_SN**2/(GGG*(M_NS+M_2)) * dv1_2_dv_k\n",
    "\n",
    "def get_dv_sys_dA(M_1, M_2, A, v_k, theta):\n",
    "    alpha = M_1 / (M_1 + M_2)\n",
    "    beta = M_NS / (M_NS + M_2)\n",
    "    v_sys = get_v_sys(M_1, M_2, A, v_k, theta)\n",
    "    v_r = get_v_r(M_1, M_2, A)\n",
    "    dv_r_dA = get_dv_r_dA(M_1, M_2, A)\n",
    "    dv_sys_dA = 0.5/v_sys * (2.0*(alpha-beta)**2*v_r \\\n",
    "        + 2.0*beta*(alpha-beta)*np.cos(theta)*v_k) * dv_r_dA\n",
    "    return dv_sys_dA\n",
    "\n",
    "def get_dv_sys_dv_k(M_1, M_2, A, v_k, theta):\n",
    "    alpha = M_1 / (M_1 + M_2)\n",
    "    beta = M_NS / (M_NS + M_2)\n",
    "    v_r = get_v_r(M_1, M_2, A)\n",
    "    v_sys = get_v_sys(M_1, M_2, A, v_k, theta)\n",
    "    dv_sys_dv_k = 0.5/v_sys * (2.0*beta**2*v_k \\\n",
    "        + 2.0*beta*(alpha-beta)*np.cos(theta)*v_r)\n",
    "    return dv_sys_dv_k\n",
    "    \n",
    "def get_J_SN(M_1, M_2, A, v_k, theta):\n",
    "    dA_dA = get_dA_dA(M_1, M_2, A, v_k, theta)\n",
    "    dv_sys_dv_k = get_dv_sys_dv_k(M_1, M_2, A, v_k, theta)\n",
    "    dA_dv_k = get_dA_dv_k(M_1, M_2, A, v_k, theta)\n",
    "    dv_sys_dA = get_dv_sys_dA(M_1, M_2, A, v_k, theta)\n",
    "    return dA_dA*dv_sys_dv_k - dA_dv_k*dv_sys_dA"
   ]
  },
  {
   "cell_type": "code",
   "execution_count": null,
   "metadata": {
    "collapsed": false
   },
   "outputs": [],
   "source": [
    "M_1 = np.array([1.5])\n",
    "M_2 = np.array([2.0])\n",
    "A = np.array([100.0])\n",
    "v_k = np.array([10.0])\n",
    "theta = 1.6\n",
    "\n",
    "print \"v_r:\", get_v_r(M_1, M_2, A)\n",
    "print \"v_1:\", get_v_1(M_1, M_2, A, v_k, theta)\n",
    "print \"v_sys:\", get_v_sys(M_1, M_2, A, v_k, theta)\n",
    "print \"a_SN:\", get_A_SN(M_1, M_2, A, v_k, theta)\n",
    "print \"\"\n",
    "print \"Test derivatives\"\n",
    "print \"\"\n",
    "print \"Numerical:\", (get_v_r(M_1, M_2, A+0.1)-get_v_r(M_1, M_2, A))/0.1\n",
    "print \"Analytic:\", get_dv_r_dA(M_1, M_2, A)\n",
    "print \"\"\n",
    "print \"Numerical:\", (get_v_1(M_1, M_2, A+0.1, v_k, theta)**2-get_v_1(M_1, M_2, A, v_k, theta)**2)/0.1\n",
    "print \"Analytic:\", get_dv_1_2_dA(M_1, M_2, A, v_k, theta)\n",
    "print \"\"\n",
    "print \"Numerical:\", (get_v_1(M_1, M_2, A, v_k+0.1, theta)**2-get_v_1(M_1, M_2, A, v_k, theta)**2)/0.1\n",
    "print \"Analytic:\", get_dv_1_2_dv_k(M_1, M_2, A, v_k, theta)\n",
    "print \"\"\n",
    "print \"Numerical:\", (get_A_SN(M_1, M_2, A+0.1, v_k, theta)-get_A_SN(M_1, M_2, A, v_k, theta))/0.1\n",
    "print \"Analytic:\", get_dA_dA(M_1, M_2, A, v_k, theta)\n",
    "print \"\"\n",
    "print \"Numerical:\", (get_A_SN(M_1, M_2, A, v_k+0.1, theta)-get_A_SN(M_1, M_2, A, v_k, theta))/0.1\n",
    "print \"Analytic:\", get_dA_dv_k(M_1, M_2, A, v_k, theta)\n",
    "print \"\"\n",
    "print \"Numerical:\", (get_v_sys(M_1, M_2, A+0.1, v_k, theta)-get_v_sys(M_1, M_2, A, v_k, theta))/0.1\n",
    "print \"Analytic:\", get_dv_sys_dA(M_1, M_2, A, v_k, theta)\n",
    "print \"\"\n",
    "print \"Numerical:\", (get_v_sys(M_1, M_2, A, v_k+0.1, theta)-get_v_sys(M_1, M_2, A, v_k, theta))/0.1\n",
    "print \"Analytic:\", get_dv_sys_dv_k(M_1, M_2, A, v_k, theta)\n"
   ]
  },
  {
   "cell_type": "markdown",
   "metadata": {},
   "source": [
    "### X-ray accreting phase"
   ]
  },
  {
   "cell_type": "code",
   "execution_count": null,
   "metadata": {
    "collapsed": true
   },
   "outputs": [],
   "source": [
    "def func_get_time(M1, M2, t_obs):\n",
    "\n",
    "    t_lifetime_1 = func_sse_ms_time(M1)\n",
    "    he_mass_1 = func_sse_he_mass(M1)\n",
    "    \n",
    "    t_lifetime_2 = func_sse_ms_time(M2)\n",
    "    he_mass_2 = func_sse_he_mass(M2)\n",
    "    \n",
    "    # Relative lifetime through star 2 at mass gain\n",
    "    he_mass = t_lifetime_1/t_lifetime_2 * he_mass_2\n",
    "    \n",
    "    # Get new secondary parameters\n",
    "    mass_new = M2 + M1 - he_mass_1\n",
    "    t_lifetime_new = func_sse_ms_time(mass_new)\n",
    "    he_mass_new = func_sse_he_mass(mass_new)\n",
    "\n",
    "    # New, effective lifetime\n",
    "    t_eff = he_mass / he_mass_new * t_lifetime_new\n",
    "    \n",
    "    # Now, we obtain the \"effective observed time\"\n",
    "    return t_eff + t_obs - t_lifetime_1\n",
    "\n"
   ]
  },
  {
   "cell_type": "code",
   "execution_count": null,
   "metadata": {
    "collapsed": true
   },
   "outputs": [],
   "source": [
    "# First, the Jacobian to transform from t_b to t'\n",
    "def J_time(M_1, M_2, t_b):\n",
    "    return (func_get_time(M_1, M_2, t_b+0.0001) - func_get_time(M_1, M_2, t_b)) / 0.0001\n",
    "\n",
    "# Now, the Jacobian to transform from M_2' to M_2''\n",
    "def J_M_2(M_2, time):\n",
    "    M_2_tmp_a, M_2_dot_tmp_a, rad_a = func_get_sse_star(M_2, time)\n",
    "    M_2_tmp_b, M_2_dot_tmp_b, rad_b = func_get_sse_star(M_2+0.02, time)\n",
    "    return (M_2_tmp_b - M_2_tmp_a)/0.02"
   ]
  },
  {
   "cell_type": "code",
   "execution_count": null,
   "metadata": {
    "collapsed": true
   },
   "outputs": [],
   "source": [
    "# Wind velocity models\n",
    "def get_v_esc(mass, radius):\n",
    "    return np.sqrt(2.0 * GGG * mass / radius)\n",
    "\n",
    "def get_v_wind(mass, radius):\n",
    "    return get_v_esc(mass,radius)\n",
    "\n",
    "# X-ray luminosity\n",
    "def func_Lx_forward(M_2_in, A_in, t_obs):\n",
    "    \n",
    "    # Interpolate SSE data to get M_2, Mdot_2\n",
    "    M_2_out, M_dot_wind, M_2_rad = func_get_sse_star(M_2_in, t_obs)\n",
    "        \n",
    "#    # Get final orbital separation\n",
    "#    A_out = (M_NS + M_2_in) / (M_NS + M_2_out) * A_in\n",
    "#    M_dot_out = (GGG*M_NS / (v_wind*v_wind*A_out))**2 * M_dot_wind\n",
    "\n",
    "    v_wind = get_v_wind(M_2_out, M_2_rad)\n",
    "    M_dot_out = (GGG*M_NS / (v_wind*v_wind*A_in))**2 * M_dot_wind\n",
    "    \n",
    "    L_bol = GGG * M_NS * M_dot_out / R_NS * Rsun_to_cm * km_to_cm * Msun_to_g / yr_to_sec\n",
    "    \n",
    "    L_x = eta_bol * L_bol\n",
    "\n",
    "    return L_x\n",
    "    \n",
    "    "
   ]
  },
  {
   "cell_type": "markdown",
   "metadata": {},
   "source": [
    "### Spatially resolved star formation in the LMC"
   ]
  },
  {
   "cell_type": "code",
   "execution_count": null,
   "metadata": {
    "collapsed": false
   },
   "outputs": [],
   "source": [
    "# First read in table and store in array\n",
    "names = [\"log_age\",\"sfh_z008\",\"sfh_z004\",\"sfh_z0025\",\"sfh_z001\"]\n",
    "\n",
    "#data_file = os.path.abspath(\"../data/lmc_data/lmc_sfh.dat\")\n",
    "data_file = os.path.abspath(\"../data/lmc_data/lmc_sfh_reduced.dat\")\n",
    "lmc_sfh = np.genfromtxt(data_file, usecols=(0,1,4,7,10), dtype=\"float64,float64,float64,float64,float64\", skip_header=16, comments=\"#\", names=names)\n",
    "\n",
    "\n",
    "# Create an empty array to start with\n",
    "names = [\"region\",\"log_age\",\"sfh_z008\",\"sfh_z004\",\"sfh_z0025\",\"sfh_z001\"]\n",
    "formats = ['S10','float64','float64','float64','float64','float64']\n",
    "dtypes = [('region','<S10'), \\\n",
    "          ('log_age','<f8'), \\\n",
    "          ('sfh_z008','<f8'), \\\n",
    "          ('sfh_z004','<f8'), \\\n",
    "          ('sfh_z0025','<f8'), \\\n",
    "          ('sfh_z001','<f8')]\n",
    "lmc_sfh = np.recarray(0, dtype=dtypes)\n",
    "\n",
    "#lmc_sfh = np.recarray(0, names=names, formats=formats)\n",
    "#lmc_sfh = np.recarray(0, names=\"region\", formats=\"S10\")\n",
    "\n",
    "with open(\"../data/lmc_data/lmc_sfh_reduced.dat\") as f:\n",
    "    line_num = 0\n",
    "\n",
    "    for line in f:\n",
    "        line_num += 1\n",
    "\n",
    "        if line_num < 17: continue\n",
    "        if \"Region\" in line: \n",
    "            region = np.array(line.split()[2]).astype(np.str)\n",
    "        elif \"(\" in line:\n",
    "            1 == 1\n",
    "        else:\n",
    "            line_data = line.split()\n",
    "            line_data = np.array(line_data).astype(np.float64)\n",
    "            out_line[0] = region\n",
    "            out_line[0][1] = line_data[0]\n",
    "            out_line[0][2] = line_data[1]\n",
    "            out_line[0][3] = line_data[4]\n",
    "            out_line[0][4] = line_data[7]\n",
    "            out_line[0][5] = line_data[10]\n",
    "\n",
    "            lmc_sfh = np.append(lmc_sfh, out_line[0])\n",
    "            "
   ]
  },
  {
   "cell_type": "code",
   "execution_count": null,
   "metadata": {
    "collapsed": false
   },
   "outputs": [],
   "source": [
    "# Load region coordinates\n",
    "\n",
    "from astropy.coordinates import SkyCoord\n",
    "\n",
    "data_file = os.path.abspath(\"../data/lmc_data/lmc_coordinates.dat\")\n",
    "lmc_coor_2 = np.genfromtxt(data_file, dtype=\"S10,S2,S2,S3,S2\", names=names)\n",
    "\n",
    "lmc_coor = np.recarray(0, dtype=[('region','<S10'),('ra','float64'),('dec','float64')])\n",
    "tmp = np.recarray(1, dtype=[('region','<S10'),('ra','float64'),('dec','float64')])\n",
    "\n",
    "\n",
    "for coor in lmc_coor_2:\n",
    "    ra = str(coor[1])+\"h\"+str(coor[2])+\"m\"\n",
    "    dec = str(coor[3])+\"d\"+str(coor[4])+\"m\"\n",
    "\n",
    "    region = coor[0]\n",
    "    \n",
    "    coor = SkyCoord(ra, dec)\n",
    "    \n",
    "    tmp[\"region\"] = region\n",
    "    tmp[\"ra\"] = coor.ra.degree\n",
    "    tmp[\"dec\"] = coor.dec.degree\n",
    "\n",
    "    lmc_coor = np.append(lmc_coor, tmp)\n"
   ]
  },
  {
   "cell_type": "code",
   "execution_count": null,
   "metadata": {
    "collapsed": false
   },
   "outputs": [],
   "source": [
    "SF_history = np.array([])\n",
    "\n",
    "regions = np.unique(lmc_sfh[\"region\"])\n",
    "\n",
    "\n",
    "age = np.array([])\n",
    "sfr = np.array([])\n",
    "for r in regions:\n",
    "\n",
    "    age = lmc_sfh[\"log_age\"][np.where(lmc_sfh[\"region\"] == r)]\n",
    "    sfr = lmc_sfh[\"sfh_z008\"][np.where(lmc_sfh[\"region\"] == r)]\n",
    "\n",
    "    SF_history = np.append(SF_history, interp1d(age[::-1], sfr[::-1], bounds_error=False, fill_value=0.0))\n",
    "\n",
    "\n",
    "def get_SFH(ra, dec, t_b):\n",
    "    ra1 = dec_to_rad(ra)\n",
    "    dec1 = dec_to_rad(dec)\n",
    "    ra2 = dec_to_rad(lmc_coor[\"ra\"])\n",
    "    dec2 = dec_to_rad(lmc_coor[\"dec\"])\n",
    "    \n",
    "    dist = np.sqrt((ra1-ra2)**2*np.cos(dec1)*np.cos(dec2) + (dec1-dec2)**2)\n",
    "    index = np.argmin(dist)\n",
    "\n",
    "    return SF_history[index](np.log10(t_b))\n"
   ]
  },
  {
   "cell_type": "code",
   "execution_count": null,
   "metadata": {
    "collapsed": false
   },
   "outputs": [],
   "source": [
    "time = np.linspace(6,10,200)\n",
    "time = 10**(time)\n",
    "\n",
    "SFH = get_SFH(74.3, -71.7, time)\n",
    "\n",
    "plt.plot(np.log10(time), SFH)\n",
    "plt.show()"
   ]
  },
  {
   "cell_type": "code",
   "execution_count": null,
   "metadata": {
    "collapsed": true
   },
   "outputs": [],
   "source": []
  }
 ],
 "metadata": {
  "kernelspec": {
   "display_name": "Python 2",
   "language": "python",
   "name": "python2"
  },
  "language_info": {
   "codemirror_mode": {
    "name": "ipython",
    "version": 2
   },
   "file_extension": ".py",
   "mimetype": "text/x-python",
   "name": "python",
   "nbconvert_exporter": "python",
   "pygments_lexer": "ipython2",
   "version": "2.7.10"
  }
 },
 "nbformat": 4,
 "nbformat_minor": 0
}
