{
 "cells": [
  {
   "cell_type": "markdown",
   "metadata": {},
   "source": [
    "# Modeling the LMC high mass X-ray binaries population with MCMC"
   ]
  },
  {
   "cell_type": "markdown",
   "metadata": {},
   "source": [
    "### Jeff J. Andrews, Andreas Zezas, Tassos Fragos, et al."
   ]
  },
  {
   "cell_type": "code",
   "execution_count": 1,
   "metadata": {
    "collapsed": false
   },
   "outputs": [
    {
     "name": "stderr",
     "output_type": "stream",
     "text": [
      "/Library/Python/2.7/site-packages/IPython/kernel/__init__.py:13: ShimWarning: The `IPython.kernel` package has been deprecated. You should import from ipykernel or jupyter_client instead.\n",
      "  \"You should import from ipykernel or jupyter_client instead.\", ShimWarning)\n"
     ]
    }
   ],
   "source": [
    "import os\n",
    "import time\n",
    "import glob\n",
    "import numpy as np\n",
    "import matplotlib.pyplot as plt\n",
    "import matplotlib.cm as cm\n",
    "from scipy.interpolate import interp1d, interp2d\n",
    "from scipy.stats import maxwell, norm, uniform, powerlaw, truncnorm\n",
    "from scipy import optimize\n",
    "import emcee\n",
    "import corner\n",
    "from astropy.coordinates import SkyCoord\n",
    "\n",
    "%matplotlib inline"
   ]
  },
  {
   "cell_type": "markdown",
   "metadata": {},
   "source": [
    "### Constants"
   ]
  },
  {
   "cell_type": "code",
   "execution_count": 2,
   "metadata": {
    "collapsed": false
   },
   "outputs": [],
   "source": [
    "G = 6.674e-8 # Gravitational constant in cgs\n",
    "GGG = 1.909e5 # Gravitational constant in Rsun * (km/s)^2 / Msun\n",
    "km_to_cm = 1.0e5 # km to cm\n",
    "Msun_to_g = 1.989e33 # Msun to g\n",
    "Rsun_to_cm = 6.995e10 # Rsun to cm\n",
    "AU_to_cm = 1.496e13 # AU to cm\n",
    "pc_to_cm = 3.086e18 # parsec to cm\n",
    "pc_to_km = 3.086e13 # parsec to km\n",
    "yr_to_sec = 31557600.0 # Sec in yr\n",
    "asec_to_rad = 4.84814e-6 # Arcsec to radians\n",
    "\n",
    "M_0 = 0.073 # in Msun\n",
    "xi = 0.704\n",
    "M_NS = 1.35\n",
    "#v_wind = 1000.0 # companion velocity in km/s\n",
    "R_NS = 12.0  # NS radius in km"
   ]
  },
  {
   "cell_type": "markdown",
   "metadata": {},
   "source": [
    "### Load SSE data"
   ]
  },
  {
   "cell_type": "code",
   "execution_count": 3,
   "metadata": {
    "collapsed": false
   },
   "outputs": [],
   "source": [
    "names = [\"time\",\"mass\",\"mdot\",\"radius\"]\n",
    "\n",
    "f_list = glob.glob(\"../data/sse_data/mdot_*.dat\")\n",
    "\n",
    "f_list = np.sort(f_list)\n",
    "\n",
    "# Create empty data storage structure\n",
    "sse_data = np.recarray(0, names=names, formats=['f8,float64,float64'])\n",
    "\n",
    "func_sse_mdot = np.array([])\n",
    "func_sse_mass = np.array([])\n",
    "func_sse_radius = np.array([])\n",
    "sse_tmp_mass = np.array([])\n",
    "sse_tmp_time = np.array([])\n",
    "sse_tmp_radius = np.array([])\n",
    "\n",
    "for f in f_list:\n",
    "    datafile = os.path.abspath(f)\n",
    "    sse_tmp_data = np.genfromtxt(datafile, usecols=(0,2,3,4), dtype=\"f8,float64,float64,float64\", skip_header=1, names=names)\n",
    "    \n",
    "#    func_sse_mass = np.append(func_sse_mass, interp1d(sse_tmp_data[\"time\"], sse_tmp_data[\"mass\"], bounds_error=False, fill_value=0.0))    \n",
    "#    func_sse_mdot = np.append(func_sse_mdot, interp1d(sse_tmp_data[\"time\"], sse_tmp_data[\"mdot\"], bounds_error=False, fill_value=0.0))\n",
    "    func_sse_mass = np.append(func_sse_mass, interp1d(sse_tmp_data[\"time\"], sse_tmp_data[\"mass\"], bounds_error=False, fill_value=sse_tmp_data[\"mass\"][-1]))    \n",
    "    func_sse_mdot = np.append(func_sse_mdot, interp1d(sse_tmp_data[\"time\"], sse_tmp_data[\"mdot\"], bounds_error=False, fill_value=0.0))\n",
    "    func_sse_radius = np.append(func_sse_radius, interp1d(sse_tmp_data[\"time\"], sse_tmp_data[\"radius\"], bounds_error=False, fill_value=0.0))\n",
    "    \n",
    "    sse_tmp_time = np.append(sse_tmp_time, max(sse_tmp_data[\"time\"])-1.0)\n",
    "    sse_tmp_mass = np.append(sse_tmp_mass, sse_tmp_data[\"mass\"][0])\n",
    "    sse_tmp_radius = np.append(sse_tmp_radius, max(sse_tmp_data[\"radius\"]))\n",
    "    \n",
    "# Lifetime function\n",
    "func_sse_tmax = interp1d(sse_tmp_mass, sse_tmp_time, bounds_error=False, fill_value=0.0)\n",
    "func_sse_min_mass = interp1d(sse_tmp_time, sse_tmp_mass, bounds_error=False, fill_value=1.0)\n",
    "func_sse_rmax = interp1d(sse_tmp_radius, sse_tmp_time, bounds_error=False, fill_value=0.0)"
   ]
  },
  {
   "cell_type": "code",
   "execution_count": 4,
   "metadata": {
    "collapsed": false
   },
   "outputs": [],
   "source": [
    "def func_get_sse_star(mass, time):\n",
    "\n",
    "    mass_out = np.array([])\n",
    "    mdot_out = np.array([])\n",
    "    radius_out = np.array([])\n",
    "\n",
    "    if isinstance(mass, np.ndarray):\n",
    "        \n",
    "        if len(mass) == 1:\n",
    "            mass_out = np.append(mass_out, func_sse_mass[int(mass*100.0)-100](time))\n",
    "            mdot_out = np.append(mdot_out, func_sse_mdot[int(mass*100.0)-100](time))        \n",
    "            radius_out = np.append(radius_out, func_sse_radius[int(mass*100.0)-100](time))\n",
    "        else:\n",
    "            for i in np.arange(len(mass)):\n",
    "                if (int(mass[i]*100.0)-100<0 or int(mass[i]*100.0)-100>len(func_sse_mass)): continue\n",
    "                mass_out = np.append(mass_out, func_sse_mass[int(mass[i]*100.0)-100](time[i]))\n",
    "                mdot_out = np.append(mdot_out, func_sse_mdot[int(mass[i]*100.0)-100](time[i]))\n",
    "                radius_out = np.append(radius_out, func_sse_radius[int(mass[i]*100.0)-100](time[i]))\n",
    "    else:\n",
    "        mass_out = np.append(mass_out, func_sse_mass[int(mass*100.0)-100](time))\n",
    "        mdot_out = np.append(mdot_out, func_sse_mdot[int(mass*100.0)-100](time))\n",
    "        radius_out = np.append(radius_out, func_sse_radius[int(mass*100.0)-100](time))\n",
    "            \n",
    "    return mass_out, mdot_out, radius_out\n",
    "    "
   ]
  },
  {
   "cell_type": "code",
   "execution_count": 5,
   "metadata": {
    "collapsed": false
   },
   "outputs": [],
   "source": [
    "names = [\"mass\",\"he_mass\",\"t_ms\"]\n",
    "f = \"../data/sse_data/He_star.dat\"\n",
    "\n",
    "sse_he_star = np.genfromtxt(os.path.abspath(f), usecols=(0,1,2), names=names)\n",
    "\n",
    "func_sse_he_mass = interp1d(sse_he_star[\"mass\"], sse_he_star[\"he_mass\"], bounds_error=False, fill_value=0.001)\n",
    "func_sse_ms_time = interp1d(sse_he_star[\"mass\"], sse_he_star[\"t_ms\"], bounds_error=False, fill_value=-1.0e10)"
   ]
  },
  {
   "cell_type": "markdown",
   "metadata": {},
   "source": [
    "### The first mass transfer phase"
   ]
  },
  {
   "cell_type": "code",
   "execution_count": 6,
   "metadata": {
    "collapsed": false
   },
   "outputs": [],
   "source": [
    "# To Do: Check for thermal timescale MT criterion\n",
    "\n",
    "def func_MT_forward(M_1_in, M_2_in, A_in):\n",
    "\n",
    "    M_1_out = M_0 * M_1_in**(1./xi)\n",
    "    M_2_out = M_1_in + M_2_in - M_1_out\n",
    "    A_out = A_in * (M_1_in*M_2_in/M_1_out/M_2_out)*(M_1_in*M_2_in/M_1_out/M_2_out)\n",
    "\n",
    "    return M_1_out, M_2_out, A_out\n",
    "    \n",
    "def func_MT_backward(M_1_in, M_2_in, A_in):\n",
    "    \n",
    "    M_1_out = (M_1_in/M_0)**xi\n",
    "    M_2_out = M_2_in - M_1_out + M_1_in\n",
    "    A_out = A_in * (M_1_in*M_2_in/M_1_out/M_2_out)*(M_1_in*M_2_in/M_1_out/M_2_out)\n",
    "\n",
    "    return M_1_out, M_2_out, A_out"
   ]
  },
  {
   "cell_type": "markdown",
   "metadata": {},
   "source": [
    "### The supernova"
   ]
  },
  {
   "cell_type": "code",
   "execution_count": 7,
   "metadata": {
    "collapsed": false
   },
   "outputs": [],
   "source": [
    "# To Do: What to do about ECS kicks\n",
    "\n",
    "def func_SN_forward(M_1_in, M_2, A_in, v_k, theta, phi):\n",
    "    \n",
    "    v_r = np.sqrt(GGG*(M_1_in + M_2)/A_in)\n",
    "    v_1 = np.sqrt(2.0*v_k*v_r*np.cos(theta) + v_k*v_k + v_r*v_r)\n",
    "    \n",
    "    A_out = 1.0 / (2.0/A_in - v_1*v_1/(GGG*(M_NS+M_2)))\n",
    "#    v_sys = (M_NS / (M_NS + M_2)) * v_1\n",
    "    \n",
    "    # Systemic velocity    \n",
    "    alpha = (M_1_in / (M_1_in + M_2))    \n",
    "    beta = (M_NS / (M_NS + M_2))\n",
    "    \n",
    "    v_sys = beta*beta*v_k*v_k\n",
    "    v_sys = v_sys + v_r*v_r*(beta-alpha)*(beta-alpha)\n",
    "    v_sys = v_sys + 2.0*beta*v_k*v_r*np.cos(theta)*(beta-alpha)\n",
    "    v_sys = np.sqrt(v_sys)\n",
    "    \n",
    "    # Eccentricity\n",
    "    e_tmp = v_k*v_k*np.cos(theta)*np.cos(theta) \n",
    "    e_tmp = e_tmp + v_k*v_k*np.sin(theta)*np.sin(theta)*np.sin(phi)*np.sin(phi) \n",
    "    e_tmp = e_tmp + 2.0*v_k*v_r*np.cos(theta)\n",
    "    e_tmp = e_tmp + v_r*v_r\n",
    "    e_tmp = 1.0 - (A_in*A_in)/(A_out*GGG*(M_NS+M_2)) * e_tmp\n",
    "        \n",
    "    if isinstance(e_tmp, np.ndarray):\n",
    "        ecc = np.array([np.sqrt(x) if x > 0.0 or M_2 > min_mass else -1.0 for x in e_tmp])\n",
    "    else:\n",
    "        if e_tmp < 0.0 or M_2 < min_mass: return A_out, v_sys, -1.0\n",
    "        ecc = np.sqrt(e_tmp)\n",
    "    \n",
    "    return A_out, v_sys, ecc\n"
   ]
  },
  {
   "cell_type": "markdown",
   "metadata": {},
   "source": [
    "### The wind accreting phase"
   ]
  },
  {
   "cell_type": "code",
   "execution_count": 8,
   "metadata": {
    "collapsed": false
   },
   "outputs": [],
   "source": [
    "# To Do: What happens when companion's lifetime falls between primary's MS lifetime and stellar lifetime?\n",
    "# To Do: Remove RLOF systems\n",
    "\n",
    "def func_get_time(M1, M2, t_obs):\n",
    "\n",
    "    t_lifetime_1 = func_sse_ms_time(M1)\n",
    "    he_mass_1 = func_sse_he_mass(M1)\n",
    "    \n",
    "    t_lifetime_2 = func_sse_ms_time(M2)\n",
    "    he_mass_2 = func_sse_he_mass(M2)\n",
    "    \n",
    "    # Relative lifetime through star 2 at mass gain\n",
    "    he_mass = t_lifetime_1/t_lifetime_2 * he_mass_2\n",
    "    \n",
    "    # Get new secondary parameters\n",
    "    mass_new = M2 + M1 - he_mass_1\n",
    "    t_lifetime_new = func_sse_ms_time(mass_new)\n",
    "    he_mass_new = func_sse_he_mass(mass_new)\n",
    "\n",
    "    # New, effective lifetime\n",
    "    t_eff = he_mass / he_mass_new * t_lifetime_new\n",
    "    \n",
    "    # Now, we obtain the \"effective observed time\"\n",
    "    return t_eff + t_obs - t_lifetime_1\n",
    "         \n",
    "    \n",
    "    \n",
    "def get_v_wind(mass, radius):\n",
    "    \n",
    "    slope = (7.0 - 0.5) / (120.0 - 1.4)\n",
    "    intercept = 7.0 - 120.0 * slope\n",
    "    \n",
    "    beta = slope * mass + intercept\n",
    "    \n",
    "    return np.sqrt(2.0 * beta * GGG * mass / radius)\n",
    "    \n",
    "    \n",
    "    \n",
    "def func_Lx_forward(M_1_a, M_2_a, M_2_in, A_in, t_obs):\n",
    "    \n",
    "    t_eff_obs = func_get_time(M_1_a, M_2_a, t_obs)\n",
    "    \n",
    "    if isinstance(t_eff_obs, np.ndarray):\n",
    "        M_2_out = np.array([])\n",
    "        M_dot_wind = np.array([])\n",
    "        R_out = np.array([])\n",
    "        for i in np.arange(len(t_eff_obs)):\n",
    "            if (t_eff_obs[i] < 0.0): \n",
    "                if isinstance(M_2_in, np.ndarray):\n",
    "                    M_2_out = np.append(M_2_out, M_2_in[i])\n",
    "                else:\n",
    "                    M_2_out = np.append(M_2_out, M_2_in)\n",
    "                M_dot_wind = np.append(M_dot_wind, 0.0)\n",
    "                R_out = np.append(R_out, 0.0)\n",
    "            else:\n",
    "                if isinstance(M_2_in, np.ndarray):\n",
    "                    if M_2_in[i] > max_mass: \n",
    "                        a, b, c = 0.0, 0.0, 0.0\n",
    "                    else:\n",
    "                        a, b, c = func_get_sse_star(M_2_in[i], t_eff_obs[i])\n",
    "                else:\n",
    "                    if M_2_in > max_mass: \n",
    "                        a, b, c = 0.0, 0.0, 0.0\n",
    "                    else:\n",
    "                        a, b, c = func_get_sse_star(M_2_in, t_eff_obs[i])\n",
    "\n",
    "                M_2_out = np.append(M_2_out, a)\n",
    "                M_dot_wind = np.append(M_dot_wind, b)    \n",
    "                R_out = np.append(R_out, c)\n",
    "    else:\n",
    "        if (t_eff_obs < 0.0 or M_2_in > max_mass): \n",
    "            M_2_out = M_2_in\n",
    "            M_dot_wind = 0.0\n",
    "            R_out = 0.0\n",
    "        else:\n",
    "            M_2_out, M_dot_wind, R_out = func_get_sse_star(M_2_in, t_eff_obs)\n",
    "\n",
    "    # Get wind velocity\n",
    "    v_wind = get_v_wind(M_2_out, R_out)\n",
    "    \n",
    "    # Get final orbital separation\n",
    "    A_out = (M_NS + M_2_in) / (M_NS + M_2_out) * A_in\n",
    "    \n",
    "    f_capture = (GGG*M_NS / (v_wind*v_wind*A_out))**2\n",
    "    M_dot_out = f_capture * M_dot_wind\n",
    "        \n",
    "    L_bol = GGG * M_NS * M_dot_out / R_NS * km_to_cm * Msun_to_g * Rsun_to_cm / yr_to_sec\n",
    "    L_x = L_bol\n",
    "        \n",
    "    \n",
    "    return M_2_out, L_x\n",
    "    \n",
    "    \n",
    "    \n",
    "def func_Lx_backward(M_1_a, M_2_a, M_2_in, L_x, t_obs):\n",
    "\n",
    "    p = [M_1_a, M_2_a, M_2_in, L_x, t_obs]\n",
    "\n",
    "    # Root finder to get secondary mass\n",
    "    init_val = M_2_in\n",
    "    sol = optimize.root(func_wrapper_Lx, x0 = init_val, args=p, method='hybr', options={'xtol':1.0e-3, 'eps':1.0e-3})\n",
    "    M_2_out = sol.x\n",
    "\n",
    "    if M_2_out < 1.0 or M_2_out > 39.0: return -1.0, -1.0\n",
    "    \n",
    "    # Now, to get orbital separation\n",
    "    t_eff_obs = func_get_time(M_1_a, M_2_a, t_obs)\n",
    "    M_2_tmp, M_dot_wind = func_get_sse_star(M_2_out, t_eff_obs)\n",
    "    \n",
    "    M_dot_acc = L_x / ( GGG * M_NS / R_NS * km_to_cm * Msun_to_g * Rsun_to_cm / yr_to_sec )\n",
    "    A_tmp = (GGG*M_NS / (v_wind*v_wind)) * np.sqrt(M_dot_wind/M_dot_acc)\n",
    "    A_out = (M_NS + M_2_in) / (M_NS + M_2_out) * A_tmp\n",
    "\n",
    "\n",
    "    return sol.x, A_out\n",
    "    \n",
    "    \n",
    "    \n",
    "def func_wrapper_Lx(x, p):\n",
    "\n",
    "    M_1_a, M_2_a, M_2_in, L_x, t_obs = p\n",
    "\n",
    "    if x[0]<1.0 or x[0]>39.0: return np.inf\n",
    "    \n",
    "    M_2_tmp, L_x_tmp = func_Lx_forward(M_1_a, M_2_a, x[0], 1.0e3, t_obs)\n",
    "\n",
    "    return float(abs(M_2_tmp - M_2_in))\n",
    "#    return [float(abs(M_2_tmp - M_2_in)), float(abs(L_x_tmp - L_x)) ]\n"
   ]
  },
  {
   "cell_type": "markdown",
   "metadata": {},
   "source": [
    "## LMC star formation data"
   ]
  },
  {
   "cell_type": "code",
   "execution_count": 9,
   "metadata": {
    "collapsed": true
   },
   "outputs": [],
   "source": [
    "# radian to dec and vice-versa functions\n",
    "\n",
    "def dec_to_rad(theta):\n",
    "    return np.pi * theta / 180.0\n",
    "def rad_to_dec(theta):\n",
    "    return 180.0 * theta / np.pi\n"
   ]
  },
  {
   "cell_type": "code",
   "execution_count": 10,
   "metadata": {
    "collapsed": false
   },
   "outputs": [],
   "source": [
    "# Create an empty array to start with\n",
    "dtypes = [('region','<S10'), \\\n",
    "          ('log_age','<f8'), \\\n",
    "          ('sfh_z008','<f8'), \\\n",
    "          ('sfh_z004','<f8'), \\\n",
    "          ('sfh_z0025','<f8'), \\\n",
    "          ('sfh_z001','<f8')]\n",
    "lmc_sfh = np.recarray(0, dtype=dtypes)\n",
    "out_line = np.recarray(1, dtype=dtypes)\n",
    "\n",
    "\n",
    "with open(\"../data/lmc_data/lmc_sfh_reduced.dat\") as f:\n",
    "    line_num = 0\n",
    "\n",
    "    for line in f:\n",
    "        line_num += 1\n",
    "\n",
    "        if line_num < 17: continue\n",
    "        if \"Region\" in line: \n",
    "            region = np.array(line.split()[2]).astype(np.str)\n",
    "        elif \"(\" in line:\n",
    "            1 == 1\n",
    "        else:\n",
    "            line_data = line.split()\n",
    "            line_data = np.array(line_data).astype(np.float64)\n",
    "            out_line[0][0] = region\n",
    "            out_line[0][1] = line_data[0]\n",
    "            out_line[0][2] = line_data[1]\n",
    "            out_line[0][3] = line_data[4]\n",
    "            out_line[0][4] = line_data[7]\n",
    "            out_line[0][5] = line_data[10]\n",
    "\n",
    "            lmc_sfh = np.append(lmc_sfh, out_line[0])"
   ]
  },
  {
   "cell_type": "code",
   "execution_count": 11,
   "metadata": {
    "collapsed": true
   },
   "outputs": [],
   "source": [
    "# Load region coordinates\n",
    "\n",
    "\n",
    "data_file = os.path.abspath(\"../data/lmc_data/lmc_coordinates.dat\")\n",
    "lmc_coor_2 = np.genfromtxt(data_file, dtype=\"S10,S2,S2,S3,S2\", names=names)\n",
    "\n",
    "lmc_coor = np.recarray(0, dtype=[('region','<S10'),('ra','float64'),('dec','float64')])\n",
    "tmp = np.recarray(1, dtype=[('region','<S10'),('ra','float64'),('dec','float64')])\n",
    "\n",
    "\n",
    "for coor in lmc_coor_2:\n",
    "    ra = str(coor[1])+\"h\"+str(coor[2])+\"m\"\n",
    "    dec = str(coor[3])+\"d\"+str(coor[4])+\"m\"\n",
    "\n",
    "    region = coor[0]\n",
    "    \n",
    "    coor = SkyCoord(ra, dec)\n",
    "    \n",
    "    tmp[\"region\"] = region\n",
    "    tmp[\"ra\"] = coor.ra.degree\n",
    "    tmp[\"dec\"] = coor.dec.degree\n",
    "\n",
    "    lmc_coor = np.append(lmc_coor, tmp)\n"
   ]
  },
  {
   "cell_type": "code",
   "execution_count": 61,
   "metadata": {
    "collapsed": true
   },
   "outputs": [],
   "source": [
    "SF_history = np.array([])\n",
    "\n",
    "regions = np.unique(lmc_sfh[\"region\"])\n",
    "\n",
    "\n",
    "age = np.array([])\n",
    "sfr = np.array([])\n",
    "for r in regions:\n",
    "\n",
    "    age = lmc_sfh[\"log_age\"][np.where(lmc_sfh[\"region\"] == r)]\n",
    "    sfr = lmc_sfh[\"sfh_z008\"][np.where(lmc_sfh[\"region\"] == r)]\n",
    "\n",
    "    SF_history = np.append(SF_history, interp1d(age[::-1], sfr[::-1], bounds_error=False, fill_value=0.0))\n",
    "\n",
    "\n",
    "def get_SFH(ra, dec, t_b):\n",
    "    \"\"\" Returns the star formation rate in Msun/Myr for a sky position and age. \"\"\"\n",
    "    ra1 = dec_to_rad(ra)\n",
    "    dec1 = dec_to_rad(dec)\n",
    "    ra2 = dec_to_rad(lmc_coor[\"ra\"])\n",
    "    dec2 = dec_to_rad(lmc_coor[\"dec\"])\n",
    "    \n",
    "    dist = np.sqrt((ra1-ra2)**2*np.cos(dec1)*np.cos(dec2) + (dec1-dec2)**2)\n",
    "    index = np.argmin(dist)\n",
    "    \n",
    "    return rad_to_dec(dist[index]), SF_history[index](np.log10(t_b*1.0e6))\n"
   ]
  },
  {
   "cell_type": "code",
   "execution_count": 95,
   "metadata": {
    "collapsed": false
   },
   "outputs": [
    {
     "data": {
      "image/png": "[encoded data removed]",
      "text/plain": [
       "<matplotlib.figure.Figure at 0x10b3c7310>"
      ]
     },
     "metadata": {},
     "output_type": "display_data"
    }
   ],
   "source": [
    "# Star formation history region centers\n",
    "plt.scatter(lmc_coor[\"ra\"], lmc_coor[\"dec\"])\n",
    "\n",
    "age = 10.0 # Myr\n",
    "for l in lmc_coor:\n",
    "    if get_SFH(l[\"ra\"], l[\"dec\"], age)[1] > 10.0: \n",
    "        plt.scatter(l[\"ra\"], l[\"dec\"], color='r')\n",
    "\n",
    "plt.show()\n"
   ]
  },
  {
   "cell_type": "code",
   "execution_count": 96,
   "metadata": {
    "collapsed": false
   },
   "outputs": [
    {
     "data": {
      "image/png": "[encoded data removed]",
      "text/plain": [
       "<matplotlib.figure.Figure at 0x1096c4990>"
      ]
     },
     "metadata": {},
     "output_type": "display_data"
    }
   ],
   "source": [
    "\n",
    "plt.figure(figsize=(12,12))\n",
    "\n",
    "def get_LMC_plot(age):\n",
    "    sfr = np.array([])\n",
    "    for i in np.arange(len(lmc_coor)):\n",
    "        sfr = np.append(sfr, get_SFH(lmc_coor[\"ra\"][i], lmc_coor[\"dec\"][i], age)[1])\n",
    "\n",
    "    plt.tricontourf(lmc_coor[\"ra\"], lmc_coor[\"dec\"], sfr)\n",
    "    plt.title(str(int(age)) + ' Myr')\n",
    "    plt.ylim(-73, -64)\n",
    "\n",
    "    return plt\n",
    "    \n",
    "\n",
    "    \n",
    "plt.subplot(3,3,1)\n",
    "get_LMC_plot(7.0)\n",
    "\n",
    "plt.subplot(3,3,2)\n",
    "get_LMC_plot(10.0)\n",
    "\n",
    "plt.subplot(3,3,3)\n",
    "get_LMC_plot(15.0)\n",
    "\n",
    "plt.subplot(3,3,4)\n",
    "get_LMC_plot(20.0)\n",
    "\n",
    "plt.subplot(3,3,5)\n",
    "get_LMC_plot(25.0)\n",
    "\n",
    "plt.subplot(3,3,6)\n",
    "get_LMC_plot(30.0)\n",
    "\n",
    "plt.subplot(3,3,7)\n",
    "get_LMC_plot(40.0)\n",
    "\n",
    "plt.subplot(3,3,8)\n",
    "get_LMC_plot(60.0)\n",
    "\n",
    "plt.subplot(3,3,9)\n",
    "get_LMC_plot(90.0)\n",
    "\n",
    "plt.show()\n",
    "\n",
    "# Area = 64 deg^2"
   ]
  },
  {
   "cell_type": "markdown",
   "metadata": {},
   "source": [
    "## Now let's put together the MCMC functions"
   ]
  },
  {
   "cell_type": "code",
   "execution_count": 14,
   "metadata": {
    "collapsed": false
   },
   "outputs": [],
   "source": [
    "min_mass = 8.0\n",
    "max_mass = 39.0\n",
    "min_A = 1.0e2\n",
    "max_A = 1.0e4\n",
    "v_k_sigma = 265.0\n",
    "alpha = -2.35\n",
    "\n",
    "dist_LMC = 5.0e4 * pc_to_km # Distance in km"
   ]
  },
  {
   "cell_type": "markdown",
   "metadata": {},
   "source": [
    "### Priors"
   ]
  },
  {
   "cell_type": "code",
   "execution_count": 16,
   "metadata": {
    "collapsed": false
   },
   "outputs": [],
   "source": [
    "# Priors\n",
    "def ln_priors(y):\n",
    "    \n",
    "    M1, M2, A, v_k, theta, phi, ra_b, dec_b, t_b = y\n",
    "    \n",
    "    lp = 0.0\n",
    "        \n",
    "    # P(M1)\n",
    "    if M1 < min_mass or M1 > max_mass: return -np.inf\n",
    "    norm_const = (alpha+1.0) / (np.power(max_mass, alpha+1.0) - np.power(min_mass, alpha+1.0))\n",
    "    lp += np.log( norm_const * np.power(M1, alpha) )\n",
    "\n",
    "    # P(M2)\n",
    "    q = M2 / M1\n",
    "    if q < 0.3 or q > 1.0: return -np.inf\n",
    "    lp += np.log( (1.0 / 0.7) * (1.0 / M1 ) )\n",
    "\n",
    "    # P(A)\n",
    "    if A < min_A or A > max_A: return -np.inf\n",
    "    norm_const = np.log(max_A) - np.log(min_A)\n",
    "    lp += np.log( norm_const / A )\n",
    "\n",
    "    # P(v_k)\n",
    "    if v_k < 0.0: return -np.inf\n",
    "    lp += np.log( maxwell.pdf(v_k, scale=v_k_sigma) )\n",
    "\n",
    "    # P(theta)\n",
    "    if theta < 0.0 or theta > np.pi: return -np.inf\n",
    "    lp += np.log(np.sin(theta) / 2.0)\n",
    "\n",
    "    # P(phi)\n",
    "    if phi < 0.0 or phi > 2.0*np.pi: return -np.inf\n",
    "    lp += -np.log( 2.0*np.pi )\n",
    "\n",
    "    # Get star formation history\n",
    "    dist_closest, sfh = get_SFH(ra_b, dec_b, t_b)\n",
    "\n",
    "    # P(alpha, delta)\n",
    "    # Closest point must be within survey. We estimate using the\n",
    "    # field of view of the CCD in the survey: 24' x 24' which is\n",
    "    # 0.283 degrees from center to corner. We round up to 0.3\n",
    "    # Area probability depends only on declination\n",
    "    if dist_closest > 0.3: return -np.inf    \n",
    "    lp += np.log(np.cos(np.pi/180.0 * dec_b) / 64.0)\n",
    "    \n",
    "    # P(t_b | alpha, delta)\n",
    "    sfh_normalization = 1.0e-6\n",
    "    lp += np.log(sfh_normalization * sfh)\n",
    "    \n",
    "    # Add a prior so that the post-MT secondary is within the correct bounds\n",
    "    M2_c = M1 + M2 - 0.073 * np.power(M1, 1.0/0.704)\n",
    "    if M2_c > max_mass or M2_c < min_mass: return -np.inf\n",
    "\n",
    "    # M1 must be massive enough to evolve off the MS by t_obs\n",
    "    if func_sse_tmax(M1) > t_b: return -np.inf\n",
    "    \n",
    "    # Add a prior so the effective time remains bounded\n",
    "    t_eff_obs = func_get_time(M1, M2, t_b)\n",
    "    if t_eff_obs < 0.0: return -np.inf\n",
    "\n",
    "    return lp"
   ]
  },
  {
   "cell_type": "markdown",
   "metadata": {},
   "source": [
    "### Posterior function"
   ]
  },
  {
   "cell_type": "code",
   "execution_count": 17,
   "metadata": {
    "collapsed": false
   },
   "outputs": [],
   "source": [
    "def get_theta_proj(ra, dec, ra_b, dec_b):\n",
    "    return np.sqrt((ra_b-ra)**2 * np.cos(dec)*np.cos(dec_b) + (dec_b-dec)**2)\n",
    "\n",
    "\n",
    "def ln_posterior(x, args):\n",
    "    \n",
    "    M1, M2, A, v_k, theta, phi, ra_b, dec_b, t_b = x\n",
    "    M2_d, L_x, ra, dec = args\n",
    "    \n",
    "    # Call priors    \n",
    "    lp = ln_priors(x)\n",
    "    if np.isinf(lp): return -np.inf\n",
    "    \n",
    "    ll = 0\n",
    "\n",
    "    M1_b, M2_b, A_b = func_MT_forward(M1, M2, A)\n",
    "    A_c, v_sys, ecc = func_SN_forward(M1_b, M2_b, A_b, v_k, theta, phi)\n",
    "    M2_d_out, L_x_out = func_Lx_forward(M1, M2, M2_b, A_c, t_b)\n",
    "             \n",
    "    # If system disrupted, return -infty\n",
    "    if ecc < 0.0 or ecc > 1.0 or np.isnan(ecc): return -np.inf\n",
    "    \n",
    "    # Observed secondary mass\n",
    "    delta_M_err = 0.2\n",
    "    coeff_M = -0.5 * np.log( 2. * np.pi * delta_M_err*delta_M_err )\n",
    "    argument_M = -( M2_d - M2_d_out ) * ( M2_d - M2_d_out ) / ( 2. * delta_M_err*delta_M_err )\n",
    "    ll += coeff_M + argument_M\n",
    "\n",
    "    # Observed X-ray luminosity\n",
    "    delta_ln_L_x_err = 0.2\n",
    "    coeff_ln_L_x = -0.5 * np.log( 2. * np.pi * delta_ln_L_x_err*delta_ln_L_x_err )\n",
    "    argument_ln_L_x = -( np.log(L_x) - np.log(L_x_out) ) * ( np.log(L_x) - np.log(L_x_out) ) / ( 2. * delta_ln_L_x_err*delta_ln_L_x_err )\n",
    "    ll += coeff_ln_L_x + argument_ln_L_x\n",
    "\n",
    "    ######## Under Construction #######\n",
    "    theta_proj = get_theta_proj(ra, dec, ra_b, dec_b)  # Projected travel distance\n",
    "    t_sn = (t_b - func_sse_tmax(M1)) * Myr_to_yr * yr_to_sec  # The time since the primary's core collapse\n",
    "    tmp = (v_sys * t_sn) / Dist_LMC  # Unitless\n",
    "    conds = [theta_proj>tmp, theta_proj<=tmp]  # Define conditional\n",
    "    funcs = [lambda theta_proj: 0., lambda theta_proj: np.tan(np.arcsin(theta_proj/tmp))/tmp]\n",
    "    ll += np.log(np.piecewise(theta_proj, conds, funcs))\n",
    "    \n",
    "    # Observed distance from the birth cluster\n",
    "#    t_travel = (t_b - func_sse_tmax(M1)) * 1.0e6 * yr_to_sec\n",
    "#    sin_theta = theta_proj * dist_LMC / (v_sys * t_travel)\n",
    "#    if sin_theta < 0.0 or sin_theta > 1.0: return -np.inf  # sine must be bounded\n",
    "\n",
    "#    cos_theta = np.sqrt(1.0 - sin_theta*sin_theta)\n",
    "#    prob = sin_theta / cos_theta * v_sys * t_travel / dist_LMC\n",
    "#    ll += np.log(prob)\n",
    "        \n",
    "    if np.isnan(ll): return -np.inf\n",
    "        \n",
    "    return ll + lp"
   ]
  },
  {
   "cell_type": "code",
   "execution_count": null,
   "metadata": {
    "collapsed": true
   },
   "outputs": [],
   "source": []
  },
  {
   "cell_type": "markdown",
   "metadata": {},
   "source": [
    "### emcee wrapper"
   ]
  },
  {
   "cell_type": "code",
   "execution_count": null,
   "metadata": {
    "collapsed": false
   },
   "outputs": [],
   "source": [
    "# This function runs emcee\n",
    "def run_emcee(M2_d, L_x, ra, dec, nburn=1000, nsteps=1000):\n",
    "\n",
    "    \n",
    "    # Get initial values\n",
    "    initial_vals = get_initial_values(M2_d)\n",
    "\n",
    "    \n",
    "    # Define sampler\n",
    "    nwalkers = 32\n",
    "    args = [[M2_d, L_x, ra, dec]]\n",
    "    sampler = emcee.EnsembleSampler(nwalkers=nwalkers, dim=9, lnpostfn=ln_posterior, args=args)\n",
    "\n",
    "    \n",
    "    # Assign initial values\n",
    "    p0 = np.zeros((nwalkers,9))\n",
    "    p0 = set_walkers(initial_vals, args[0])\n",
    "    print ln_posterior(p0[0], args[0])\n",
    "\n",
    "    \n",
    "    # Burn-in\n",
    "    pos,prob,state = sampler.run_mcmc(p0, N=nburn)\n",
    "\n",
    "    \n",
    "    # Full run\n",
    "    sampler.reset()\n",
    "    pos,prob,state = sampler.run_mcmc(pos, N=nsteps)\n",
    "    \n",
    "    \n",
    "    return sampler\n",
    "\n",
    "def set_walkers(initial_masses, args, nwalkers=32):\n",
    "    \n",
    "    M2_d, L_x, ra, dec = args   \n",
    "    \n",
    "    p0 = np.zeros((nwalkers,9))\n",
    "    p0[:,0] = initial_masses.T[0] # M1\n",
    "    p0[:,1] = initial_masses.T[1] # M2\n",
    "    \n",
    "    p0[:,2] = np.power(10.0, np.random.uniform(2.0, 3.0, size=nwalkers)) # A\n",
    "    p0[:,3] = np.random.normal(50.0, 10.0, size=nwalkers) # v_k\n",
    "    p0[:,4] = np.random.normal(np.pi, 0.2, size=nwalkers) # theta\n",
    "    p0[:,5] = np.random.normal(1.0, 0.2, size=nwalkers) # phi  \n",
    "    p0[:,6] = np.random.normal(ra, 1.0, size=nwalkers) # ra\n",
    "    p0[:,7] = np.random.normal(dec, 1.0, size=nwalkers) # dec\n",
    "    p0[:,8] = initial_masses.T[2] # t_b\n",
    "\n",
    "    for i in np.arange(nwalkers):\n",
    "        counter = 0\n",
    "        \n",
    "        prob = ln_posterior(p0[i], args)\n",
    "        while(np.isinf(prob)):\n",
    "            p0[i,2] = np.power(10.0, np.random.uniform(2.0, 3.0)) # A\n",
    "            p0[i,3] = np.random.normal(50.0, 10.0) # v_k\n",
    "            p0[i,4] = np.random.normal(np.pi, 0.2) # theta\n",
    "            p0[i,5] = np.random.normal(1.0, 0.2) # phi  \n",
    "            p0[i,6] = np.random.normal(ra, 1.0, size=nwalkers) # ra\n",
    "            p0[i,7] = np.random.normal(dec, 1.0, size=nwalkers) # dec\n",
    "#            p0[:,8] = np.random.normal(1.2 * func_sse_tmax(initial_masses.T[0]), 1.0, size=nwalkers) # t_b\n",
    "\n",
    "            prob = ln_posterior(p0[i], args)\n",
    "            \n",
    "            counter += 1\n",
    "            \n",
    "            if counter > 1000: break\n",
    "                \n",
    "    return p0"
   ]
  },
  {
   "cell_type": "markdown",
   "metadata": {},
   "source": [
    "### Choose initial values"
   ]
  },
  {
   "cell_type": "code",
   "execution_count": null,
   "metadata": {
    "collapsed": false
   },
   "outputs": [],
   "source": [
    "def get_initial_values(M2_d):\n",
    "\n",
    "\n",
    "\n",
    "    # Start by using MCMC on just the masses to get a distribution of M1 and M2\n",
    "    nwalkers = 32\n",
    "    \n",
    "    args = [[M2_d]]\n",
    "    sampler = emcee.EnsembleSampler(nwalkers=nwalkers, dim=3, lnpostfn=ln_posterior_initial, args=args)\n",
    "    \n",
    "    # Picking the initial masses and birth time will need to be optimized\n",
    "    t_b = 1.5 * func_sse_tmax(M2_d*0.6)\n",
    "    p_i = [M2_d*0.6, M2_d*0.5,t_b]\n",
    "    \n",
    "    t_eff_obs = func_get_time(p_i)\n",
    "    M_b_prime = p_i[0] + p_i[1] - 0.073*np.power(p_i[0], 1.0/0.704)\n",
    "    M_tmp, Mdot_tmp, R_tmp = func_get_sse_star(M_b_prime, t_eff_obs)\n",
    "\n",
    "    min_M = func_sse_min_mass(t_b)\n",
    "    \n",
    "    n_tries = 0\n",
    "    while t_eff_obs < 0.0 or Mdot_tmp == 0.0:\n",
    "        \n",
    "        p_i[0] = (max_mass - min_M) * np.random.uniform() + min_M\n",
    "        p_i[1] = (0.7 * np.random.uniform() + 0.3) * p_i[0]\n",
    "        p_i[2] = (np.random.uniform(5.0) + 1.2) * func_sse_tmax(M2_d*0.6)\n",
    "        \n",
    "        t_eff_obs = func_get_time(p_i)\n",
    "        if t_eff_obs < 0.0: continue\n",
    "\n",
    "        M_b_prime = p_i[0] + p_i[1] - 0.073*np.power(p_i[0], 1.0/0.704)\n",
    "        if M_b_prime > max_mass: continue\n",
    "            \n",
    "        M_tmp, Mdot_tmp, R_tmp = func_get_sse_star(M_b_prime, t_eff_obs)\n",
    "        \n",
    "        # Exit condition        \n",
    "        n_tries += 1\n",
    "        if n_tries > 100: break\n",
    "    \n",
    "    # initial positions for walkers\n",
    "    p0 = np.zeros((nwalkers,3))\n",
    "    a, b = (min_M - p_i[0]) / 0.5, (max_mass - p_i[0]) / 0.5\n",
    "    p0[:,0] = truncnorm.rvs(a, b, loc=p_i[0], scale=1.0, size=nwalkers) # M1\n",
    "    p0[:,1] = np.random.normal(p_i[1], 0.5, size=nwalkers) # M2\n",
    "    p0[:,2] = np.random.normal(p_i[2], 0.2, size=nwalkers) # t_b\n",
    "\n",
    "    # burn-in\n",
    "    pos,prob,state = sampler.run_mcmc(p0, N=100)\n",
    "    \n",
    "    return pos    "
   ]
  },
  {
   "cell_type": "markdown",
   "metadata": {},
   "source": [
    "### Initial values posterior, prior functions"
   ]
  },
  {
   "cell_type": "code",
   "execution_count": null,
   "metadata": {
    "collapsed": false
   },
   "outputs": [],
   "source": [
    "# The posterior function for the initial parameters\n",
    "def ln_posterior_initial(x, args):\n",
    "\n",
    "    M1, M2 = x\n",
    "    M2_d, t_obs = args\n",
    "\n",
    "    y = M1, M2, M2_d, t_obs\n",
    "    lp = ln_priors_initial(y)\n",
    "    if np.isinf(lp): return -np.inf\n",
    "        \n",
    "    # Get observed mass, mdot\n",
    "    t_eff_obs = func_get_time(M1, M2, t_obs)\n",
    "    M2_c = M1 + M2 - 0.073 * np.power(M1, 1.0/0.704)\n",
    "    M2_tmp, M2_dot, R_tmp = func_get_sse_star(M2_c, t_eff_obs)\n",
    "    \n",
    "    # Somewhat arbitrary definition of mass error\n",
    "    delta_M_err = 1.0\n",
    "    coeff = -0.5 * np.log( 2. * np.pi * delta_M_err*delta_M_err )\n",
    "    argument = -( M2_d - M2_tmp ) * ( M2_d - M2_tmp ) / ( 2. * delta_M_err*delta_M_err )\n",
    "        \n",
    "    return coeff + argument + lp\n",
    "\n",
    "# Prior function for the initial parameters\n",
    "def ln_priors_initial(x):\n",
    "    M1, M2, M2_d, t_obs = x\n",
    "\n",
    "    # M1\n",
    "    if M1 < min_mass or M1 > max_mass: return -np.inf\n",
    "\n",
    "    # M2\n",
    "    if M2 < 0.3*M1 or M2 > M1: return -np.inf\n",
    "\n",
    "    # Add a prior so that the post-MT secondary is within the correct bounds\n",
    "    M2_c = M1 + M2 - 0.073 * np.power(M1, 1.0/0.704)\n",
    "    if M2_c > max_mass or M2_c < min_mass: return -np.inf\n",
    "\n",
    "    # Add a prior so the primary can go through a SN by t_obs\n",
    "    if func_sse_tmax(M1) > t_obs: return -np.inf\n",
    "    \n",
    "    # Add a prior so the effective time remains bounded\n",
    "    t_eff_obs = func_get_time(M1, M2, t_obs)\n",
    "    if t_eff_obs < 0.0: return -np.inf\n",
    "\n",
    "    # Add a prior so that only those masses with a non-zero Mdot are allowed\n",
    "    M2_tmp, M2_dot, R_tmp = func_get_sse_star(M2_c, t_eff_obs)\n",
    "    if M2_dot == 0.0: return -np.inf\n",
    "    \n",
    "    return 0.0"
   ]
  },
  {
   "cell_type": "code",
   "execution_count": null,
   "metadata": {
    "collapsed": false
   },
   "outputs": [],
   "source": [
    "def full_forward(M1, M2, A, v_k, theta, phi, t_obs):\n",
    "\n",
    "    # MT phase\n",
    "    M_1_b, M_2_b, A_b = func_MT_forward(M1, M2, A)\n",
    "\n",
    "    # SN\n",
    "    A_tmp, v_sys_tmp, e_tmp = func_SN_forward(M_1_b, M_2_b, A_b, v_k, theta, phi)\n",
    "    \n",
    "    print M1, M2, A, v_k, theta, phi, t_obs, e_tmp, M_1_b, M_2_b, A_b\n",
    "    print func_SN_forward(M_1_b, M_2_b, A_b, v_k, theta, phi)\n",
    "    \n",
    "    \n",
    "    # XRB\n",
    "    M_2_tmp, L_x_tmp = func_Lx_forward(M1, M2, M_2_b, A_tmp, t_obs)\n",
    "\n",
    "    return M_2_tmp, L_x_tmp, v_sys_tmp"
   ]
  },
  {
   "cell_type": "code",
   "execution_count": null,
   "metadata": {
    "collapsed": false
   },
   "outputs": [],
   "source": []
  },
  {
   "cell_type": "markdown",
   "metadata": {},
   "source": [
    "### Forward population synthesis test"
   ]
  },
  {
   "cell_type": "code",
   "execution_count": null,
   "metadata": {
    "collapsed": false
   },
   "outputs": [],
   "source": [
    "# Define random deviate functions\n",
    "\n",
    "def get_v_k(sigma, N):\n",
    "    return maxwell.rvs(scale = sigma, size = N)\n",
    "\n",
    "def get_theta(N):\n",
    "    return np.arccos(1.0-2.0*uniform.rvs(size = N))\n",
    "\n",
    "def get_phi(N):\n",
    "    return 2.0*np.pi*uniform.rvs(size = N)\n",
    "\n",
    "def get_M1(x1, x2, alpha, N):\n",
    "\n",
    "    A = (alpha+1.0) / (np.power(x2, alpha+1.0) - np.power(x1, alpha+1.0))\n",
    "    x = uniform.rvs(size = N)\n",
    "    \n",
    "    return np.power(x*(alpha+1.0)/A + np.power(x1, alpha+1.0), 1.0/(alpha+1.0))\n",
    "    \n",
    "# Mass ratio - uniform [0.3,1.0]\n",
    "def get_q(N):\n",
    "    return 0.7 * uniform.rvs(size = N) + 0.3 \n",
    "    \n",
    "def get_A(a1, a2, N):\n",
    "    x1 = np.log10(a1)\n",
    "    x2 = np.log10(a2)\n",
    "    \n",
    "    return np.power(10.0, (x2-x1)*uniform.rvs(size=N) + x1)"
   ]
  },
  {
   "cell_type": "code",
   "execution_count": null,
   "metadata": {
    "collapsed": false
   },
   "outputs": [],
   "source": [
    "# Get random deviates\n",
    "\n",
    "N = 100     # Number of random values to obtain\n",
    "n_bins = 100   # Number of bins for histogram\n",
    "\n",
    "M1_min = 8.0   # Minimum primary mass\n",
    "M1_max = 30.0  # Maximum primary mass\n",
    "alpha = -2.35  # IMF power law index\n",
    "sigma_Fe = 265.0  # Kick velocity maxwellian dispersion - Fe-core SN\n",
    "sigma_ECS = 50.0  # Kick velocity maxwellian dispersion - ECS\n",
    "ECS_Fe_mass = 10.0  # Mass differentiating ECS from Fe-core collapse\n",
    "A_min = 100.0  # Minimum orbital separation (Rsun)\n",
    "A_max = 2.0e5  # Maximum orbital separation (Rsun) roughly 10^3 AU\n",
    "\n",
    "\n",
    "theta = get_theta(N)\n",
    "phi = get_phi(N)\n",
    "M_1_a = get_M1(M1_min, M1_max, alpha, N)\n",
    "M_2_a = get_q(N) * M_1_a\n",
    "A_a = get_A(A_min, A_max, N)\n",
    "\n",
    "# Kick velocities depend on the core mass\n",
    "sigma = map(lambda m: sigma_ECS if m<ECS_Fe_mass else sigma_Fe, M_1_a)\n",
    "v_k = get_v_k(sigma, N)\n",
    "\n"
   ]
  },
  {
   "cell_type": "code",
   "execution_count": null,
   "metadata": {
    "collapsed": false
   },
   "outputs": [],
   "source": [
    "fig = plt.figure(figsize=(12,4))\n",
    "ax1 = fig.add_subplot(1,2,1)\n",
    "ax2 = fig.add_subplot(1,2,2)\n",
    "\n",
    "\n",
    "\n",
    "t_obs = 10.0\n",
    "M_1_b, M_2_b, A_b = func_MT_forward(M_1_a, M_2_a, A_a)\n",
    "A_tmp, v_sys_tmp, e_tmp = func_SN_forward(M_1_b, M_2_b, A_b, v_k, theta, phi)\n",
    "dist = v_sys_tmp * (t_obs - func_sse_tmax(M_1_a)) * km_to_cm / pc_to_cm * 1.0e6 * yr_to_sec\n",
    "M_2_tmp, L_x_tmp = func_Lx_forward(M_1_a, M_2_a, M_2_b, A_tmp, t_obs)\n",
    "ax1.hist(np.log10(L_x_tmp[L_x_tmp>1.0e30]), color='k', histtype='step', linestyle='solid', bins=40, label='T = 10 Myr')\n",
    "ax2.hist(dist[L_x_tmp>1.0e30], color='k', histtype='step', linestyle='solid', bins=40)\n",
    "\n",
    "t_obs = 20.0\n",
    "M_1_b, M_2_b, A_b = func_MT_forward(M_1_a, M_2_a, A_a)\n",
    "A_tmp, v_sys_tmp, e_tmp = func_SN_forward(M_1_b, M_2_b, A_b, v_k, theta, phi)\n",
    "dist = v_sys_tmp * (t_obs - func_sse_tmax(M_1_a)) * km_to_cm / pc_to_cm * 1.0e6 * yr_to_sec\n",
    "M_2_tmp, L_x_tmp = func_Lx_forward(M_1_a, M_2_a, M_2_b, A_tmp, t_obs)\n",
    "ax1.hist(np.log10(L_x_tmp[L_x_tmp>1.0e30]), color='k', histtype='step', linestyle='dashed', bins=40, label='T = 20 Myr')\n",
    "ax2.hist(dist[L_x_tmp>1.0e30], color='k', histtype='step', linestyle='dashed', bins=40)\n",
    "\n",
    "t_obs = 30.0\n",
    "M_1_b, M_2_b, A_b = func_MT_forward(M_1_a, M_2_a, A_a)\n",
    "A_tmp, v_sys_tmp, e_tmp = func_SN_forward(M_1_b, M_2_b, A_b, v_k, theta, phi)\n",
    "dist = v_sys_tmp * (t_obs - func_sse_tmax(M_1_a)) * km_to_cm / pc_to_cm * 1.0e6 * yr_to_sec\n",
    "M_2_tmp, L_x_tmp = func_Lx_forward(M_1_a, M_2_a, M_2_b, A_tmp, t_obs)\n",
    "ax1.hist(np.log10(L_x_tmp[L_x_tmp>1.0e30]), color='k', histtype='step', linestyle='dotted', bins=40, label='T = 30 Myr')\n",
    "ax2.hist(dist[L_x_tmp>1.0e30], color='k', histtype='step', linestyle='dotted', bins=40)\n",
    "\n",
    "t_obs = 40.0\n",
    "i = 25\n",
    "M_1_b, M_2_b, A_b = func_MT_forward(M_1_a, M_2_a, A_a)\n",
    "A_tmp, v_sys_tmp, e_tmp_2 = func_SN_forward(M_1_b, M_2_b, A_b, v_k, theta, phi)\n",
    "dist = v_sys_tmp * (t_obs - func_sse_tmax(M_1_a)) * km_to_cm / pc_to_cm * 1.0e6 * yr_to_sec\n",
    "M_2_tmp, L_x_tmp = func_Lx_forward(M_1_a, M_2_a, M_2_b, A_tmp, t_obs)\n",
    "ax1.hist(np.log10(L_x_tmp[L_x_tmp>1.0e30]), color='k', histtype='step', linestyle='dashdot', bins=40, label='T = 40 Myr')\n",
    "ax2.hist(dist[L_x_tmp>1.0e30], color='k', histtype='step', linestyle='dashdot', bins=40)\n",
    "\n",
    "ax1.set_xlim(30.0, 43.0)\n",
    "ax1.legend()\n",
    "\n",
    "ax2.set_xlim(0.0, 500.0)\n",
    "\n",
    "plt.show()"
   ]
  },
  {
   "cell_type": "code",
   "execution_count": null,
   "metadata": {
    "collapsed": false
   },
   "outputs": [],
   "source": [
    "i = np.where(e_tmp<1.0)[0][0]\n",
    "print M_1_a[i], M_2_a[i], A_a[i], v_k[i], theta[i], phi[i]\n",
    "\n",
    "t_obs = 40.0\n",
    "print full_forward(8.4, 7.5, 100.0, 50.0, 1.66, 1.9, 40.0)"
   ]
  },
  {
   "cell_type": "code",
   "execution_count": null,
   "metadata": {
    "collapsed": false
   },
   "outputs": [],
   "source": [
    "M1 = 8.4\n",
    "M2 = 7.5\n",
    "A = 100.0\n",
    "t_obs = 40.0\n",
    "v_k = 50.0\n",
    "theta = 1.66\n",
    "phi = 1.9\n",
    "\n",
    "M2_d, L_x, v_sys = full_forward(M1, M2, A, v_k, theta, phi, t_obs)\n",
    "t_post_SN = t_obs - func_sse_tmax(M1)\n",
    "\n",
    "#theta_proj = v_sys\n",
    "theta_proj = (t_post_SN*1.0e6*yr_to_sec) * (v_sys) * 0.9 / dist_LMC\n",
    "\n",
    "# Observed values today\n",
    "print \"Observations:\"\n",
    "print \"M_2 (current) =\", M2_d, \"Msun\"\n",
    "print \"L_x =\", L_x, \"erg/s\"\n",
    "print \"theta projected =\", theta_proj/asec_to_rad, \"asec\"\n",
    "\n",
    "# Testing\n",
    "args = M2_d, L_x, theta_proj, t_obs\n",
    "\n",
    "x = M1, M2, A, v_k, theta, phi\n",
    "y = M1, M2, A, v_k, theta, phi, t_obs\n",
    "print \"Correct vals:\", ln_priors(y), ln_posterior(x, args)\n",
    "\n",
    "\n",
    "x = 15.4, M2, A, v_k, theta, phi\n",
    "y = 15.4, M2, A, v_k, theta, phi, t_obs\n",
    "print \"Incorrect vals:\", ln_priors(y), ln_posterior(x, args)\n"
   ]
  },
  {
   "cell_type": "code",
   "execution_count": null,
   "metadata": {
    "collapsed": false
   },
   "outputs": [],
   "source": [
    "sampler = run_emcee(M2_d, L_x, theta_proj, t_obs, nburn=10, nsteps=10)\n"
   ]
  },
  {
   "cell_type": "code",
   "execution_count": null,
   "metadata": {
    "collapsed": false
   },
   "outputs": [],
   "source": [
    "print sampler.lnprobability[:,0]\n",
    "\n",
    "truths = [M1, M2, A, v_k, theta, phi]\n",
    "labels = [r\"$M_1$\", r\"$M_2$\", r\"$A$\", r\"$v_k$\", r\"$\\theta$\", r\"$\\phi$\"]\n",
    "fig = corner.corner(sampler.flatchain, labels=labels, truths=truths)"
   ]
  },
  {
   "cell_type": "code",
   "execution_count": null,
   "metadata": {
    "collapsed": false
   },
   "outputs": [],
   "source": [
    "for i in range(sampler.dim):\n",
    "    plt.figure()\n",
    "    for chain in sampler.chain[...,i]:\n",
    "        plt.plot(chain, alpha=0.25, color='k', drawstyle='steps')\n",
    "\n"
   ]
  },
  {
   "cell_type": "code",
   "execution_count": null,
   "metadata": {
    "collapsed": false
   },
   "outputs": [],
   "source": [
    "sampler = run_emcee(16.5, 1.0e30, 2.0*asec_to_rad, 20.0, nburn=5000, nsteps=5000)"
   ]
  },
  {
   "cell_type": "code",
   "execution_count": null,
   "metadata": {
    "collapsed": false
   },
   "outputs": [],
   "source": []
  },
  {
   "cell_type": "code",
   "execution_count": null,
   "metadata": {
    "collapsed": false
   },
   "outputs": [],
   "source": []
  },
  {
   "cell_type": "code",
   "execution_count": null,
   "metadata": {
    "collapsed": false
   },
   "outputs": [],
   "source": [
    "labels = [r\"$M_1$\", r\"$M_2$\", r\"$A$\", r\"$v_k$\", r\"$\\theta$\", r\"$\\phi$\"]\n",
    "fig = corner.corner(sampler.flatchain, labels=labels)\n",
    "\n",
    "plt.savefig(\"../plots/sample_corner.pdf\")"
   ]
  },
  {
   "cell_type": "code",
   "execution_count": null,
   "metadata": {
    "collapsed": false
   },
   "outputs": [],
   "source": [
    "for i in range(sampler.dim):\n",
    "    plt.figure()\n",
    "    for chain in sampler.chain[...,i]:\n",
    "        plt.plot(chain, alpha=0.25, color='k', drawstyle='steps')\n",
    "\n"
   ]
  },
  {
   "cell_type": "code",
   "execution_count": null,
   "metadata": {
    "collapsed": false
   },
   "outputs": [],
   "source": []
  },
  {
   "cell_type": "code",
   "execution_count": null,
   "metadata": {
    "collapsed": false
   },
   "outputs": [],
   "source": []
  },
  {
   "cell_type": "code",
   "execution_count": null,
   "metadata": {
    "collapsed": false
   },
   "outputs": [],
   "source": [
    "def P_to_A(M1, M2, P):\n",
    "    mu = G * (M1 + M2) * Msun_to_g\n",
    "    n = 2.0*np.pi / P / yr_to_sec\n",
    "    A = np.power(mu/(n*n), 1.0/3.0) / AU_to_cm\n",
    "    return A\n",
    "    \n",
    "def A_to_P(M1, M2, A):\n",
    "    mu = G * (M1 + M2) * Msun_to_g\n",
    "    n = np.sqrt(mu/(A**3 * AU_to_cm**3))\n",
    "    P = 2.0*np.pi / n\n",
    "    return P / yr_to_sec\n",
    "\n"
   ]
  },
  {
   "cell_type": "code",
   "execution_count": null,
   "metadata": {
    "collapsed": false
   },
   "outputs": [],
   "source": [
    "M_1_a = 1.35\n",
    "M_2_a = 4.0\n",
    "P_i = 10.0 # yrs\n",
    "v_wind = 20.0 # in km/s\n",
    "\n",
    "time = np.linspace(170.0, func_sse_tmax(M_2_a), 1000.0)\n",
    "\n",
    "m_out, mdot_out, r_out = func_get_sse_star(mass, time)\n",
    "\n",
    "A_i = P_to_A(M_1_a, M_2_a, P_i)\n",
    "A_f = A_i * (M_1_a + M_2_a) / (M_1_a + m_out)\n",
    "\n",
    "f_capture = (GGG*M_NS / (v_wind*v_wind*A_f * AU_to_cm / Rsun_to_cm))**2\n",
    "\n",
    "#plt.plot(time, A_f, color='k')\n",
    "#plt.plot(time, f_capture, color='k')\n",
    "\n",
    "\n",
    "plt.plot(time, mdot_out, color='k')\n",
    "plt.yscale('log')\n",
    "plt.xlim(213.0, 215.5)\n",
    "plt.ylim(1.0e-10, 1.0e-4)\n",
    "\n",
    "plt.show()"
   ]
  },
  {
   "cell_type": "code",
   "execution_count": null,
   "metadata": {
    "collapsed": false
   },
   "outputs": [],
   "source": []
  }
 ],
 "metadata": {
  "kernelspec": {
   "display_name": "Python 2",
   "language": "python",
   "name": "python2"
  },
  "language_info": {
   "codemirror_mode": {
    "name": "ipython",
    "version": 2
   },
   "file_extension": ".py",
   "mimetype": "text/x-python",
   "name": "python",
   "nbconvert_exporter": "python",
   "pygments_lexer": "ipython2",
   "version": "2.7.10"
  }
 },
 "nbformat": 4,
 "nbformat_minor": 0
}
